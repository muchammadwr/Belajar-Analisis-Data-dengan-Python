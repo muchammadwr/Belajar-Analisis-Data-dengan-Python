{
  "cells": [
    {
      "cell_type": "markdown",
      "metadata": {
        "id": "3OuQftSVGCVF"
      },
      "source": [
        "# Data Wrangling"
      ]
    },
    {
      "cell_type": "markdown",
      "metadata": {},
      "source": [
        "## Latihan Data Wrangling"
      ]
    },
    {
      "cell_type": "markdown",
      "metadata": {
        "id": "fe4lh0YcGMCy"
      },
      "source": [
        "### Persiapan"
      ]
    },
    {
      "cell_type": "code",
      "execution_count": 5,
      "metadata": {
        "id": "7zDCKhyjGCB6"
      },
      "outputs": [],
      "source": [
        "import numpy as np\n",
        "import pandas as pd\n",
        "import matplotlib.pyplot as plt\n",
        "import seaborn as sns\n",
        "import warnings\n",
        "warnings.filterwarnings(\"ignore\")"
      ]
    },
    {
      "cell_type": "markdown",
      "metadata": {
        "id": "YTOx5zDYGf9a"
      },
      "source": [
        "### Gathering Data"
      ]
    },
    {
      "cell_type": "markdown",
      "metadata": {},
      "source": [
        "- Memuat tabel customers"
      ]
    },
    {
      "cell_type": "code",
      "execution_count": 6,
      "metadata": {
        "colab": {
          "base_uri": "https://localhost:8080/",
          "height": 423
        },
        "id": "F-ef1GsgFguO",
        "outputId": "751c7e7a-7044-4979-cb3b-5aa190079406"
      },
      "outputs": [
        {
          "data": {
            "text/html": [
              "<div>\n",
              "<style scoped>\n",
              "    .dataframe tbody tr th:only-of-type {\n",
              "        vertical-align: middle;\n",
              "    }\n",
              "\n",
              "    .dataframe tbody tr th {\n",
              "        vertical-align: top;\n",
              "    }\n",
              "\n",
              "    .dataframe thead th {\n",
              "        text-align: right;\n",
              "    }\n",
              "</style>\n",
              "<table border=\"1\" class=\"dataframe\">\n",
              "  <thead>\n",
              "    <tr style=\"text-align: right;\">\n",
              "      <th></th>\n",
              "      <th>customer_id</th>\n",
              "      <th>customer_name</th>\n",
              "      <th>gender</th>\n",
              "      <th>age</th>\n",
              "      <th>home_address</th>\n",
              "      <th>zip_code</th>\n",
              "      <th>city</th>\n",
              "      <th>state</th>\n",
              "      <th>country</th>\n",
              "    </tr>\n",
              "  </thead>\n",
              "  <tbody>\n",
              "    <tr>\n",
              "      <th>0</th>\n",
              "      <td>1</td>\n",
              "      <td>fulan 1</td>\n",
              "      <td>Female</td>\n",
              "      <td>30</td>\n",
              "      <td>8606 Victoria TerraceSuite 560</td>\n",
              "      <td>5464</td>\n",
              "      <td>Johnstonhaven</td>\n",
              "      <td>Northern Territory</td>\n",
              "      <td>Australia</td>\n",
              "    </tr>\n",
              "    <tr>\n",
              "      <th>1</th>\n",
              "      <td>2</td>\n",
              "      <td>fulan 2</td>\n",
              "      <td>Prefer not to say</td>\n",
              "      <td>69</td>\n",
              "      <td>8327 Kirlin SummitApt. 461</td>\n",
              "      <td>8223</td>\n",
              "      <td>New Zacharyfort</td>\n",
              "      <td>South Australia</td>\n",
              "      <td>Australia</td>\n",
              "    </tr>\n",
              "    <tr>\n",
              "      <th>2</th>\n",
              "      <td>3</td>\n",
              "      <td>fulan 3</td>\n",
              "      <td>Prefer not to say</td>\n",
              "      <td>59</td>\n",
              "      <td>269 Gemma SummitSuite 109</td>\n",
              "      <td>5661</td>\n",
              "      <td>Aliburgh</td>\n",
              "      <td>Australian Capital Territory</td>\n",
              "      <td>Australia</td>\n",
              "    </tr>\n",
              "    <tr>\n",
              "      <th>3</th>\n",
              "      <td>4</td>\n",
              "      <td>fulan 4</td>\n",
              "      <td>Prefer not to say</td>\n",
              "      <td>67</td>\n",
              "      <td>743 Bailey GroveSuite 141</td>\n",
              "      <td>1729</td>\n",
              "      <td>South Justinhaven</td>\n",
              "      <td>Queensland</td>\n",
              "      <td>Australia</td>\n",
              "    </tr>\n",
              "    <tr>\n",
              "      <th>4</th>\n",
              "      <td>5</td>\n",
              "      <td>fulan 5</td>\n",
              "      <td>Prefer not to say</td>\n",
              "      <td>30</td>\n",
              "      <td>48 Hyatt ManorSuite 375</td>\n",
              "      <td>4032</td>\n",
              "      <td>Griffithsshire</td>\n",
              "      <td>Queensland</td>\n",
              "      <td>Australia</td>\n",
              "    </tr>\n",
              "  </tbody>\n",
              "</table>\n",
              "</div>"
            ],
            "text/plain": [
              "   customer_id customer_name             gender  age  \\\n",
              "0            1       fulan 1             Female   30   \n",
              "1            2       fulan 2  Prefer not to say   69   \n",
              "2            3       fulan 3  Prefer not to say   59   \n",
              "3            4       fulan 4  Prefer not to say   67   \n",
              "4            5       fulan 5  Prefer not to say   30   \n",
              "\n",
              "                     home_address  zip_code               city  \\\n",
              "0  8606 Victoria TerraceSuite 560      5464      Johnstonhaven   \n",
              "1      8327 Kirlin SummitApt. 461      8223    New Zacharyfort   \n",
              "2       269 Gemma SummitSuite 109      5661           Aliburgh   \n",
              "3       743 Bailey GroveSuite 141      1729  South Justinhaven   \n",
              "4         48 Hyatt ManorSuite 375      4032     Griffithsshire   \n",
              "\n",
              "                          state    country  \n",
              "0            Northern Territory  Australia  \n",
              "1               South Australia  Australia  \n",
              "2  Australian Capital Territory  Australia  \n",
              "3                    Queensland  Australia  \n",
              "4                    Queensland  Australia  "
            ]
          },
          "execution_count": 6,
          "metadata": {},
          "output_type": "execute_result"
        }
      ],
      "source": [
        "customers_df = pd.read_csv(\"data/customers.csv\")\n",
        "customers_df.head()"
      ]
    },
    {
      "cell_type": "markdown",
      "metadata": {},
      "source": [
        "- Load tabel orders\n"
      ]
    },
    {
      "cell_type": "code",
      "execution_count": 7,
      "metadata": {
        "colab": {
          "base_uri": "https://localhost:8080/",
          "height": 206
        },
        "id": "TgQgNs1GGwdW",
        "outputId": "861bd24b-cd32-47fb-d469-6d311e5306ac"
      },
      "outputs": [
        {
          "data": {
            "text/html": [
              "<div>\n",
              "<style scoped>\n",
              "    .dataframe tbody tr th:only-of-type {\n",
              "        vertical-align: middle;\n",
              "    }\n",
              "\n",
              "    .dataframe tbody tr th {\n",
              "        vertical-align: top;\n",
              "    }\n",
              "\n",
              "    .dataframe thead th {\n",
              "        text-align: right;\n",
              "    }\n",
              "</style>\n",
              "<table border=\"1\" class=\"dataframe\">\n",
              "  <thead>\n",
              "    <tr style=\"text-align: right;\">\n",
              "      <th></th>\n",
              "      <th>order_id</th>\n",
              "      <th>customer_id</th>\n",
              "      <th>payment</th>\n",
              "      <th>order_date</th>\n",
              "      <th>delivery_date</th>\n",
              "    </tr>\n",
              "  </thead>\n",
              "  <tbody>\n",
              "    <tr>\n",
              "      <th>0</th>\n",
              "      <td>1</td>\n",
              "      <td>64</td>\n",
              "      <td>30811</td>\n",
              "      <td>2021-8-30</td>\n",
              "      <td>2021-09-24</td>\n",
              "    </tr>\n",
              "    <tr>\n",
              "      <th>1</th>\n",
              "      <td>2</td>\n",
              "      <td>473</td>\n",
              "      <td>50490</td>\n",
              "      <td>2021-2-3</td>\n",
              "      <td>2021-02-13</td>\n",
              "    </tr>\n",
              "    <tr>\n",
              "      <th>2</th>\n",
              "      <td>3</td>\n",
              "      <td>774</td>\n",
              "      <td>46763</td>\n",
              "      <td>2021-10-8</td>\n",
              "      <td>2021-11-03</td>\n",
              "    </tr>\n",
              "    <tr>\n",
              "      <th>3</th>\n",
              "      <td>4</td>\n",
              "      <td>433</td>\n",
              "      <td>39782</td>\n",
              "      <td>2021-5-6</td>\n",
              "      <td>2021-05-19</td>\n",
              "    </tr>\n",
              "    <tr>\n",
              "      <th>4</th>\n",
              "      <td>5</td>\n",
              "      <td>441</td>\n",
              "      <td>14719</td>\n",
              "      <td>2021-3-23</td>\n",
              "      <td>2021-03-24</td>\n",
              "    </tr>\n",
              "  </tbody>\n",
              "</table>\n",
              "</div>"
            ],
            "text/plain": [
              "   order_id  customer_id  payment order_date delivery_date\n",
              "0         1           64    30811  2021-8-30    2021-09-24\n",
              "1         2          473    50490   2021-2-3    2021-02-13\n",
              "2         3          774    46763  2021-10-8    2021-11-03\n",
              "3         4          433    39782   2021-5-6    2021-05-19\n",
              "4         5          441    14719  2021-3-23    2021-03-24"
            ]
          },
          "execution_count": 7,
          "metadata": {},
          "output_type": "execute_result"
        }
      ],
      "source": [
        "orders_df = pd.read_csv(\"data/orders.csv\")\n",
        "orders_df.head()"
      ]
    },
    {
      "cell_type": "markdown",
      "metadata": {},
      "source": [
        "- Memuat tabel product"
      ]
    },
    {
      "cell_type": "code",
      "execution_count": 8,
      "metadata": {
        "colab": {
          "base_uri": "https://localhost:8080/",
          "height": 337
        },
        "id": "ZSyaSVA8Khla",
        "outputId": "8bd546ca-a760-4186-fcd1-cea39fd58ea4"
      },
      "outputs": [
        {
          "data": {
            "text/html": [
              "<div>\n",
              "<style scoped>\n",
              "    .dataframe tbody tr th:only-of-type {\n",
              "        vertical-align: middle;\n",
              "    }\n",
              "\n",
              "    .dataframe tbody tr th {\n",
              "        vertical-align: top;\n",
              "    }\n",
              "\n",
              "    .dataframe thead th {\n",
              "        text-align: right;\n",
              "    }\n",
              "</style>\n",
              "<table border=\"1\" class=\"dataframe\">\n",
              "  <thead>\n",
              "    <tr style=\"text-align: right;\">\n",
              "      <th></th>\n",
              "      <th>product_id</th>\n",
              "      <th>product_type</th>\n",
              "      <th>product_name</th>\n",
              "      <th>size</th>\n",
              "      <th>colour</th>\n",
              "      <th>price</th>\n",
              "      <th>quantity</th>\n",
              "      <th>description</th>\n",
              "    </tr>\n",
              "  </thead>\n",
              "  <tbody>\n",
              "    <tr>\n",
              "      <th>0</th>\n",
              "      <td>0</td>\n",
              "      <td>Shirt</td>\n",
              "      <td>Oxford Cloth</td>\n",
              "      <td>XS</td>\n",
              "      <td>red</td>\n",
              "      <td>114</td>\n",
              "      <td>66</td>\n",
              "      <td>A red coloured, XS sized, Oxford Cloth Shirt</td>\n",
              "    </tr>\n",
              "    <tr>\n",
              "      <th>1</th>\n",
              "      <td>1</td>\n",
              "      <td>Shirt</td>\n",
              "      <td>Oxford Cloth</td>\n",
              "      <td>S</td>\n",
              "      <td>red</td>\n",
              "      <td>114</td>\n",
              "      <td>53</td>\n",
              "      <td>A red coloured, S sized, Oxford Cloth Shirt</td>\n",
              "    </tr>\n",
              "    <tr>\n",
              "      <th>2</th>\n",
              "      <td>2</td>\n",
              "      <td>Shirt</td>\n",
              "      <td>Oxford Cloth</td>\n",
              "      <td>M</td>\n",
              "      <td>red</td>\n",
              "      <td>114</td>\n",
              "      <td>54</td>\n",
              "      <td>A red coloured, M sized, Oxford Cloth Shirt</td>\n",
              "    </tr>\n",
              "    <tr>\n",
              "      <th>3</th>\n",
              "      <td>3</td>\n",
              "      <td>Shirt</td>\n",
              "      <td>Oxford Cloth</td>\n",
              "      <td>L</td>\n",
              "      <td>red</td>\n",
              "      <td>114</td>\n",
              "      <td>69</td>\n",
              "      <td>A red coloured, L sized, Oxford Cloth Shirt</td>\n",
              "    </tr>\n",
              "    <tr>\n",
              "      <th>4</th>\n",
              "      <td>4</td>\n",
              "      <td>Shirt</td>\n",
              "      <td>Oxford Cloth</td>\n",
              "      <td>XL</td>\n",
              "      <td>red</td>\n",
              "      <td>114</td>\n",
              "      <td>47</td>\n",
              "      <td>A red coloured, XL sized, Oxford Cloth Shirt</td>\n",
              "    </tr>\n",
              "  </tbody>\n",
              "</table>\n",
              "</div>"
            ],
            "text/plain": [
              "   product_id product_type  product_name size colour  price  quantity  \\\n",
              "0           0        Shirt  Oxford Cloth   XS    red    114        66   \n",
              "1           1        Shirt  Oxford Cloth    S    red    114        53   \n",
              "2           2        Shirt  Oxford Cloth    M    red    114        54   \n",
              "3           3        Shirt  Oxford Cloth    L    red    114        69   \n",
              "4           4        Shirt  Oxford Cloth   XL    red    114        47   \n",
              "\n",
              "                                    description  \n",
              "0  A red coloured, XS sized, Oxford Cloth Shirt  \n",
              "1   A red coloured, S sized, Oxford Cloth Shirt  \n",
              "2   A red coloured, M sized, Oxford Cloth Shirt  \n",
              "3   A red coloured, L sized, Oxford Cloth Shirt  \n",
              "4  A red coloured, XL sized, Oxford Cloth Shirt  "
            ]
          },
          "execution_count": 8,
          "metadata": {},
          "output_type": "execute_result"
        }
      ],
      "source": [
        "product_df = pd.read_csv(\"data/products.csv\")\n",
        "product_df.head()"
      ]
    },
    {
      "cell_type": "markdown",
      "metadata": {},
      "source": [
        "- Load tabel sales"
      ]
    },
    {
      "cell_type": "code",
      "execution_count": 9,
      "metadata": {
        "colab": {
          "base_uri": "https://localhost:8080/",
          "height": 206
        },
        "id": "WpHiw24AKu5R",
        "outputId": "5a1303fd-6b51-4413-9b19-2a36f5a28f3d"
      },
      "outputs": [
        {
          "data": {
            "text/html": [
              "<div>\n",
              "<style scoped>\n",
              "    .dataframe tbody tr th:only-of-type {\n",
              "        vertical-align: middle;\n",
              "    }\n",
              "\n",
              "    .dataframe tbody tr th {\n",
              "        vertical-align: top;\n",
              "    }\n",
              "\n",
              "    .dataframe thead th {\n",
              "        text-align: right;\n",
              "    }\n",
              "</style>\n",
              "<table border=\"1\" class=\"dataframe\">\n",
              "  <thead>\n",
              "    <tr style=\"text-align: right;\">\n",
              "      <th></th>\n",
              "      <th>sales_id</th>\n",
              "      <th>order_id</th>\n",
              "      <th>product_id</th>\n",
              "      <th>price_per_unit</th>\n",
              "      <th>quantity</th>\n",
              "      <th>total_price</th>\n",
              "    </tr>\n",
              "  </thead>\n",
              "  <tbody>\n",
              "    <tr>\n",
              "      <th>0</th>\n",
              "      <td>0</td>\n",
              "      <td>1</td>\n",
              "      <td>218</td>\n",
              "      <td>106</td>\n",
              "      <td>2</td>\n",
              "      <td>212.0</td>\n",
              "    </tr>\n",
              "    <tr>\n",
              "      <th>1</th>\n",
              "      <td>1</td>\n",
              "      <td>1</td>\n",
              "      <td>481</td>\n",
              "      <td>118</td>\n",
              "      <td>1</td>\n",
              "      <td>118.0</td>\n",
              "    </tr>\n",
              "    <tr>\n",
              "      <th>2</th>\n",
              "      <td>2</td>\n",
              "      <td>1</td>\n",
              "      <td>2</td>\n",
              "      <td>96</td>\n",
              "      <td>3</td>\n",
              "      <td>288.0</td>\n",
              "    </tr>\n",
              "    <tr>\n",
              "      <th>3</th>\n",
              "      <td>3</td>\n",
              "      <td>1</td>\n",
              "      <td>1002</td>\n",
              "      <td>106</td>\n",
              "      <td>2</td>\n",
              "      <td>212.0</td>\n",
              "    </tr>\n",
              "    <tr>\n",
              "      <th>4</th>\n",
              "      <td>4</td>\n",
              "      <td>1</td>\n",
              "      <td>691</td>\n",
              "      <td>113</td>\n",
              "      <td>3</td>\n",
              "      <td>339.0</td>\n",
              "    </tr>\n",
              "  </tbody>\n",
              "</table>\n",
              "</div>"
            ],
            "text/plain": [
              "   sales_id  order_id  product_id  price_per_unit  quantity  total_price\n",
              "0         0         1         218             106         2        212.0\n",
              "1         1         1         481             118         1        118.0\n",
              "2         2         1           2              96         3        288.0\n",
              "3         3         1        1002             106         2        212.0\n",
              "4         4         1         691             113         3        339.0"
            ]
          },
          "execution_count": 9,
          "metadata": {},
          "output_type": "execute_result"
        }
      ],
      "source": [
        "sales_df = pd.read_csv(\"data/sales.csv\")\n",
        "sales_df.head()"
      ]
    },
    {
      "cell_type": "markdown",
      "metadata": {
        "id": "Ugxl81vWQ4Wk"
      },
      "source": [
        "### Assessing Data"
      ]
    },
    {
      "cell_type": "markdown",
      "metadata": {
        "id": "kOaLrzB1RY2q"
      },
      "source": [
        "#### Menilai Data `customers_df`"
      ]
    },
    {
      "cell_type": "code",
      "execution_count": 10,
      "metadata": {
        "colab": {
          "base_uri": "https://localhost:8080/"
        },
        "id": "dcD-NPxISwaj",
        "outputId": "c7a52a2f-08f3-46db-e281-92413b3e4406"
      },
      "outputs": [
        {
          "name": "stdout",
          "output_type": "stream",
          "text": [
            "<class 'pandas.core.frame.DataFrame'>\n",
            "RangeIndex: 1007 entries, 0 to 1006\n",
            "Data columns (total 9 columns):\n",
            " #   Column         Non-Null Count  Dtype \n",
            "---  ------         --------------  ----- \n",
            " 0   customer_id    1007 non-null   int64 \n",
            " 1   customer_name  1007 non-null   object\n",
            " 2   gender         989 non-null    object\n",
            " 3   age            1007 non-null   int64 \n",
            " 4   home_address   1007 non-null   object\n",
            " 5   zip_code       1007 non-null   int64 \n",
            " 6   city           1007 non-null   object\n",
            " 7   state          1007 non-null   object\n",
            " 8   country        1007 non-null   object\n",
            "dtypes: int64(3), object(6)\n",
            "memory usage: 70.9+ KB\n"
          ]
        }
      ],
      "source": [
        "customers_df.info()"
      ]
    },
    {
      "cell_type": "code",
      "execution_count": 11,
      "metadata": {
        "colab": {
          "base_uri": "https://localhost:8080/"
        },
        "id": "JGfAtRlqQ8zP",
        "outputId": "f4d5fac0-bde8-4132-c2d4-ad2cacfafdf9"
      },
      "outputs": [
        {
          "data": {
            "text/plain": [
              "customer_id       0\n",
              "customer_name     0\n",
              "gender           18\n",
              "age               0\n",
              "home_address      0\n",
              "zip_code          0\n",
              "city              0\n",
              "state             0\n",
              "country           0\n",
              "dtype: int64"
            ]
          },
          "execution_count": 11,
          "metadata": {},
          "output_type": "execute_result"
        }
      ],
      "source": [
        "customers_df.isna().sum()"
      ]
    },
    {
      "cell_type": "code",
      "execution_count": 12,
      "metadata": {
        "colab": {
          "base_uri": "https://localhost:8080/"
        },
        "id": "b0SLxCzCTeMZ",
        "outputId": "084b61ca-2622-4009-dbb5-3dbd3d500196"
      },
      "outputs": [
        {
          "name": "stdout",
          "output_type": "stream",
          "text": [
            "Jumlah duplikasi:  6\n"
          ]
        }
      ],
      "source": [
        "print(\"Jumlah duplikasi: \", customers_df.duplicated().sum())"
      ]
    },
    {
      "cell_type": "code",
      "execution_count": 13,
      "metadata": {
        "colab": {
          "base_uri": "https://localhost:8080/",
          "height": 300
        },
        "id": "AG9ueLKlT2wO",
        "outputId": "ccc71b65-bf80-424e-f944-eb1e25a86a03"
      },
      "outputs": [
        {
          "data": {
            "text/html": [
              "<div>\n",
              "<style scoped>\n",
              "    .dataframe tbody tr th:only-of-type {\n",
              "        vertical-align: middle;\n",
              "    }\n",
              "\n",
              "    .dataframe tbody tr th {\n",
              "        vertical-align: top;\n",
              "    }\n",
              "\n",
              "    .dataframe thead th {\n",
              "        text-align: right;\n",
              "    }\n",
              "</style>\n",
              "<table border=\"1\" class=\"dataframe\">\n",
              "  <thead>\n",
              "    <tr style=\"text-align: right;\">\n",
              "      <th></th>\n",
              "      <th>customer_id</th>\n",
              "      <th>age</th>\n",
              "      <th>zip_code</th>\n",
              "    </tr>\n",
              "  </thead>\n",
              "  <tbody>\n",
              "    <tr>\n",
              "      <th>count</th>\n",
              "      <td>1007.000000</td>\n",
              "      <td>1007.000000</td>\n",
              "      <td>1007.000000</td>\n",
              "    </tr>\n",
              "    <tr>\n",
              "      <th>mean</th>\n",
              "      <td>501.726912</td>\n",
              "      <td>50.929494</td>\n",
              "      <td>5012.538232</td>\n",
              "    </tr>\n",
              "    <tr>\n",
              "      <th>std</th>\n",
              "      <td>288.673238</td>\n",
              "      <td>30.516299</td>\n",
              "      <td>2885.836112</td>\n",
              "    </tr>\n",
              "    <tr>\n",
              "      <th>min</th>\n",
              "      <td>1.000000</td>\n",
              "      <td>20.000000</td>\n",
              "      <td>2.000000</td>\n",
              "    </tr>\n",
              "    <tr>\n",
              "      <th>25%</th>\n",
              "      <td>252.500000</td>\n",
              "      <td>34.000000</td>\n",
              "      <td>2403.500000</td>\n",
              "    </tr>\n",
              "    <tr>\n",
              "      <th>50%</th>\n",
              "      <td>502.000000</td>\n",
              "      <td>50.000000</td>\n",
              "      <td>5087.000000</td>\n",
              "    </tr>\n",
              "    <tr>\n",
              "      <th>75%</th>\n",
              "      <td>751.500000</td>\n",
              "      <td>65.000000</td>\n",
              "      <td>7493.500000</td>\n",
              "    </tr>\n",
              "    <tr>\n",
              "      <th>max</th>\n",
              "      <td>1000.000000</td>\n",
              "      <td>700.000000</td>\n",
              "      <td>9998.000000</td>\n",
              "    </tr>\n",
              "  </tbody>\n",
              "</table>\n",
              "</div>"
            ],
            "text/plain": [
              "       customer_id          age     zip_code\n",
              "count  1007.000000  1007.000000  1007.000000\n",
              "mean    501.726912    50.929494  5012.538232\n",
              "std     288.673238    30.516299  2885.836112\n",
              "min       1.000000    20.000000     2.000000\n",
              "25%     252.500000    34.000000  2403.500000\n",
              "50%     502.000000    50.000000  5087.000000\n",
              "75%     751.500000    65.000000  7493.500000\n",
              "max    1000.000000   700.000000  9998.000000"
            ]
          },
          "execution_count": 13,
          "metadata": {},
          "output_type": "execute_result"
        }
      ],
      "source": [
        "customers_df.describe()"
      ]
    },
    {
      "cell_type": "markdown",
      "metadata": {
        "id": "bLCFuPoCUaEI"
      },
      "source": [
        "#### Menilai Data `orders_df`"
      ]
    },
    {
      "cell_type": "code",
      "execution_count": 14,
      "metadata": {
        "colab": {
          "base_uri": "https://localhost:8080/"
        },
        "id": "TgwmFK4mUZIw",
        "outputId": "3a169ff4-416a-427d-ea02-05845864fa9f"
      },
      "outputs": [
        {
          "name": "stdout",
          "output_type": "stream",
          "text": [
            "<class 'pandas.core.frame.DataFrame'>\n",
            "RangeIndex: 1000 entries, 0 to 999\n",
            "Data columns (total 5 columns):\n",
            " #   Column         Non-Null Count  Dtype \n",
            "---  ------         --------------  ----- \n",
            " 0   order_id       1000 non-null   int64 \n",
            " 1   customer_id    1000 non-null   int64 \n",
            " 2   payment        1000 non-null   int64 \n",
            " 3   order_date     1000 non-null   object\n",
            " 4   delivery_date  1000 non-null   object\n",
            "dtypes: int64(3), object(2)\n",
            "memory usage: 39.2+ KB\n"
          ]
        }
      ],
      "source": [
        "orders_df.info()"
      ]
    },
    {
      "cell_type": "code",
      "execution_count": 15,
      "metadata": {
        "colab": {
          "base_uri": "https://localhost:8080/"
        },
        "id": "NI-CpJqplbIo",
        "outputId": "5f126a63-7f64-4300-944f-f52b19ffeab5"
      },
      "outputs": [
        {
          "data": {
            "text/plain": [
              "order_id         1000\n",
              "customer_id       617\n",
              "payment           995\n",
              "order_date        291\n",
              "delivery_date     305\n",
              "dtype: int64"
            ]
          },
          "execution_count": 15,
          "metadata": {},
          "output_type": "execute_result"
        }
      ],
      "source": [
        "orders_df.nunique()"
      ]
    },
    {
      "cell_type": "code",
      "execution_count": 16,
      "metadata": {
        "colab": {
          "base_uri": "https://localhost:8080/",
          "height": 317
        },
        "id": "ORRvHT_kUytu",
        "outputId": "742d7adf-2d73-4f49-8662-d96b656d9d59"
      },
      "outputs": [
        {
          "name": "stdout",
          "output_type": "stream",
          "text": [
            "Jumlah duplikasi:  0\n"
          ]
        },
        {
          "data": {
            "text/html": [
              "<div>\n",
              "<style scoped>\n",
              "    .dataframe tbody tr th:only-of-type {\n",
              "        vertical-align: middle;\n",
              "    }\n",
              "\n",
              "    .dataframe tbody tr th {\n",
              "        vertical-align: top;\n",
              "    }\n",
              "\n",
              "    .dataframe thead th {\n",
              "        text-align: right;\n",
              "    }\n",
              "</style>\n",
              "<table border=\"1\" class=\"dataframe\">\n",
              "  <thead>\n",
              "    <tr style=\"text-align: right;\">\n",
              "      <th></th>\n",
              "      <th>order_id</th>\n",
              "      <th>customer_id</th>\n",
              "      <th>payment</th>\n",
              "    </tr>\n",
              "  </thead>\n",
              "  <tbody>\n",
              "    <tr>\n",
              "      <th>count</th>\n",
              "      <td>1000.000000</td>\n",
              "      <td>1000.000000</td>\n",
              "      <td>1000.000000</td>\n",
              "    </tr>\n",
              "    <tr>\n",
              "      <th>mean</th>\n",
              "      <td>500.500000</td>\n",
              "      <td>506.640000</td>\n",
              "      <td>33972.936000</td>\n",
              "    </tr>\n",
              "    <tr>\n",
              "      <th>std</th>\n",
              "      <td>288.819436</td>\n",
              "      <td>277.115502</td>\n",
              "      <td>14451.609047</td>\n",
              "    </tr>\n",
              "    <tr>\n",
              "      <th>min</th>\n",
              "      <td>1.000000</td>\n",
              "      <td>1.000000</td>\n",
              "      <td>10043.000000</td>\n",
              "    </tr>\n",
              "    <tr>\n",
              "      <th>25%</th>\n",
              "      <td>250.750000</td>\n",
              "      <td>275.250000</td>\n",
              "      <td>21329.250000</td>\n",
              "    </tr>\n",
              "    <tr>\n",
              "      <th>50%</th>\n",
              "      <td>500.500000</td>\n",
              "      <td>515.000000</td>\n",
              "      <td>33697.500000</td>\n",
              "    </tr>\n",
              "    <tr>\n",
              "      <th>75%</th>\n",
              "      <td>750.250000</td>\n",
              "      <td>737.250000</td>\n",
              "      <td>46249.000000</td>\n",
              "    </tr>\n",
              "    <tr>\n",
              "      <th>max</th>\n",
              "      <td>1000.000000</td>\n",
              "      <td>1000.000000</td>\n",
              "      <td>59910.000000</td>\n",
              "    </tr>\n",
              "  </tbody>\n",
              "</table>\n",
              "</div>"
            ],
            "text/plain": [
              "          order_id  customer_id       payment\n",
              "count  1000.000000  1000.000000   1000.000000\n",
              "mean    500.500000   506.640000  33972.936000\n",
              "std     288.819436   277.115502  14451.609047\n",
              "min       1.000000     1.000000  10043.000000\n",
              "25%     250.750000   275.250000  21329.250000\n",
              "50%     500.500000   515.000000  33697.500000\n",
              "75%     750.250000   737.250000  46249.000000\n",
              "max    1000.000000  1000.000000  59910.000000"
            ]
          },
          "execution_count": 16,
          "metadata": {},
          "output_type": "execute_result"
        }
      ],
      "source": [
        "print(\"Jumlah duplikasi: \",orders_df.duplicated().sum())\n",
        "orders_df.describe()"
      ]
    },
    {
      "cell_type": "markdown",
      "metadata": {
        "id": "ng_VBvSxWARr"
      },
      "source": [
        "#### Menilai Data `product_df`"
      ]
    },
    {
      "cell_type": "code",
      "execution_count": 17,
      "metadata": {
        "colab": {
          "base_uri": "https://localhost:8080/"
        },
        "id": "-cDSb5HIYZc4",
        "outputId": "6339a5fe-f33e-4cf1-a80e-2158074a7df7"
      },
      "outputs": [
        {
          "name": "stdout",
          "output_type": "stream",
          "text": [
            "<class 'pandas.core.frame.DataFrame'>\n",
            "RangeIndex: 1266 entries, 0 to 1265\n",
            "Data columns (total 8 columns):\n",
            " #   Column        Non-Null Count  Dtype \n",
            "---  ------        --------------  ----- \n",
            " 0   product_id    1266 non-null   int64 \n",
            " 1   product_type  1266 non-null   object\n",
            " 2   product_name  1266 non-null   object\n",
            " 3   size          1266 non-null   object\n",
            " 4   colour        1266 non-null   object\n",
            " 5   price         1266 non-null   int64 \n",
            " 6   quantity      1266 non-null   int64 \n",
            " 7   description   1266 non-null   object\n",
            "dtypes: int64(3), object(5)\n",
            "memory usage: 79.3+ KB\n"
          ]
        }
      ],
      "source": [
        "product_df.info()"
      ]
    },
    {
      "cell_type": "code",
      "execution_count": 18,
      "metadata": {
        "colab": {
          "base_uri": "https://localhost:8080/",
          "height": 317
        },
        "id": "Wd42GjHjYeLO",
        "outputId": "359b087b-7685-4ffe-bc1e-0fa4ede23627"
      },
      "outputs": [
        {
          "name": "stdout",
          "output_type": "stream",
          "text": [
            "Jumlah duplikasi:  6\n"
          ]
        },
        {
          "data": {
            "text/html": [
              "<div>\n",
              "<style scoped>\n",
              "    .dataframe tbody tr th:only-of-type {\n",
              "        vertical-align: middle;\n",
              "    }\n",
              "\n",
              "    .dataframe tbody tr th {\n",
              "        vertical-align: top;\n",
              "    }\n",
              "\n",
              "    .dataframe thead th {\n",
              "        text-align: right;\n",
              "    }\n",
              "</style>\n",
              "<table border=\"1\" class=\"dataframe\">\n",
              "  <thead>\n",
              "    <tr style=\"text-align: right;\">\n",
              "      <th></th>\n",
              "      <th>product_id</th>\n",
              "      <th>price</th>\n",
              "      <th>quantity</th>\n",
              "    </tr>\n",
              "  </thead>\n",
              "  <tbody>\n",
              "    <tr>\n",
              "      <th>count</th>\n",
              "      <td>1266.000000</td>\n",
              "      <td>1266.000000</td>\n",
              "      <td>1266.000000</td>\n",
              "    </tr>\n",
              "    <tr>\n",
              "      <th>mean</th>\n",
              "      <td>627.926540</td>\n",
              "      <td>105.812006</td>\n",
              "      <td>60.138231</td>\n",
              "    </tr>\n",
              "    <tr>\n",
              "      <th>std</th>\n",
              "      <td>363.971586</td>\n",
              "      <td>9.715611</td>\n",
              "      <td>11.682791</td>\n",
              "    </tr>\n",
              "    <tr>\n",
              "      <th>min</th>\n",
              "      <td>0.000000</td>\n",
              "      <td>90.000000</td>\n",
              "      <td>40.000000</td>\n",
              "    </tr>\n",
              "    <tr>\n",
              "      <th>25%</th>\n",
              "      <td>313.250000</td>\n",
              "      <td>95.250000</td>\n",
              "      <td>50.000000</td>\n",
              "    </tr>\n",
              "    <tr>\n",
              "      <th>50%</th>\n",
              "      <td>626.500000</td>\n",
              "      <td>109.000000</td>\n",
              "      <td>60.000000</td>\n",
              "    </tr>\n",
              "    <tr>\n",
              "      <th>75%</th>\n",
              "      <td>942.750000</td>\n",
              "      <td>114.000000</td>\n",
              "      <td>70.000000</td>\n",
              "    </tr>\n",
              "    <tr>\n",
              "      <th>max</th>\n",
              "      <td>1259.000000</td>\n",
              "      <td>119.000000</td>\n",
              "      <td>80.000000</td>\n",
              "    </tr>\n",
              "  </tbody>\n",
              "</table>\n",
              "</div>"
            ],
            "text/plain": [
              "        product_id        price     quantity\n",
              "count  1266.000000  1266.000000  1266.000000\n",
              "mean    627.926540   105.812006    60.138231\n",
              "std     363.971586     9.715611    11.682791\n",
              "min       0.000000    90.000000    40.000000\n",
              "25%     313.250000    95.250000    50.000000\n",
              "50%     626.500000   109.000000    60.000000\n",
              "75%     942.750000   114.000000    70.000000\n",
              "max    1259.000000   119.000000    80.000000"
            ]
          },
          "execution_count": 18,
          "metadata": {},
          "output_type": "execute_result"
        }
      ],
      "source": [
        "print(\"Jumlah duplikasi: \", product_df.duplicated().sum())\n",
        "\n",
        "product_df.describe()"
      ]
    },
    {
      "cell_type": "markdown",
      "metadata": {
        "id": "r_4sHXDdYyZW"
      },
      "source": [
        "#### Menilai Data `sales_df`"
      ]
    },
    {
      "cell_type": "code",
      "execution_count": 19,
      "metadata": {
        "colab": {
          "base_uri": "https://localhost:8080/"
        },
        "id": "K-PMjb04Y4b9",
        "outputId": "5b1ee284-23de-4f37-ad51-8ac3e43b5898"
      },
      "outputs": [
        {
          "name": "stdout",
          "output_type": "stream",
          "text": [
            "<class 'pandas.core.frame.DataFrame'>\n",
            "RangeIndex: 5000 entries, 0 to 4999\n",
            "Data columns (total 6 columns):\n",
            " #   Column          Non-Null Count  Dtype  \n",
            "---  ------          --------------  -----  \n",
            " 0   sales_id        5000 non-null   int64  \n",
            " 1   order_id        5000 non-null   int64  \n",
            " 2   product_id      5000 non-null   int64  \n",
            " 3   price_per_unit  5000 non-null   int64  \n",
            " 4   quantity        5000 non-null   int64  \n",
            " 5   total_price     4981 non-null   float64\n",
            "dtypes: float64(1), int64(5)\n",
            "memory usage: 234.5 KB\n"
          ]
        }
      ],
      "source": [
        "sales_df.info()"
      ]
    },
    {
      "cell_type": "code",
      "execution_count": 20,
      "metadata": {
        "colab": {
          "base_uri": "https://localhost:8080/"
        },
        "id": "vo7IggtKZHrg",
        "outputId": "e46b2854-887b-4fef-f99f-45ffc42772ee"
      },
      "outputs": [
        {
          "data": {
            "text/plain": [
              "sales_id           0\n",
              "order_id           0\n",
              "product_id         0\n",
              "price_per_unit     0\n",
              "quantity           0\n",
              "total_price       19\n",
              "dtype: int64"
            ]
          },
          "execution_count": 20,
          "metadata": {},
          "output_type": "execute_result"
        }
      ],
      "source": [
        "sales_df.isna().sum()"
      ]
    },
    {
      "cell_type": "code",
      "execution_count": 21,
      "metadata": {
        "colab": {
          "base_uri": "https://localhost:8080/"
        },
        "id": "2-OM_oN8Y7g2",
        "outputId": "e3407346-4908-4417-f166-f996152c5b76"
      },
      "outputs": [
        {
          "name": "stdout",
          "output_type": "stream",
          "text": [
            "Jumlah duplikasi:  0\n"
          ]
        }
      ],
      "source": [
        "print(\"Jumlah duplikasi: \", sales_df.duplicated().sum())"
      ]
    },
    {
      "cell_type": "code",
      "execution_count": 22,
      "metadata": {
        "colab": {
          "base_uri": "https://localhost:8080/",
          "height": 317
        },
        "id": "j5VtEdHGY_1B",
        "outputId": "e99256a6-1946-490e-f547-215a007081ae"
      },
      "outputs": [
        {
          "name": "stdout",
          "output_type": "stream",
          "text": [
            "Jumlah duplikasi:  0\n"
          ]
        },
        {
          "data": {
            "text/html": [
              "<div>\n",
              "<style scoped>\n",
              "    .dataframe tbody tr th:only-of-type {\n",
              "        vertical-align: middle;\n",
              "    }\n",
              "\n",
              "    .dataframe tbody tr th {\n",
              "        vertical-align: top;\n",
              "    }\n",
              "\n",
              "    .dataframe thead th {\n",
              "        text-align: right;\n",
              "    }\n",
              "</style>\n",
              "<table border=\"1\" class=\"dataframe\">\n",
              "  <thead>\n",
              "    <tr style=\"text-align: right;\">\n",
              "      <th></th>\n",
              "      <th>sales_id</th>\n",
              "      <th>order_id</th>\n",
              "      <th>product_id</th>\n",
              "      <th>price_per_unit</th>\n",
              "      <th>quantity</th>\n",
              "      <th>total_price</th>\n",
              "    </tr>\n",
              "  </thead>\n",
              "  <tbody>\n",
              "    <tr>\n",
              "      <th>count</th>\n",
              "      <td>5000.000000</td>\n",
              "      <td>5000.000000</td>\n",
              "      <td>5000.000000</td>\n",
              "      <td>5000.000000</td>\n",
              "      <td>5000.00000</td>\n",
              "      <td>4981.000000</td>\n",
              "    </tr>\n",
              "    <tr>\n",
              "      <th>mean</th>\n",
              "      <td>2499.500000</td>\n",
              "      <td>503.038200</td>\n",
              "      <td>634.053200</td>\n",
              "      <td>103.501600</td>\n",
              "      <td>1.99240</td>\n",
              "      <td>206.307368</td>\n",
              "    </tr>\n",
              "    <tr>\n",
              "      <th>std</th>\n",
              "      <td>1443.520003</td>\n",
              "      <td>285.964418</td>\n",
              "      <td>363.255794</td>\n",
              "      <td>9.195004</td>\n",
              "      <td>0.80751</td>\n",
              "      <td>86.352449</td>\n",
              "    </tr>\n",
              "    <tr>\n",
              "      <th>min</th>\n",
              "      <td>0.000000</td>\n",
              "      <td>1.000000</td>\n",
              "      <td>1.000000</td>\n",
              "      <td>90.000000</td>\n",
              "      <td>1.00000</td>\n",
              "      <td>90.000000</td>\n",
              "    </tr>\n",
              "    <tr>\n",
              "      <th>25%</th>\n",
              "      <td>1249.750000</td>\n",
              "      <td>258.000000</td>\n",
              "      <td>323.000000</td>\n",
              "      <td>95.000000</td>\n",
              "      <td>1.00000</td>\n",
              "      <td>112.000000</td>\n",
              "    </tr>\n",
              "    <tr>\n",
              "      <th>50%</th>\n",
              "      <td>2499.500000</td>\n",
              "      <td>504.500000</td>\n",
              "      <td>635.000000</td>\n",
              "      <td>102.000000</td>\n",
              "      <td>2.00000</td>\n",
              "      <td>204.000000</td>\n",
              "    </tr>\n",
              "    <tr>\n",
              "      <th>75%</th>\n",
              "      <td>3749.250000</td>\n",
              "      <td>749.000000</td>\n",
              "      <td>951.000000</td>\n",
              "      <td>112.000000</td>\n",
              "      <td>3.00000</td>\n",
              "      <td>285.000000</td>\n",
              "    </tr>\n",
              "    <tr>\n",
              "      <th>max</th>\n",
              "      <td>4999.000000</td>\n",
              "      <td>999.000000</td>\n",
              "      <td>1259.000000</td>\n",
              "      <td>119.000000</td>\n",
              "      <td>3.00000</td>\n",
              "      <td>357.000000</td>\n",
              "    </tr>\n",
              "  </tbody>\n",
              "</table>\n",
              "</div>"
            ],
            "text/plain": [
              "          sales_id     order_id   product_id  price_per_unit    quantity  \\\n",
              "count  5000.000000  5000.000000  5000.000000     5000.000000  5000.00000   \n",
              "mean   2499.500000   503.038200   634.053200      103.501600     1.99240   \n",
              "std    1443.520003   285.964418   363.255794        9.195004     0.80751   \n",
              "min       0.000000     1.000000     1.000000       90.000000     1.00000   \n",
              "25%    1249.750000   258.000000   323.000000       95.000000     1.00000   \n",
              "50%    2499.500000   504.500000   635.000000      102.000000     2.00000   \n",
              "75%    3749.250000   749.000000   951.000000      112.000000     3.00000   \n",
              "max    4999.000000   999.000000  1259.000000      119.000000     3.00000   \n",
              "\n",
              "       total_price  \n",
              "count  4981.000000  \n",
              "mean    206.307368  \n",
              "std      86.352449  \n",
              "min      90.000000  \n",
              "25%     112.000000  \n",
              "50%     204.000000  \n",
              "75%     285.000000  \n",
              "max     357.000000  "
            ]
          },
          "execution_count": 22,
          "metadata": {},
          "output_type": "execute_result"
        }
      ],
      "source": [
        "print(\"Jumlah duplikasi: \", sales_df.duplicated().sum())\n",
        "sales_df.describe()"
      ]
    },
    {
      "cell_type": "markdown",
      "metadata": {
        "id": "pwGGRfLNZObD"
      },
      "source": [
        "### Cleaning Data"
      ]
    },
    {
      "cell_type": "markdown",
      "metadata": {
        "id": "Q4yuhTvuZ63K"
      },
      "source": [
        "#### Membersihkan Data `customers_df`"
      ]
    },
    {
      "cell_type": "markdown",
      "metadata": {
        "id": "o595nzD3cfmq"
      },
      "source": [
        "- Menghilangkan duplicate data"
      ]
    },
    {
      "cell_type": "code",
      "execution_count": 23,
      "metadata": {
        "colab": {
          "base_uri": "https://localhost:8080/"
        },
        "id": "DMerdAybcTyz",
        "outputId": "77d8f915-5df0-4405-95dd-942da77db7c9"
      },
      "outputs": [
        {
          "data": {
            "text/plain": [
              "6"
            ]
          },
          "execution_count": 23,
          "metadata": {},
          "output_type": "execute_result"
        }
      ],
      "source": [
        "customers_df.duplicated().sum()"
      ]
    },
    {
      "cell_type": "code",
      "execution_count": 24,
      "metadata": {
        "id": "bVRpTymOcZub"
      },
      "outputs": [],
      "source": [
        "customers_df.drop_duplicates(inplace=True)"
      ]
    },
    {
      "cell_type": "code",
      "execution_count": 25,
      "metadata": {
        "colab": {
          "base_uri": "https://localhost:8080/"
        },
        "id": "6k4TKRGycu0V",
        "outputId": "ec0cd24b-7e30-4918-f7ff-928389ced85e"
      },
      "outputs": [
        {
          "name": "stdout",
          "output_type": "stream",
          "text": [
            "Jumlah duplikasi:  0\n"
          ]
        }
      ],
      "source": [
        "print(\"Jumlah duplikasi: \", customers_df.duplicated().sum())"
      ]
    },
    {
      "cell_type": "markdown",
      "metadata": {
        "id": "fiBy_w7dcbmq"
      },
      "source": [
        "- Menangani missing value"
      ]
    },
    {
      "cell_type": "code",
      "execution_count": 26,
      "metadata": {
        "colab": {
          "base_uri": "https://localhost:8080/"
        },
        "id": "trQGe-WzZ3xZ",
        "outputId": "25341d5a-a4da-4c10-8a4b-42a3533f6ae6"
      },
      "outputs": [
        {
          "data": {
            "text/plain": [
              "customer_id       0\n",
              "customer_name     0\n",
              "gender           18\n",
              "age               0\n",
              "home_address      0\n",
              "zip_code          0\n",
              "city              0\n",
              "state             0\n",
              "country           0\n",
              "dtype: int64"
            ]
          },
          "execution_count": 26,
          "metadata": {},
          "output_type": "execute_result"
        }
      ],
      "source": [
        "customers_df.isna().sum()"
      ]
    },
    {
      "cell_type": "code",
      "execution_count": 27,
      "metadata": {
        "colab": {
          "base_uri": "https://localhost:8080/",
          "height": 1000
        },
        "id": "eP0TbCfKaxUf",
        "outputId": "3cfde599-f5fa-4764-e343-e4c9148911ba"
      },
      "outputs": [
        {
          "data": {
            "text/html": [
              "<div>\n",
              "<style scoped>\n",
              "    .dataframe tbody tr th:only-of-type {\n",
              "        vertical-align: middle;\n",
              "    }\n",
              "\n",
              "    .dataframe tbody tr th {\n",
              "        vertical-align: top;\n",
              "    }\n",
              "\n",
              "    .dataframe thead th {\n",
              "        text-align: right;\n",
              "    }\n",
              "</style>\n",
              "<table border=\"1\" class=\"dataframe\">\n",
              "  <thead>\n",
              "    <tr style=\"text-align: right;\">\n",
              "      <th></th>\n",
              "      <th>customer_id</th>\n",
              "      <th>customer_name</th>\n",
              "      <th>gender</th>\n",
              "      <th>age</th>\n",
              "      <th>home_address</th>\n",
              "      <th>zip_code</th>\n",
              "      <th>city</th>\n",
              "      <th>state</th>\n",
              "      <th>country</th>\n",
              "    </tr>\n",
              "  </thead>\n",
              "  <tbody>\n",
              "    <tr>\n",
              "      <th>38</th>\n",
              "      <td>39</td>\n",
              "      <td>fulan 39</td>\n",
              "      <td>NaN</td>\n",
              "      <td>80</td>\n",
              "      <td>7440 Cameron Estate DrSuite 628</td>\n",
              "      <td>4622</td>\n",
              "      <td>North Victoriachester</td>\n",
              "      <td>Northern Territory</td>\n",
              "      <td>Australia</td>\n",
              "    </tr>\n",
              "    <tr>\n",
              "      <th>167</th>\n",
              "      <td>168</td>\n",
              "      <td>fulan 168</td>\n",
              "      <td>NaN</td>\n",
              "      <td>27</td>\n",
              "      <td>2781 Berge MallSuite 452</td>\n",
              "      <td>1975</td>\n",
              "      <td>North Leoburgh</td>\n",
              "      <td>Western Australia</td>\n",
              "      <td>Australia</td>\n",
              "    </tr>\n",
              "    <tr>\n",
              "      <th>322</th>\n",
              "      <td>322</td>\n",
              "      <td>fulan 322</td>\n",
              "      <td>NaN</td>\n",
              "      <td>30</td>\n",
              "      <td>593 Becker CircleApt. 333</td>\n",
              "      <td>1640</td>\n",
              "      <td>Jacobiview</td>\n",
              "      <td>Western Australia</td>\n",
              "      <td>Australia</td>\n",
              "    </tr>\n",
              "    <tr>\n",
              "      <th>393</th>\n",
              "      <td>393</td>\n",
              "      <td>fulan 393</td>\n",
              "      <td>NaN</td>\n",
              "      <td>34</td>\n",
              "      <td>5158 Levi HillSuite 531</td>\n",
              "      <td>1474</td>\n",
              "      <td>Johnsburgh</td>\n",
              "      <td>Queensland</td>\n",
              "      <td>Australia</td>\n",
              "    </tr>\n",
              "    <tr>\n",
              "      <th>442</th>\n",
              "      <td>442</td>\n",
              "      <td>fulan 442</td>\n",
              "      <td>NaN</td>\n",
              "      <td>26</td>\n",
              "      <td>5157 Feil RoadApt. 633</td>\n",
              "      <td>7249</td>\n",
              "      <td>Port Chloe</td>\n",
              "      <td>New South Wales</td>\n",
              "      <td>Australia</td>\n",
              "    </tr>\n",
              "    <tr>\n",
              "      <th>722</th>\n",
              "      <td>720</td>\n",
              "      <td>fulan 720</td>\n",
              "      <td>NaN</td>\n",
              "      <td>40</td>\n",
              "      <td>31 Jordan ParadeApt. 400</td>\n",
              "      <td>1380</td>\n",
              "      <td>West Henry</td>\n",
              "      <td>South Australia</td>\n",
              "      <td>Australia</td>\n",
              "    </tr>\n",
              "    <tr>\n",
              "      <th>745</th>\n",
              "      <td>743</td>\n",
              "      <td>fulan 743</td>\n",
              "      <td>NaN</td>\n",
              "      <td>57</td>\n",
              "      <td>09 Christopher StreetSuite 967</td>\n",
              "      <td>6226</td>\n",
              "      <td>Lake Lukemouth</td>\n",
              "      <td>Western Australia</td>\n",
              "      <td>Australia</td>\n",
              "    </tr>\n",
              "    <tr>\n",
              "      <th>773</th>\n",
              "      <td>771</td>\n",
              "      <td>fulan 771</td>\n",
              "      <td>NaN</td>\n",
              "      <td>74</td>\n",
              "      <td>7367 Wright JunctionApt. 773</td>\n",
              "      <td>8882</td>\n",
              "      <td>Kuhntown</td>\n",
              "      <td>Victoria</td>\n",
              "      <td>Australia</td>\n",
              "    </tr>\n",
              "    <tr>\n",
              "      <th>798</th>\n",
              "      <td>795</td>\n",
              "      <td>fulan 795</td>\n",
              "      <td>NaN</td>\n",
              "      <td>49</td>\n",
              "      <td>487 Summer MewsApt. 874</td>\n",
              "      <td>1712</td>\n",
              "      <td>East Hayden</td>\n",
              "      <td>Australian Capital Territory</td>\n",
              "      <td>Australia</td>\n",
              "    </tr>\n",
              "    <tr>\n",
              "      <th>801</th>\n",
              "      <td>798</td>\n",
              "      <td>fulan 798</td>\n",
              "      <td>NaN</td>\n",
              "      <td>56</td>\n",
              "      <td>27 Aiden KnollApt. 875</td>\n",
              "      <td>6531</td>\n",
              "      <td>Port Sam</td>\n",
              "      <td>Australian Capital Territory</td>\n",
              "      <td>Australia</td>\n",
              "    </tr>\n",
              "    <tr>\n",
              "      <th>825</th>\n",
              "      <td>822</td>\n",
              "      <td>fulan 822</td>\n",
              "      <td>NaN</td>\n",
              "      <td>59</td>\n",
              "      <td>41 Jenkins KnollSuite 438</td>\n",
              "      <td>2588</td>\n",
              "      <td>Lake Andrewport</td>\n",
              "      <td>South Australia</td>\n",
              "      <td>Australia</td>\n",
              "    </tr>\n",
              "    <tr>\n",
              "      <th>859</th>\n",
              "      <td>855</td>\n",
              "      <td>fulan 855</td>\n",
              "      <td>NaN</td>\n",
              "      <td>55</td>\n",
              "      <td>603 O'keefe KnollSuite 782</td>\n",
              "      <td>8822</td>\n",
              "      <td>Port Dylanmouth</td>\n",
              "      <td>Tasmania</td>\n",
              "      <td>Australia</td>\n",
              "    </tr>\n",
              "    <tr>\n",
              "      <th>863</th>\n",
              "      <td>859</td>\n",
              "      <td>fulan 859</td>\n",
              "      <td>NaN</td>\n",
              "      <td>38</td>\n",
              "      <td>32 Isla GroveApt. 078</td>\n",
              "      <td>7711</td>\n",
              "      <td>Rosechester</td>\n",
              "      <td>New South Wales</td>\n",
              "      <td>Australia</td>\n",
              "    </tr>\n",
              "    <tr>\n",
              "      <th>914</th>\n",
              "      <td>909</td>\n",
              "      <td>fulan 909</td>\n",
              "      <td>NaN</td>\n",
              "      <td>62</td>\n",
              "      <td>976 Murray Station StApt. 036</td>\n",
              "      <td>3227</td>\n",
              "      <td>Langfort</td>\n",
              "      <td>Tasmania</td>\n",
              "      <td>Australia</td>\n",
              "    </tr>\n",
              "    <tr>\n",
              "      <th>934</th>\n",
              "      <td>929</td>\n",
              "      <td>fulan 929</td>\n",
              "      <td>NaN</td>\n",
              "      <td>68</td>\n",
              "      <td>394 Lily HillSuite 153</td>\n",
              "      <td>2353</td>\n",
              "      <td>Beahanfurt</td>\n",
              "      <td>Northern Territory</td>\n",
              "      <td>Australia</td>\n",
              "    </tr>\n",
              "    <tr>\n",
              "      <th>948</th>\n",
              "      <td>943</td>\n",
              "      <td>fulan 943</td>\n",
              "      <td>NaN</td>\n",
              "      <td>64</td>\n",
              "      <td>3117 Heller PlaceSuite 149</td>\n",
              "      <td>822</td>\n",
              "      <td>North Elijah</td>\n",
              "      <td>South Australia</td>\n",
              "      <td>Australia</td>\n",
              "    </tr>\n",
              "    <tr>\n",
              "      <th>952</th>\n",
              "      <td>946</td>\n",
              "      <td>fulan 946</td>\n",
              "      <td>NaN</td>\n",
              "      <td>24</td>\n",
              "      <td>8227 Nicholas HillSuite 150</td>\n",
              "      <td>115</td>\n",
              "      <td>South Jasper</td>\n",
              "      <td>Queensland</td>\n",
              "      <td>Australia</td>\n",
              "    </tr>\n",
              "    <tr>\n",
              "      <th>994</th>\n",
              "      <td>988</td>\n",
              "      <td>fulan 988</td>\n",
              "      <td>NaN</td>\n",
              "      <td>35</td>\n",
              "      <td>1130 Turner Estate DrSuite 925</td>\n",
              "      <td>9386</td>\n",
              "      <td>New Harry</td>\n",
              "      <td>Western Australia</td>\n",
              "      <td>Australia</td>\n",
              "    </tr>\n",
              "  </tbody>\n",
              "</table>\n",
              "</div>"
            ],
            "text/plain": [
              "     customer_id customer_name gender  age                     home_address  \\\n",
              "38            39      fulan 39    NaN   80  7440 Cameron Estate DrSuite 628   \n",
              "167          168     fulan 168    NaN   27         2781 Berge MallSuite 452   \n",
              "322          322     fulan 322    NaN   30        593 Becker CircleApt. 333   \n",
              "393          393     fulan 393    NaN   34          5158 Levi HillSuite 531   \n",
              "442          442     fulan 442    NaN   26           5157 Feil RoadApt. 633   \n",
              "722          720     fulan 720    NaN   40         31 Jordan ParadeApt. 400   \n",
              "745          743     fulan 743    NaN   57   09 Christopher StreetSuite 967   \n",
              "773          771     fulan 771    NaN   74     7367 Wright JunctionApt. 773   \n",
              "798          795     fulan 795    NaN   49          487 Summer MewsApt. 874   \n",
              "801          798     fulan 798    NaN   56           27 Aiden KnollApt. 875   \n",
              "825          822     fulan 822    NaN   59        41 Jenkins KnollSuite 438   \n",
              "859          855     fulan 855    NaN   55       603 O'keefe KnollSuite 782   \n",
              "863          859     fulan 859    NaN   38            32 Isla GroveApt. 078   \n",
              "914          909     fulan 909    NaN   62    976 Murray Station StApt. 036   \n",
              "934          929     fulan 929    NaN   68           394 Lily HillSuite 153   \n",
              "948          943     fulan 943    NaN   64       3117 Heller PlaceSuite 149   \n",
              "952          946     fulan 946    NaN   24      8227 Nicholas HillSuite 150   \n",
              "994          988     fulan 988    NaN   35   1130 Turner Estate DrSuite 925   \n",
              "\n",
              "     zip_code                   city                         state    country  \n",
              "38       4622  North Victoriachester            Northern Territory  Australia  \n",
              "167      1975         North Leoburgh             Western Australia  Australia  \n",
              "322      1640             Jacobiview             Western Australia  Australia  \n",
              "393      1474             Johnsburgh                    Queensland  Australia  \n",
              "442      7249             Port Chloe               New South Wales  Australia  \n",
              "722      1380             West Henry               South Australia  Australia  \n",
              "745      6226         Lake Lukemouth             Western Australia  Australia  \n",
              "773      8882               Kuhntown                      Victoria  Australia  \n",
              "798      1712            East Hayden  Australian Capital Territory  Australia  \n",
              "801      6531               Port Sam  Australian Capital Territory  Australia  \n",
              "825      2588        Lake Andrewport               South Australia  Australia  \n",
              "859      8822        Port Dylanmouth                      Tasmania  Australia  \n",
              "863      7711            Rosechester               New South Wales  Australia  \n",
              "914      3227               Langfort                      Tasmania  Australia  \n",
              "934      2353             Beahanfurt            Northern Territory  Australia  \n",
              "948       822           North Elijah               South Australia  Australia  \n",
              "952       115           South Jasper                    Queensland  Australia  \n",
              "994      9386              New Harry             Western Australia  Australia  "
            ]
          },
          "execution_count": 27,
          "metadata": {},
          "output_type": "execute_result"
        }
      ],
      "source": [
        "customers_df[customers_df.gender.isna()]"
      ]
    },
    {
      "cell_type": "code",
      "execution_count": 28,
      "metadata": {
        "colab": {
          "base_uri": "https://localhost:8080/"
        },
        "id": "7FyK_UsfbBYm",
        "outputId": "a634700f-63dc-4443-b130-cca4cefc2273"
      },
      "outputs": [
        {
          "data": {
            "text/plain": [
              "gender\n",
              "Prefer not to say    725\n",
              "Male                 143\n",
              "Female               115\n",
              "Name: count, dtype: int64"
            ]
          },
          "execution_count": 28,
          "metadata": {},
          "output_type": "execute_result"
        }
      ],
      "source": [
        "customers_df.gender.value_counts()"
      ]
    },
    {
      "cell_type": "code",
      "execution_count": 29,
      "metadata": {
        "id": "xUFXziL3b-u6"
      },
      "outputs": [],
      "source": [
        "customers_df.fillna(value=\"Prefer not to say\", inplace=True)"
      ]
    },
    {
      "cell_type": "code",
      "execution_count": 30,
      "metadata": {
        "colab": {
          "base_uri": "https://localhost:8080/"
        },
        "id": "T34uN3dpcQWY",
        "outputId": "9cea35d5-1dc7-48b5-8aad-46d587e5622a"
      },
      "outputs": [
        {
          "data": {
            "text/plain": [
              "customer_id      0\n",
              "customer_name    0\n",
              "gender           0\n",
              "age              0\n",
              "home_address     0\n",
              "zip_code         0\n",
              "city             0\n",
              "state            0\n",
              "country          0\n",
              "dtype: int64"
            ]
          },
          "execution_count": 30,
          "metadata": {},
          "output_type": "execute_result"
        }
      ],
      "source": [
        "customers_df.isna().sum()"
      ]
    },
    {
      "cell_type": "markdown",
      "metadata": {
        "id": "eQBP_rlvcyS5"
      },
      "source": [
        "- Menangani inaccurate value"
      ]
    },
    {
      "cell_type": "code",
      "execution_count": 31,
      "metadata": {
        "colab": {
          "base_uri": "https://localhost:8080/",
          "height": 300
        },
        "id": "hHCt8Gkic4im",
        "outputId": "d4635854-7a80-4f2c-d06e-eaade78486f7"
      },
      "outputs": [
        {
          "data": {
            "text/html": [
              "<div>\n",
              "<style scoped>\n",
              "    .dataframe tbody tr th:only-of-type {\n",
              "        vertical-align: middle;\n",
              "    }\n",
              "\n",
              "    .dataframe tbody tr th {\n",
              "        vertical-align: top;\n",
              "    }\n",
              "\n",
              "    .dataframe thead th {\n",
              "        text-align: right;\n",
              "    }\n",
              "</style>\n",
              "<table border=\"1\" class=\"dataframe\">\n",
              "  <thead>\n",
              "    <tr style=\"text-align: right;\">\n",
              "      <th></th>\n",
              "      <th>customer_id</th>\n",
              "      <th>age</th>\n",
              "      <th>zip_code</th>\n",
              "    </tr>\n",
              "  </thead>\n",
              "  <tbody>\n",
              "    <tr>\n",
              "      <th>count</th>\n",
              "      <td>1001.000000</td>\n",
              "      <td>1001.000000</td>\n",
              "      <td>1001.000000</td>\n",
              "    </tr>\n",
              "    <tr>\n",
              "      <th>mean</th>\n",
              "      <td>500.942058</td>\n",
              "      <td>50.953047</td>\n",
              "      <td>5000.693307</td>\n",
              "    </tr>\n",
              "    <tr>\n",
              "      <th>std</th>\n",
              "      <td>289.013599</td>\n",
              "      <td>30.578437</td>\n",
              "      <td>2886.084454</td>\n",
              "    </tr>\n",
              "    <tr>\n",
              "      <th>min</th>\n",
              "      <td>1.000000</td>\n",
              "      <td>20.000000</td>\n",
              "      <td>2.000000</td>\n",
              "    </tr>\n",
              "    <tr>\n",
              "      <th>25%</th>\n",
              "      <td>251.000000</td>\n",
              "      <td>34.000000</td>\n",
              "      <td>2398.000000</td>\n",
              "    </tr>\n",
              "    <tr>\n",
              "      <th>50%</th>\n",
              "      <td>501.000000</td>\n",
              "      <td>50.000000</td>\n",
              "      <td>5079.000000</td>\n",
              "    </tr>\n",
              "    <tr>\n",
              "      <th>75%</th>\n",
              "      <td>751.000000</td>\n",
              "      <td>65.000000</td>\n",
              "      <td>7454.000000</td>\n",
              "    </tr>\n",
              "    <tr>\n",
              "      <th>max</th>\n",
              "      <td>1000.000000</td>\n",
              "      <td>700.000000</td>\n",
              "      <td>9998.000000</td>\n",
              "    </tr>\n",
              "  </tbody>\n",
              "</table>\n",
              "</div>"
            ],
            "text/plain": [
              "       customer_id          age     zip_code\n",
              "count  1001.000000  1001.000000  1001.000000\n",
              "mean    500.942058    50.953047  5000.693307\n",
              "std     289.013599    30.578437  2886.084454\n",
              "min       1.000000    20.000000     2.000000\n",
              "25%     251.000000    34.000000  2398.000000\n",
              "50%     501.000000    50.000000  5079.000000\n",
              "75%     751.000000    65.000000  7454.000000\n",
              "max    1000.000000   700.000000  9998.000000"
            ]
          },
          "execution_count": 31,
          "metadata": {},
          "output_type": "execute_result"
        }
      ],
      "source": [
        "customers_df.describe()"
      ]
    },
    {
      "cell_type": "code",
      "execution_count": 32,
      "metadata": {
        "colab": {
          "base_uri": "https://localhost:8080/",
          "height": 142
        },
        "id": "wSlpZTluc_mi",
        "outputId": "716e07e2-98d1-439d-db01-7a7ca1dd7d35"
      },
      "outputs": [
        {
          "data": {
            "text/html": [
              "<div>\n",
              "<style scoped>\n",
              "    .dataframe tbody tr th:only-of-type {\n",
              "        vertical-align: middle;\n",
              "    }\n",
              "\n",
              "    .dataframe tbody tr th {\n",
              "        vertical-align: top;\n",
              "    }\n",
              "\n",
              "    .dataframe thead th {\n",
              "        text-align: right;\n",
              "    }\n",
              "</style>\n",
              "<table border=\"1\" class=\"dataframe\">\n",
              "  <thead>\n",
              "    <tr style=\"text-align: right;\">\n",
              "      <th></th>\n",
              "      <th>customer_id</th>\n",
              "      <th>customer_name</th>\n",
              "      <th>gender</th>\n",
              "      <th>age</th>\n",
              "      <th>home_address</th>\n",
              "      <th>zip_code</th>\n",
              "      <th>city</th>\n",
              "      <th>state</th>\n",
              "      <th>country</th>\n",
              "    </tr>\n",
              "  </thead>\n",
              "  <tbody>\n",
              "    <tr>\n",
              "      <th>967</th>\n",
              "      <td>961</td>\n",
              "      <td>fulan 961</td>\n",
              "      <td>Prefer not to say</td>\n",
              "      <td>700</td>\n",
              "      <td>29 Farrell ParadeSuite 818</td>\n",
              "      <td>6528</td>\n",
              "      <td>New Joseph</td>\n",
              "      <td>South Australia</td>\n",
              "      <td>Australia</td>\n",
              "    </tr>\n",
              "  </tbody>\n",
              "</table>\n",
              "</div>"
            ],
            "text/plain": [
              "     customer_id customer_name             gender  age  \\\n",
              "967          961     fulan 961  Prefer not to say  700   \n",
              "\n",
              "                   home_address  zip_code        city            state  \\\n",
              "967  29 Farrell ParadeSuite 818      6528  New Joseph  South Australia   \n",
              "\n",
              "       country  \n",
              "967  Australia  "
            ]
          },
          "execution_count": 32,
          "metadata": {},
          "output_type": "execute_result"
        }
      ],
      "source": [
        "customers_df[customers_df.age == customers_df.age.max()]"
      ]
    },
    {
      "cell_type": "code",
      "execution_count": 33,
      "metadata": {
        "id": "IvjDTgXddVUC"
      },
      "outputs": [],
      "source": [
        "customers_df.age.replace(customers_df.age.max(), 70, inplace=True)"
      ]
    },
    {
      "cell_type": "code",
      "execution_count": 34,
      "metadata": {
        "colab": {
          "base_uri": "https://localhost:8080/",
          "height": 142
        },
        "id": "f1pnJd24d2pu",
        "outputId": "0dafefee-702b-4394-b35f-0f7aded798b2"
      },
      "outputs": [
        {
          "data": {
            "text/html": [
              "<div>\n",
              "<style scoped>\n",
              "    .dataframe tbody tr th:only-of-type {\n",
              "        vertical-align: middle;\n",
              "    }\n",
              "\n",
              "    .dataframe tbody tr th {\n",
              "        vertical-align: top;\n",
              "    }\n",
              "\n",
              "    .dataframe thead th {\n",
              "        text-align: right;\n",
              "    }\n",
              "</style>\n",
              "<table border=\"1\" class=\"dataframe\">\n",
              "  <thead>\n",
              "    <tr style=\"text-align: right;\">\n",
              "      <th></th>\n",
              "      <th>customer_id</th>\n",
              "      <th>customer_name</th>\n",
              "      <th>gender</th>\n",
              "      <th>age</th>\n",
              "      <th>home_address</th>\n",
              "      <th>zip_code</th>\n",
              "      <th>city</th>\n",
              "      <th>state</th>\n",
              "      <th>country</th>\n",
              "    </tr>\n",
              "  </thead>\n",
              "  <tbody>\n",
              "    <tr>\n",
              "      <th>215</th>\n",
              "      <td>216</td>\n",
              "      <td>fulan 216</td>\n",
              "      <td>Prefer not to say</td>\n",
              "      <td>500</td>\n",
              "      <td>038 Haley MewsApt. 810</td>\n",
              "      <td>3991</td>\n",
              "      <td>Bayertown</td>\n",
              "      <td>Northern Territory</td>\n",
              "      <td>Australia</td>\n",
              "    </tr>\n",
              "  </tbody>\n",
              "</table>\n",
              "</div>"
            ],
            "text/plain": [
              "     customer_id customer_name             gender  age  \\\n",
              "215          216     fulan 216  Prefer not to say  500   \n",
              "\n",
              "               home_address  zip_code       city               state  \\\n",
              "215  038 Haley MewsApt. 810      3991  Bayertown  Northern Territory   \n",
              "\n",
              "       country  \n",
              "215  Australia  "
            ]
          },
          "execution_count": 34,
          "metadata": {},
          "output_type": "execute_result"
        }
      ],
      "source": [
        "customers_df[customers_df.age == customers_df.age.max()]"
      ]
    },
    {
      "cell_type": "code",
      "execution_count": 35,
      "metadata": {
        "id": "FGNHok01d7cM"
      },
      "outputs": [],
      "source": [
        "customers_df.age.replace(customers_df.age.max(), 50, inplace=True)"
      ]
    },
    {
      "cell_type": "code",
      "execution_count": 36,
      "metadata": {
        "colab": {
          "base_uri": "https://localhost:8080/",
          "height": 300
        },
        "id": "dTysK6Snd-Ng",
        "outputId": "a6f92d28-a947-41d2-a524-1544966c3161"
      },
      "outputs": [
        {
          "data": {
            "text/html": [
              "<div>\n",
              "<style scoped>\n",
              "    .dataframe tbody tr th:only-of-type {\n",
              "        vertical-align: middle;\n",
              "    }\n",
              "\n",
              "    .dataframe tbody tr th {\n",
              "        vertical-align: top;\n",
              "    }\n",
              "\n",
              "    .dataframe thead th {\n",
              "        text-align: right;\n",
              "    }\n",
              "</style>\n",
              "<table border=\"1\" class=\"dataframe\">\n",
              "  <thead>\n",
              "    <tr style=\"text-align: right;\">\n",
              "      <th></th>\n",
              "      <th>customer_id</th>\n",
              "      <th>age</th>\n",
              "      <th>zip_code</th>\n",
              "    </tr>\n",
              "  </thead>\n",
              "  <tbody>\n",
              "    <tr>\n",
              "      <th>count</th>\n",
              "      <td>1001.000000</td>\n",
              "      <td>1001.000000</td>\n",
              "      <td>1001.000000</td>\n",
              "    </tr>\n",
              "    <tr>\n",
              "      <th>mean</th>\n",
              "      <td>500.942058</td>\n",
              "      <td>49.874126</td>\n",
              "      <td>5000.693307</td>\n",
              "    </tr>\n",
              "    <tr>\n",
              "      <th>std</th>\n",
              "      <td>289.013599</td>\n",
              "      <td>17.644663</td>\n",
              "      <td>2886.084454</td>\n",
              "    </tr>\n",
              "    <tr>\n",
              "      <th>min</th>\n",
              "      <td>1.000000</td>\n",
              "      <td>20.000000</td>\n",
              "      <td>2.000000</td>\n",
              "    </tr>\n",
              "    <tr>\n",
              "      <th>25%</th>\n",
              "      <td>251.000000</td>\n",
              "      <td>34.000000</td>\n",
              "      <td>2398.000000</td>\n",
              "    </tr>\n",
              "    <tr>\n",
              "      <th>50%</th>\n",
              "      <td>501.000000</td>\n",
              "      <td>50.000000</td>\n",
              "      <td>5079.000000</td>\n",
              "    </tr>\n",
              "    <tr>\n",
              "      <th>75%</th>\n",
              "      <td>751.000000</td>\n",
              "      <td>65.000000</td>\n",
              "      <td>7454.000000</td>\n",
              "    </tr>\n",
              "    <tr>\n",
              "      <th>max</th>\n",
              "      <td>1000.000000</td>\n",
              "      <td>80.000000</td>\n",
              "      <td>9998.000000</td>\n",
              "    </tr>\n",
              "  </tbody>\n",
              "</table>\n",
              "</div>"
            ],
            "text/plain": [
              "       customer_id          age     zip_code\n",
              "count  1001.000000  1001.000000  1001.000000\n",
              "mean    500.942058    49.874126  5000.693307\n",
              "std     289.013599    17.644663  2886.084454\n",
              "min       1.000000    20.000000     2.000000\n",
              "25%     251.000000    34.000000  2398.000000\n",
              "50%     501.000000    50.000000  5079.000000\n",
              "75%     751.000000    65.000000  7454.000000\n",
              "max    1000.000000    80.000000  9998.000000"
            ]
          },
          "execution_count": 36,
          "metadata": {},
          "output_type": "execute_result"
        }
      ],
      "source": [
        "customers_df.describe()"
      ]
    },
    {
      "cell_type": "markdown",
      "metadata": {
        "id": "i8raJKPfeQXM"
      },
      "source": [
        "#### Membersihkan Data `orders_df`"
      ]
    },
    {
      "cell_type": "code",
      "execution_count": 37,
      "metadata": {
        "colab": {
          "base_uri": "https://localhost:8080/"
        },
        "id": "jskFf9yVnX9h",
        "outputId": "2ec5e43f-a401-480c-a569-a740afb45f3a"
      },
      "outputs": [
        {
          "name": "stdout",
          "output_type": "stream",
          "text": [
            "<class 'pandas.core.frame.DataFrame'>\n",
            "RangeIndex: 1000 entries, 0 to 999\n",
            "Data columns (total 5 columns):\n",
            " #   Column         Non-Null Count  Dtype \n",
            "---  ------         --------------  ----- \n",
            " 0   order_id       1000 non-null   int64 \n",
            " 1   customer_id    1000 non-null   int64 \n",
            " 2   payment        1000 non-null   int64 \n",
            " 3   order_date     1000 non-null   object\n",
            " 4   delivery_date  1000 non-null   object\n",
            "dtypes: int64(3), object(2)\n",
            "memory usage: 39.2+ KB\n"
          ]
        }
      ],
      "source": [
        "orders_df.info()"
      ]
    },
    {
      "cell_type": "markdown",
      "metadata": {
        "id": "1mfqg5p5nGM6"
      },
      "source": [
        "- Memperbaiki tipe data"
      ]
    },
    {
      "cell_type": "code",
      "execution_count": 38,
      "metadata": {
        "id": "CrSljWW9eW9V"
      },
      "outputs": [],
      "source": [
        "datetime_columns = [\"order_date\", \"delivery_date\"]\n",
        "\n",
        "for column in datetime_columns:\n",
        "  orders_df[column] = pd.to_datetime(orders_df[column])"
      ]
    },
    {
      "cell_type": "code",
      "execution_count": 39,
      "metadata": {
        "colab": {
          "base_uri": "https://localhost:8080/"
        },
        "id": "Rz5Koc_3nmqs",
        "outputId": "a51a4318-6154-4a8e-dd8e-118a5f628b7e"
      },
      "outputs": [
        {
          "name": "stdout",
          "output_type": "stream",
          "text": [
            "<class 'pandas.core.frame.DataFrame'>\n",
            "RangeIndex: 1000 entries, 0 to 999\n",
            "Data columns (total 5 columns):\n",
            " #   Column         Non-Null Count  Dtype         \n",
            "---  ------         --------------  -----         \n",
            " 0   order_id       1000 non-null   int64         \n",
            " 1   customer_id    1000 non-null   int64         \n",
            " 2   payment        1000 non-null   int64         \n",
            " 3   order_date     1000 non-null   datetime64[ns]\n",
            " 4   delivery_date  1000 non-null   datetime64[ns]\n",
            "dtypes: datetime64[ns](2), int64(3)\n",
            "memory usage: 39.2 KB\n"
          ]
        }
      ],
      "source": [
        "orders_df.info()"
      ]
    },
    {
      "cell_type": "code",
      "execution_count": 40,
      "metadata": {
        "colab": {
          "base_uri": "https://localhost:8080/",
          "height": 206
        },
        "id": "YmnDfRcPnqc5",
        "outputId": "bc23f2b4-1a49-42bd-975d-8df7d85ea5a0"
      },
      "outputs": [
        {
          "data": {
            "text/html": [
              "<div>\n",
              "<style scoped>\n",
              "    .dataframe tbody tr th:only-of-type {\n",
              "        vertical-align: middle;\n",
              "    }\n",
              "\n",
              "    .dataframe tbody tr th {\n",
              "        vertical-align: top;\n",
              "    }\n",
              "\n",
              "    .dataframe thead th {\n",
              "        text-align: right;\n",
              "    }\n",
              "</style>\n",
              "<table border=\"1\" class=\"dataframe\">\n",
              "  <thead>\n",
              "    <tr style=\"text-align: right;\">\n",
              "      <th></th>\n",
              "      <th>order_id</th>\n",
              "      <th>customer_id</th>\n",
              "      <th>payment</th>\n",
              "      <th>order_date</th>\n",
              "      <th>delivery_date</th>\n",
              "    </tr>\n",
              "  </thead>\n",
              "  <tbody>\n",
              "    <tr>\n",
              "      <th>0</th>\n",
              "      <td>1</td>\n",
              "      <td>64</td>\n",
              "      <td>30811</td>\n",
              "      <td>2021-08-30</td>\n",
              "      <td>2021-09-24</td>\n",
              "    </tr>\n",
              "    <tr>\n",
              "      <th>1</th>\n",
              "      <td>2</td>\n",
              "      <td>473</td>\n",
              "      <td>50490</td>\n",
              "      <td>2021-02-03</td>\n",
              "      <td>2021-02-13</td>\n",
              "    </tr>\n",
              "    <tr>\n",
              "      <th>2</th>\n",
              "      <td>3</td>\n",
              "      <td>774</td>\n",
              "      <td>46763</td>\n",
              "      <td>2021-10-08</td>\n",
              "      <td>2021-11-03</td>\n",
              "    </tr>\n",
              "    <tr>\n",
              "      <th>3</th>\n",
              "      <td>4</td>\n",
              "      <td>433</td>\n",
              "      <td>39782</td>\n",
              "      <td>2021-05-06</td>\n",
              "      <td>2021-05-19</td>\n",
              "    </tr>\n",
              "    <tr>\n",
              "      <th>4</th>\n",
              "      <td>5</td>\n",
              "      <td>441</td>\n",
              "      <td>14719</td>\n",
              "      <td>2021-03-23</td>\n",
              "      <td>2021-03-24</td>\n",
              "    </tr>\n",
              "  </tbody>\n",
              "</table>\n",
              "</div>"
            ],
            "text/plain": [
              "   order_id  customer_id  payment order_date delivery_date\n",
              "0         1           64    30811 2021-08-30    2021-09-24\n",
              "1         2          473    50490 2021-02-03    2021-02-13\n",
              "2         3          774    46763 2021-10-08    2021-11-03\n",
              "3         4          433    39782 2021-05-06    2021-05-19\n",
              "4         5          441    14719 2021-03-23    2021-03-24"
            ]
          },
          "execution_count": 40,
          "metadata": {},
          "output_type": "execute_result"
        }
      ],
      "source": [
        "orders_df.head()"
      ]
    },
    {
      "cell_type": "markdown",
      "metadata": {
        "id": "w0HH8Pc_gqRU"
      },
      "source": [
        "#### Membersihkan Data `product_df`"
      ]
    },
    {
      "cell_type": "markdown",
      "metadata": {
        "id": "pzvA60onhGtz"
      },
      "source": [
        "- Duplicate data"
      ]
    },
    {
      "cell_type": "code",
      "execution_count": 41,
      "metadata": {
        "colab": {
          "base_uri": "https://localhost:8080/",
          "height": 385
        },
        "id": "GZyuDKxSgwRs",
        "outputId": "09946582-9298-4ba9-8e92-c674eec12f05"
      },
      "outputs": [
        {
          "data": {
            "text/html": [
              "<div>\n",
              "<style scoped>\n",
              "    .dataframe tbody tr th:only-of-type {\n",
              "        vertical-align: middle;\n",
              "    }\n",
              "\n",
              "    .dataframe tbody tr th {\n",
              "        vertical-align: top;\n",
              "    }\n",
              "\n",
              "    .dataframe thead th {\n",
              "        text-align: right;\n",
              "    }\n",
              "</style>\n",
              "<table border=\"1\" class=\"dataframe\">\n",
              "  <thead>\n",
              "    <tr style=\"text-align: right;\">\n",
              "      <th></th>\n",
              "      <th>product_id</th>\n",
              "      <th>product_type</th>\n",
              "      <th>product_name</th>\n",
              "      <th>size</th>\n",
              "      <th>colour</th>\n",
              "      <th>price</th>\n",
              "      <th>quantity</th>\n",
              "      <th>description</th>\n",
              "    </tr>\n",
              "  </thead>\n",
              "  <tbody>\n",
              "    <tr>\n",
              "      <th>112</th>\n",
              "      <td>54</td>\n",
              "      <td>Shirt</td>\n",
              "      <td>Dress</td>\n",
              "      <td>XL</td>\n",
              "      <td>green</td>\n",
              "      <td>119</td>\n",
              "      <td>52</td>\n",
              "      <td>A green coloured, XL sized, Dress Shirt</td>\n",
              "    </tr>\n",
              "    <tr>\n",
              "      <th>232</th>\n",
              "      <td>146</td>\n",
              "      <td>Shirt</td>\n",
              "      <td>Linen</td>\n",
              "      <td>S</td>\n",
              "      <td>orange</td>\n",
              "      <td>116</td>\n",
              "      <td>42</td>\n",
              "      <td>A orange coloured, S sized, Linen Shirt</td>\n",
              "    </tr>\n",
              "    <tr>\n",
              "      <th>365</th>\n",
              "      <td>146</td>\n",
              "      <td>Shirt</td>\n",
              "      <td>Linen</td>\n",
              "      <td>S</td>\n",
              "      <td>orange</td>\n",
              "      <td>116</td>\n",
              "      <td>42</td>\n",
              "      <td>A orange coloured, S sized, Linen Shirt</td>\n",
              "    </tr>\n",
              "    <tr>\n",
              "      <th>435</th>\n",
              "      <td>377</td>\n",
              "      <td>Shirt</td>\n",
              "      <td>Henley</td>\n",
              "      <td>M</td>\n",
              "      <td>indigo</td>\n",
              "      <td>92</td>\n",
              "      <td>70</td>\n",
              "      <td>A indigo coloured, M sized, Henley Shirt</td>\n",
              "    </tr>\n",
              "    <tr>\n",
              "      <th>540</th>\n",
              "      <td>483</td>\n",
              "      <td>Jacket</td>\n",
              "      <td>Puffer</td>\n",
              "      <td>L</td>\n",
              "      <td>indigo</td>\n",
              "      <td>110</td>\n",
              "      <td>61</td>\n",
              "      <td>A indigo coloured, L sized, Puffer Jacket</td>\n",
              "    </tr>\n",
              "    <tr>\n",
              "      <th>587</th>\n",
              "      <td>579</td>\n",
              "      <td>Jacket</td>\n",
              "      <td>Bomber</td>\n",
              "      <td>XL</td>\n",
              "      <td>green</td>\n",
              "      <td>90</td>\n",
              "      <td>79</td>\n",
              "      <td>A green coloured, XL sized, Bomber Jacket</td>\n",
              "    </tr>\n",
              "  </tbody>\n",
              "</table>\n",
              "</div>"
            ],
            "text/plain": [
              "     product_id product_type product_name size  colour  price  quantity  \\\n",
              "112          54        Shirt        Dress   XL   green    119        52   \n",
              "232         146        Shirt        Linen    S  orange    116        42   \n",
              "365         146        Shirt        Linen    S  orange    116        42   \n",
              "435         377        Shirt       Henley    M  indigo     92        70   \n",
              "540         483       Jacket       Puffer    L  indigo    110        61   \n",
              "587         579       Jacket       Bomber   XL   green     90        79   \n",
              "\n",
              "                                   description  \n",
              "112    A green coloured, XL sized, Dress Shirt  \n",
              "232    A orange coloured, S sized, Linen Shirt  \n",
              "365    A orange coloured, S sized, Linen Shirt  \n",
              "435   A indigo coloured, M sized, Henley Shirt  \n",
              "540  A indigo coloured, L sized, Puffer Jacket  \n",
              "587  A green coloured, XL sized, Bomber Jacket  "
            ]
          },
          "execution_count": 41,
          "metadata": {},
          "output_type": "execute_result"
        }
      ],
      "source": [
        "product_df[product_df.duplicated()]"
      ]
    },
    {
      "cell_type": "code",
      "execution_count": 42,
      "metadata": {
        "id": "vn2PQ3ZPhnFx"
      },
      "outputs": [],
      "source": [
        "product_df.drop_duplicates(inplace=True)"
      ]
    },
    {
      "cell_type": "code",
      "execution_count": 43,
      "metadata": {
        "colab": {
          "base_uri": "https://localhost:8080/"
        },
        "id": "oN392JWzhv1d",
        "outputId": "77b77d78-29ff-4c20-ffd1-feb9fd260621"
      },
      "outputs": [
        {
          "name": "stdout",
          "output_type": "stream",
          "text": [
            "Jumlah duplikasi:  0\n"
          ]
        }
      ],
      "source": [
        "print(\"Jumlah duplikasi: \", product_df.duplicated().sum())"
      ]
    },
    {
      "cell_type": "markdown",
      "metadata": {
        "id": "nZNXq9dAiG7r"
      },
      "source": [
        "#### Membersihkan Data `sales_df`"
      ]
    },
    {
      "cell_type": "markdown",
      "metadata": {
        "id": "yENrrextiX-T"
      },
      "source": [
        "- Missing values"
      ]
    },
    {
      "cell_type": "code",
      "execution_count": 44,
      "metadata": {
        "colab": {
          "base_uri": "https://localhost:8080/"
        },
        "id": "YMbGrPdIiL--",
        "outputId": "e19f6eab-7498-4815-a968-75ba07e23742"
      },
      "outputs": [
        {
          "data": {
            "text/plain": [
              "sales_id           0\n",
              "order_id           0\n",
              "product_id         0\n",
              "price_per_unit     0\n",
              "quantity           0\n",
              "total_price       19\n",
              "dtype: int64"
            ]
          },
          "execution_count": 44,
          "metadata": {},
          "output_type": "execute_result"
        }
      ],
      "source": [
        "sales_df.isna().sum()"
      ]
    },
    {
      "cell_type": "code",
      "execution_count": 45,
      "metadata": {
        "colab": {
          "base_uri": "https://localhost:8080/",
          "height": 645
        },
        "id": "3ePYVgelicHe",
        "outputId": "c346f46c-7bdf-47f2-aeb0-3b49dfbe8f44"
      },
      "outputs": [
        {
          "data": {
            "text/html": [
              "<div>\n",
              "<style scoped>\n",
              "    .dataframe tbody tr th:only-of-type {\n",
              "        vertical-align: middle;\n",
              "    }\n",
              "\n",
              "    .dataframe tbody tr th {\n",
              "        vertical-align: top;\n",
              "    }\n",
              "\n",
              "    .dataframe thead th {\n",
              "        text-align: right;\n",
              "    }\n",
              "</style>\n",
              "<table border=\"1\" class=\"dataframe\">\n",
              "  <thead>\n",
              "    <tr style=\"text-align: right;\">\n",
              "      <th></th>\n",
              "      <th>sales_id</th>\n",
              "      <th>order_id</th>\n",
              "      <th>product_id</th>\n",
              "      <th>price_per_unit</th>\n",
              "      <th>quantity</th>\n",
              "      <th>total_price</th>\n",
              "    </tr>\n",
              "  </thead>\n",
              "  <tbody>\n",
              "    <tr>\n",
              "      <th>9</th>\n",
              "      <td>9</td>\n",
              "      <td>2</td>\n",
              "      <td>1196</td>\n",
              "      <td>105</td>\n",
              "      <td>1</td>\n",
              "      <td>NaN</td>\n",
              "    </tr>\n",
              "    <tr>\n",
              "      <th>121</th>\n",
              "      <td>121</td>\n",
              "      <td>27</td>\n",
              "      <td>1027</td>\n",
              "      <td>90</td>\n",
              "      <td>3</td>\n",
              "      <td>NaN</td>\n",
              "    </tr>\n",
              "    <tr>\n",
              "      <th>278</th>\n",
              "      <td>278</td>\n",
              "      <td>63</td>\n",
              "      <td>360</td>\n",
              "      <td>94</td>\n",
              "      <td>2</td>\n",
              "      <td>NaN</td>\n",
              "    </tr>\n",
              "    <tr>\n",
              "      <th>421</th>\n",
              "      <td>421</td>\n",
              "      <td>95</td>\n",
              "      <td>1091</td>\n",
              "      <td>115</td>\n",
              "      <td>1</td>\n",
              "      <td>NaN</td>\n",
              "    </tr>\n",
              "    <tr>\n",
              "      <th>489</th>\n",
              "      <td>489</td>\n",
              "      <td>108</td>\n",
              "      <td>1193</td>\n",
              "      <td>105</td>\n",
              "      <td>3</td>\n",
              "      <td>NaN</td>\n",
              "    </tr>\n",
              "    <tr>\n",
              "      <th>539</th>\n",
              "      <td>539</td>\n",
              "      <td>117</td>\n",
              "      <td>405</td>\n",
              "      <td>119</td>\n",
              "      <td>2</td>\n",
              "      <td>NaN</td>\n",
              "    </tr>\n",
              "    <tr>\n",
              "      <th>636</th>\n",
              "      <td>636</td>\n",
              "      <td>134</td>\n",
              "      <td>653</td>\n",
              "      <td>93</td>\n",
              "      <td>3</td>\n",
              "      <td>NaN</td>\n",
              "    </tr>\n",
              "    <tr>\n",
              "      <th>687</th>\n",
              "      <td>687</td>\n",
              "      <td>145</td>\n",
              "      <td>1138</td>\n",
              "      <td>102</td>\n",
              "      <td>1</td>\n",
              "      <td>NaN</td>\n",
              "    </tr>\n",
              "    <tr>\n",
              "      <th>854</th>\n",
              "      <td>854</td>\n",
              "      <td>177</td>\n",
              "      <td>64</td>\n",
              "      <td>104</td>\n",
              "      <td>1</td>\n",
              "      <td>NaN</td>\n",
              "    </tr>\n",
              "    <tr>\n",
              "      <th>1079</th>\n",
              "      <td>1079</td>\n",
              "      <td>222</td>\n",
              "      <td>908</td>\n",
              "      <td>94</td>\n",
              "      <td>3</td>\n",
              "      <td>NaN</td>\n",
              "    </tr>\n",
              "    <tr>\n",
              "      <th>1193</th>\n",
              "      <td>1193</td>\n",
              "      <td>248</td>\n",
              "      <td>1121</td>\n",
              "      <td>102</td>\n",
              "      <td>2</td>\n",
              "      <td>NaN</td>\n",
              "    </tr>\n",
              "    <tr>\n",
              "      <th>1313</th>\n",
              "      <td>1313</td>\n",
              "      <td>272</td>\n",
              "      <td>826</td>\n",
              "      <td>117</td>\n",
              "      <td>1</td>\n",
              "      <td>NaN</td>\n",
              "    </tr>\n",
              "    <tr>\n",
              "      <th>1548</th>\n",
              "      <td>1548</td>\n",
              "      <td>316</td>\n",
              "      <td>103</td>\n",
              "      <td>118</td>\n",
              "      <td>3</td>\n",
              "      <td>NaN</td>\n",
              "    </tr>\n",
              "    <tr>\n",
              "      <th>1688</th>\n",
              "      <td>1688</td>\n",
              "      <td>345</td>\n",
              "      <td>428</td>\n",
              "      <td>107</td>\n",
              "      <td>1</td>\n",
              "      <td>NaN</td>\n",
              "    </tr>\n",
              "    <tr>\n",
              "      <th>1775</th>\n",
              "      <td>1775</td>\n",
              "      <td>359</td>\n",
              "      <td>694</td>\n",
              "      <td>113</td>\n",
              "      <td>2</td>\n",
              "      <td>NaN</td>\n",
              "    </tr>\n",
              "    <tr>\n",
              "      <th>1902</th>\n",
              "      <td>1902</td>\n",
              "      <td>381</td>\n",
              "      <td>1218</td>\n",
              "      <td>105</td>\n",
              "      <td>3</td>\n",
              "      <td>NaN</td>\n",
              "    </tr>\n",
              "    <tr>\n",
              "      <th>2025</th>\n",
              "      <td>2025</td>\n",
              "      <td>408</td>\n",
              "      <td>611</td>\n",
              "      <td>112</td>\n",
              "      <td>3</td>\n",
              "      <td>NaN</td>\n",
              "    </tr>\n",
              "    <tr>\n",
              "      <th>2164</th>\n",
              "      <td>2164</td>\n",
              "      <td>436</td>\n",
              "      <td>583</td>\n",
              "      <td>100</td>\n",
              "      <td>3</td>\n",
              "      <td>NaN</td>\n",
              "    </tr>\n",
              "    <tr>\n",
              "      <th>2347</th>\n",
              "      <td>2347</td>\n",
              "      <td>476</td>\n",
              "      <td>696</td>\n",
              "      <td>113</td>\n",
              "      <td>2</td>\n",
              "      <td>NaN</td>\n",
              "    </tr>\n",
              "  </tbody>\n",
              "</table>\n",
              "</div>"
            ],
            "text/plain": [
              "      sales_id  order_id  product_id  price_per_unit  quantity  total_price\n",
              "9            9         2        1196             105         1          NaN\n",
              "121        121        27        1027              90         3          NaN\n",
              "278        278        63         360              94         2          NaN\n",
              "421        421        95        1091             115         1          NaN\n",
              "489        489       108        1193             105         3          NaN\n",
              "539        539       117         405             119         2          NaN\n",
              "636        636       134         653              93         3          NaN\n",
              "687        687       145        1138             102         1          NaN\n",
              "854        854       177          64             104         1          NaN\n",
              "1079      1079       222         908              94         3          NaN\n",
              "1193      1193       248        1121             102         2          NaN\n",
              "1313      1313       272         826             117         1          NaN\n",
              "1548      1548       316         103             118         3          NaN\n",
              "1688      1688       345         428             107         1          NaN\n",
              "1775      1775       359         694             113         2          NaN\n",
              "1902      1902       381        1218             105         3          NaN\n",
              "2025      2025       408         611             112         3          NaN\n",
              "2164      2164       436         583             100         3          NaN\n",
              "2347      2347       476         696             113         2          NaN"
            ]
          },
          "execution_count": 45,
          "metadata": {},
          "output_type": "execute_result"
        }
      ],
      "source": [
        "sales_df[sales_df.total_price.isna()]"
      ]
    },
    {
      "cell_type": "code",
      "execution_count": 46,
      "metadata": {
        "id": "D-w9TLwkjggv"
      },
      "outputs": [],
      "source": [
        "sales_df[\"total_price\"] = sales_df[\"price_per_unit\"] * sales_df[\"quantity\"]"
      ]
    },
    {
      "cell_type": "code",
      "execution_count": 47,
      "metadata": {
        "colab": {
          "base_uri": "https://localhost:8080/"
        },
        "id": "5omDu1brjwh-",
        "outputId": "9eb04f10-b3f1-4329-c1ba-e806726bac0a"
      },
      "outputs": [
        {
          "data": {
            "text/plain": [
              "sales_id          0\n",
              "order_id          0\n",
              "product_id        0\n",
              "price_per_unit    0\n",
              "quantity          0\n",
              "total_price       0\n",
              "dtype: int64"
            ]
          },
          "execution_count": 47,
          "metadata": {},
          "output_type": "execute_result"
        }
      ],
      "source": [
        "sales_df.isna().sum()"
      ]
    },
    {
      "cell_type": "markdown",
      "metadata": {},
      "source": [
        "# Exploratory Data Analysis"
      ]
    },
    {
      "cell_type": "markdown",
      "metadata": {
        "id": "TWphDIqdovM9"
      },
      "source": [
        "### Latihan Exploratory Data Analysis"
      ]
    },
    {
      "cell_type": "markdown",
      "metadata": {
        "id": "8bbsHzoHpo8v"
      },
      "source": [
        "#### Explore Data `customers_df`"
      ]
    },
    {
      "cell_type": "code",
      "execution_count": 48,
      "metadata": {
        "colab": {
          "base_uri": "https://localhost:8080/",
          "height": 406
        },
        "id": "ASkYLHuUozsI",
        "outputId": "6e9952a3-838e-4c80-8681-381a803adac3"
      },
      "outputs": [
        {
          "data": {
            "text/html": [
              "<div>\n",
              "<style scoped>\n",
              "    .dataframe tbody tr th:only-of-type {\n",
              "        vertical-align: middle;\n",
              "    }\n",
              "\n",
              "    .dataframe tbody tr th {\n",
              "        vertical-align: top;\n",
              "    }\n",
              "\n",
              "    .dataframe thead th {\n",
              "        text-align: right;\n",
              "    }\n",
              "</style>\n",
              "<table border=\"1\" class=\"dataframe\">\n",
              "  <thead>\n",
              "    <tr style=\"text-align: right;\">\n",
              "      <th></th>\n",
              "      <th>customer_id</th>\n",
              "      <th>customer_name</th>\n",
              "      <th>gender</th>\n",
              "      <th>age</th>\n",
              "      <th>home_address</th>\n",
              "      <th>zip_code</th>\n",
              "      <th>city</th>\n",
              "      <th>state</th>\n",
              "      <th>country</th>\n",
              "    </tr>\n",
              "  </thead>\n",
              "  <tbody>\n",
              "    <tr>\n",
              "      <th>17</th>\n",
              "      <td>18</td>\n",
              "      <td>fulan 18</td>\n",
              "      <td>Male</td>\n",
              "      <td>79</td>\n",
              "      <td>13 Bailey ManorApt. 848</td>\n",
              "      <td>7171</td>\n",
              "      <td>Walterland</td>\n",
              "      <td>New South Wales</td>\n",
              "      <td>Australia</td>\n",
              "    </tr>\n",
              "    <tr>\n",
              "      <th>335</th>\n",
              "      <td>335</td>\n",
              "      <td>fulan 335</td>\n",
              "      <td>Male</td>\n",
              "      <td>76</td>\n",
              "      <td>7443 Bayer RidgeSuite 024</td>\n",
              "      <td>5888</td>\n",
              "      <td>Lake George</td>\n",
              "      <td>Australian Capital Territory</td>\n",
              "      <td>Australia</td>\n",
              "    </tr>\n",
              "    <tr>\n",
              "      <th>7</th>\n",
              "      <td>8</td>\n",
              "      <td>fulan 8</td>\n",
              "      <td>Prefer not to say</td>\n",
              "      <td>75</td>\n",
              "      <td>383 Muller SummitSuite 809</td>\n",
              "      <td>7681</td>\n",
              "      <td>Samside</td>\n",
              "      <td>Northern Territory</td>\n",
              "      <td>Australia</td>\n",
              "    </tr>\n",
              "    <tr>\n",
              "      <th>255</th>\n",
              "      <td>256</td>\n",
              "      <td>fulan 256</td>\n",
              "      <td>Prefer not to say</td>\n",
              "      <td>46</td>\n",
              "      <td>7204 Toby SummitApt. 845</td>\n",
              "      <td>9007</td>\n",
              "      <td>North Lillian</td>\n",
              "      <td>Australian Capital Territory</td>\n",
              "      <td>Australia</td>\n",
              "    </tr>\n",
              "    <tr>\n",
              "      <th>606</th>\n",
              "      <td>605</td>\n",
              "      <td>fulan 605</td>\n",
              "      <td>Female</td>\n",
              "      <td>25</td>\n",
              "      <td>8676 William HillApt. 725</td>\n",
              "      <td>4750</td>\n",
              "      <td>Hamiltonshire</td>\n",
              "      <td>Western Australia</td>\n",
              "      <td>Australia</td>\n",
              "    </tr>\n",
              "  </tbody>\n",
              "</table>\n",
              "</div>"
            ],
            "text/plain": [
              "     customer_id customer_name             gender  age  \\\n",
              "17            18      fulan 18               Male   79   \n",
              "335          335     fulan 335               Male   76   \n",
              "7              8       fulan 8  Prefer not to say   75   \n",
              "255          256     fulan 256  Prefer not to say   46   \n",
              "606          605     fulan 605             Female   25   \n",
              "\n",
              "                   home_address  zip_code           city  \\\n",
              "17      13 Bailey ManorApt. 848      7171     Walterland   \n",
              "335   7443 Bayer RidgeSuite 024      5888    Lake George   \n",
              "7    383 Muller SummitSuite 809      7681        Samside   \n",
              "255    7204 Toby SummitApt. 845      9007  North Lillian   \n",
              "606   8676 William HillApt. 725      4750  Hamiltonshire   \n",
              "\n",
              "                            state    country  \n",
              "17                New South Wales  Australia  \n",
              "335  Australian Capital Territory  Australia  \n",
              "7              Northern Territory  Australia  \n",
              "255  Australian Capital Territory  Australia  \n",
              "606             Western Australia  Australia  "
            ]
          },
          "execution_count": 48,
          "metadata": {},
          "output_type": "execute_result"
        }
      ],
      "source": [
        "customers_df.sample(5)"
      ]
    },
    {
      "cell_type": "code",
      "execution_count": 49,
      "metadata": {
        "colab": {
          "base_uri": "https://localhost:8080/",
          "height": 493
        },
        "id": "_kXcJPmSp63A",
        "outputId": "b2b465ae-50bc-47e9-a6c9-85a62a851482"
      },
      "outputs": [
        {
          "data": {
            "text/html": [
              "<div>\n",
              "<style scoped>\n",
              "    .dataframe tbody tr th:only-of-type {\n",
              "        vertical-align: middle;\n",
              "    }\n",
              "\n",
              "    .dataframe tbody tr th {\n",
              "        vertical-align: top;\n",
              "    }\n",
              "\n",
              "    .dataframe thead th {\n",
              "        text-align: right;\n",
              "    }\n",
              "</style>\n",
              "<table border=\"1\" class=\"dataframe\">\n",
              "  <thead>\n",
              "    <tr style=\"text-align: right;\">\n",
              "      <th></th>\n",
              "      <th>customer_id</th>\n",
              "      <th>customer_name</th>\n",
              "      <th>gender</th>\n",
              "      <th>age</th>\n",
              "      <th>home_address</th>\n",
              "      <th>zip_code</th>\n",
              "      <th>city</th>\n",
              "      <th>state</th>\n",
              "      <th>country</th>\n",
              "    </tr>\n",
              "  </thead>\n",
              "  <tbody>\n",
              "    <tr>\n",
              "      <th>count</th>\n",
              "      <td>1001.000000</td>\n",
              "      <td>1001</td>\n",
              "      <td>1001</td>\n",
              "      <td>1001.000000</td>\n",
              "      <td>1001</td>\n",
              "      <td>1001.000000</td>\n",
              "      <td>1001</td>\n",
              "      <td>1001</td>\n",
              "      <td>1001</td>\n",
              "    </tr>\n",
              "    <tr>\n",
              "      <th>unique</th>\n",
              "      <td>NaN</td>\n",
              "      <td>1000</td>\n",
              "      <td>3</td>\n",
              "      <td>NaN</td>\n",
              "      <td>1000</td>\n",
              "      <td>NaN</td>\n",
              "      <td>961</td>\n",
              "      <td>8</td>\n",
              "      <td>1</td>\n",
              "    </tr>\n",
              "    <tr>\n",
              "      <th>top</th>\n",
              "      <td>NaN</td>\n",
              "      <td>fulan 943</td>\n",
              "      <td>Prefer not to say</td>\n",
              "      <td>NaN</td>\n",
              "      <td>3117 Heller PlaceSuite 149</td>\n",
              "      <td>NaN</td>\n",
              "      <td>East Aidan</td>\n",
              "      <td>South Australia</td>\n",
              "      <td>Australia</td>\n",
              "    </tr>\n",
              "    <tr>\n",
              "      <th>freq</th>\n",
              "      <td>NaN</td>\n",
              "      <td>2</td>\n",
              "      <td>743</td>\n",
              "      <td>NaN</td>\n",
              "      <td>2</td>\n",
              "      <td>NaN</td>\n",
              "      <td>3</td>\n",
              "      <td>140</td>\n",
              "      <td>1001</td>\n",
              "    </tr>\n",
              "    <tr>\n",
              "      <th>mean</th>\n",
              "      <td>500.942058</td>\n",
              "      <td>NaN</td>\n",
              "      <td>NaN</td>\n",
              "      <td>49.874126</td>\n",
              "      <td>NaN</td>\n",
              "      <td>5000.693307</td>\n",
              "      <td>NaN</td>\n",
              "      <td>NaN</td>\n",
              "      <td>NaN</td>\n",
              "    </tr>\n",
              "    <tr>\n",
              "      <th>std</th>\n",
              "      <td>289.013599</td>\n",
              "      <td>NaN</td>\n",
              "      <td>NaN</td>\n",
              "      <td>17.644663</td>\n",
              "      <td>NaN</td>\n",
              "      <td>2886.084454</td>\n",
              "      <td>NaN</td>\n",
              "      <td>NaN</td>\n",
              "      <td>NaN</td>\n",
              "    </tr>\n",
              "    <tr>\n",
              "      <th>min</th>\n",
              "      <td>1.000000</td>\n",
              "      <td>NaN</td>\n",
              "      <td>NaN</td>\n",
              "      <td>20.000000</td>\n",
              "      <td>NaN</td>\n",
              "      <td>2.000000</td>\n",
              "      <td>NaN</td>\n",
              "      <td>NaN</td>\n",
              "      <td>NaN</td>\n",
              "    </tr>\n",
              "    <tr>\n",
              "      <th>25%</th>\n",
              "      <td>251.000000</td>\n",
              "      <td>NaN</td>\n",
              "      <td>NaN</td>\n",
              "      <td>34.000000</td>\n",
              "      <td>NaN</td>\n",
              "      <td>2398.000000</td>\n",
              "      <td>NaN</td>\n",
              "      <td>NaN</td>\n",
              "      <td>NaN</td>\n",
              "    </tr>\n",
              "    <tr>\n",
              "      <th>50%</th>\n",
              "      <td>501.000000</td>\n",
              "      <td>NaN</td>\n",
              "      <td>NaN</td>\n",
              "      <td>50.000000</td>\n",
              "      <td>NaN</td>\n",
              "      <td>5079.000000</td>\n",
              "      <td>NaN</td>\n",
              "      <td>NaN</td>\n",
              "      <td>NaN</td>\n",
              "    </tr>\n",
              "    <tr>\n",
              "      <th>75%</th>\n",
              "      <td>751.000000</td>\n",
              "      <td>NaN</td>\n",
              "      <td>NaN</td>\n",
              "      <td>65.000000</td>\n",
              "      <td>NaN</td>\n",
              "      <td>7454.000000</td>\n",
              "      <td>NaN</td>\n",
              "      <td>NaN</td>\n",
              "      <td>NaN</td>\n",
              "    </tr>\n",
              "    <tr>\n",
              "      <th>max</th>\n",
              "      <td>1000.000000</td>\n",
              "      <td>NaN</td>\n",
              "      <td>NaN</td>\n",
              "      <td>80.000000</td>\n",
              "      <td>NaN</td>\n",
              "      <td>9998.000000</td>\n",
              "      <td>NaN</td>\n",
              "      <td>NaN</td>\n",
              "      <td>NaN</td>\n",
              "    </tr>\n",
              "  </tbody>\n",
              "</table>\n",
              "</div>"
            ],
            "text/plain": [
              "        customer_id customer_name             gender          age  \\\n",
              "count   1001.000000          1001               1001  1001.000000   \n",
              "unique          NaN          1000                  3          NaN   \n",
              "top             NaN     fulan 943  Prefer not to say          NaN   \n",
              "freq            NaN             2                743          NaN   \n",
              "mean     500.942058           NaN                NaN    49.874126   \n",
              "std      289.013599           NaN                NaN    17.644663   \n",
              "min        1.000000           NaN                NaN    20.000000   \n",
              "25%      251.000000           NaN                NaN    34.000000   \n",
              "50%      501.000000           NaN                NaN    50.000000   \n",
              "75%      751.000000           NaN                NaN    65.000000   \n",
              "max     1000.000000           NaN                NaN    80.000000   \n",
              "\n",
              "                      home_address     zip_code        city            state  \\\n",
              "count                         1001  1001.000000        1001             1001   \n",
              "unique                        1000          NaN         961                8   \n",
              "top     3117 Heller PlaceSuite 149          NaN  East Aidan  South Australia   \n",
              "freq                             2          NaN           3              140   \n",
              "mean                           NaN  5000.693307         NaN              NaN   \n",
              "std                            NaN  2886.084454         NaN              NaN   \n",
              "min                            NaN     2.000000         NaN              NaN   \n",
              "25%                            NaN  2398.000000         NaN              NaN   \n",
              "50%                            NaN  5079.000000         NaN              NaN   \n",
              "75%                            NaN  7454.000000         NaN              NaN   \n",
              "max                            NaN  9998.000000         NaN              NaN   \n",
              "\n",
              "          country  \n",
              "count        1001  \n",
              "unique          1  \n",
              "top     Australia  \n",
              "freq         1001  \n",
              "mean          NaN  \n",
              "std           NaN  \n",
              "min           NaN  \n",
              "25%           NaN  \n",
              "50%           NaN  \n",
              "75%           NaN  \n",
              "max           NaN  "
            ]
          },
          "execution_count": 49,
          "metadata": {},
          "output_type": "execute_result"
        }
      ],
      "source": [
        "customers_df.describe(include=\"all\")"
      ]
    },
    {
      "cell_type": "code",
      "execution_count": 50,
      "metadata": {
        "colab": {
          "base_uri": "https://localhost:8080/"
        },
        "id": "xHm8J_zK6cAT",
        "outputId": "65646f8f-d945-47b2-9b1f-55a5fa2b98b8"
      },
      "outputs": [
        {
          "data": {
            "text/plain": [
              "False"
            ]
          },
          "execution_count": 50,
          "metadata": {},
          "output_type": "execute_result"
        }
      ],
      "source": [
        "customers_df.customer_id.is_unique"
      ]
    },
    {
      "cell_type": "code",
      "execution_count": 51,
      "metadata": {
        "colab": {
          "base_uri": "https://localhost:8080/"
        },
        "id": "5Blz3cGT9Khf",
        "outputId": "8b1a4f5e-8c63-484f-f9c0-b03831361365"
      },
      "outputs": [
        {
          "data": {
            "text/plain": [
              "<bound method Series.duplicated of 0          1\n",
              "1          2\n",
              "2          3\n",
              "3          4\n",
              "4          5\n",
              "        ... \n",
              "1002     996\n",
              "1003     997\n",
              "1004     998\n",
              "1005     999\n",
              "1006    1000\n",
              "Name: customer_id, Length: 1001, dtype: int64>"
            ]
          },
          "execution_count": 51,
          "metadata": {},
          "output_type": "execute_result"
        }
      ],
      "source": [
        "customers_df.customer_id.duplicated"
      ]
    },
    {
      "cell_type": "code",
      "execution_count": 52,
      "metadata": {
        "colab": {
          "base_uri": "https://localhost:8080/",
          "height": 206
        },
        "id": "2sKdM58XqD6n",
        "outputId": "0d5627e8-bae5-4838-980f-62d1b44c859f"
      },
      "outputs": [
        {
          "data": {
            "text/html": [
              "<div>\n",
              "<style scoped>\n",
              "    .dataframe tbody tr th:only-of-type {\n",
              "        vertical-align: middle;\n",
              "    }\n",
              "\n",
              "    .dataframe tbody tr th {\n",
              "        vertical-align: top;\n",
              "    }\n",
              "\n",
              "    .dataframe thead tr th {\n",
              "        text-align: left;\n",
              "    }\n",
              "\n",
              "    .dataframe thead tr:last-of-type th {\n",
              "        text-align: right;\n",
              "    }\n",
              "</style>\n",
              "<table border=\"1\" class=\"dataframe\">\n",
              "  <thead>\n",
              "    <tr>\n",
              "      <th></th>\n",
              "      <th>customer_id</th>\n",
              "      <th colspan=\"4\" halign=\"left\">age</th>\n",
              "    </tr>\n",
              "    <tr>\n",
              "      <th></th>\n",
              "      <th>nunique</th>\n",
              "      <th>max</th>\n",
              "      <th>min</th>\n",
              "      <th>mean</th>\n",
              "      <th>std</th>\n",
              "    </tr>\n",
              "    <tr>\n",
              "      <th>gender</th>\n",
              "      <th></th>\n",
              "      <th></th>\n",
              "      <th></th>\n",
              "      <th></th>\n",
              "      <th></th>\n",
              "    </tr>\n",
              "  </thead>\n",
              "  <tbody>\n",
              "    <tr>\n",
              "      <th>Female</th>\n",
              "      <td>115</td>\n",
              "      <td>79</td>\n",
              "      <td>20</td>\n",
              "      <td>49.147826</td>\n",
              "      <td>16.646607</td>\n",
              "    </tr>\n",
              "    <tr>\n",
              "      <th>Male</th>\n",
              "      <td>143</td>\n",
              "      <td>80</td>\n",
              "      <td>20</td>\n",
              "      <td>51.230769</td>\n",
              "      <td>18.462635</td>\n",
              "    </tr>\n",
              "    <tr>\n",
              "      <th>Prefer not to say</th>\n",
              "      <td>742</td>\n",
              "      <td>80</td>\n",
              "      <td>20</td>\n",
              "      <td>49.725437</td>\n",
              "      <td>17.644283</td>\n",
              "    </tr>\n",
              "  </tbody>\n",
              "</table>\n",
              "</div>"
            ],
            "text/plain": [
              "                  customer_id age                          \n",
              "                      nunique max min       mean        std\n",
              "gender                                                     \n",
              "Female                    115  79  20  49.147826  16.646607\n",
              "Male                      143  80  20  51.230769  18.462635\n",
              "Prefer not to say         742  80  20  49.725437  17.644283"
            ]
          },
          "execution_count": 52,
          "metadata": {},
          "output_type": "execute_result"
        }
      ],
      "source": [
        "customers_df.groupby(by=\"gender\").agg({\n",
        "    \"customer_id\": \"nunique\",\n",
        "    \"age\": [\"max\", \"min\", \"mean\", \"std\", ]\n",
        "})"
      ]
    },
    {
      "cell_type": "code",
      "execution_count": 53,
      "metadata": {
        "colab": {
          "base_uri": "https://localhost:8080/"
        },
        "id": "XBc3rIYWq7-d",
        "outputId": "2047567f-3c28-41e6-809a-ec19976ac9e1"
      },
      "outputs": [
        {
          "data": {
            "text/plain": [
              "city\n",
              "East Sophia     3\n",
              "New Ava         3\n",
              "East Aidan      3\n",
              "Kingmouth       2\n",
              "Corkeryshire    2\n",
              "               ..\n",
              "Justinport      1\n",
              "Kaiberg         1\n",
              "Kaifort         1\n",
              "Kaihaven        1\n",
              "Johnsonhaven    1\n",
              "Name: customer_id, Length: 961, dtype: int64"
            ]
          },
          "execution_count": 53,
          "metadata": {},
          "output_type": "execute_result"
        }
      ],
      "source": [
        "customers_df.groupby(by=\"city\").customer_id.nunique().sort_values(ascending=False)"
      ]
    },
    {
      "cell_type": "code",
      "execution_count": 54,
      "metadata": {
        "colab": {
          "base_uri": "https://localhost:8080/"
        },
        "id": "vbOsyTTaKr1K",
        "outputId": "390c2c34-b6e0-4896-b885-4e6f6a5c367f"
      },
      "outputs": [
        {
          "data": {
            "text/plain": [
              "state\n",
              "South Australia                 139\n",
              "Queensland                      134\n",
              "New South Wales                 132\n",
              "Northern Territory              125\n",
              "Western Australia               124\n",
              "Australian Capital Territory    121\n",
              "Victoria                        121\n",
              "Tasmania                        104\n",
              "Name: customer_id, dtype: int64"
            ]
          },
          "execution_count": 54,
          "metadata": {},
          "output_type": "execute_result"
        }
      ],
      "source": [
        "customers_df.groupby(by=\"state\").customer_id.nunique().sort_values(ascending=False)"
      ]
    },
    {
      "cell_type": "markdown",
      "metadata": {
        "id": "8vI-TYWar8y5"
      },
      "source": [
        "### Explore Data `orders_df`"
      ]
    },
    {
      "cell_type": "code",
      "execution_count": 55,
      "metadata": {
        "colab": {
          "base_uri": "https://localhost:8080/",
          "height": 206
        },
        "id": "1EOyOh7FrO_U",
        "outputId": "e03eac73-3d7d-456f-b1a8-a05588a514b1"
      },
      "outputs": [
        {
          "data": {
            "text/html": [
              "<div>\n",
              "<style scoped>\n",
              "    .dataframe tbody tr th:only-of-type {\n",
              "        vertical-align: middle;\n",
              "    }\n",
              "\n",
              "    .dataframe tbody tr th {\n",
              "        vertical-align: top;\n",
              "    }\n",
              "\n",
              "    .dataframe thead th {\n",
              "        text-align: right;\n",
              "    }\n",
              "</style>\n",
              "<table border=\"1\" class=\"dataframe\">\n",
              "  <thead>\n",
              "    <tr style=\"text-align: right;\">\n",
              "      <th></th>\n",
              "      <th>order_id</th>\n",
              "      <th>customer_id</th>\n",
              "      <th>payment</th>\n",
              "      <th>order_date</th>\n",
              "      <th>delivery_date</th>\n",
              "    </tr>\n",
              "  </thead>\n",
              "  <tbody>\n",
              "    <tr>\n",
              "      <th>590</th>\n",
              "      <td>591</td>\n",
              "      <td>588</td>\n",
              "      <td>39095</td>\n",
              "      <td>2021-06-18</td>\n",
              "      <td>2021-07-06</td>\n",
              "    </tr>\n",
              "    <tr>\n",
              "      <th>454</th>\n",
              "      <td>455</td>\n",
              "      <td>1</td>\n",
              "      <td>24550</td>\n",
              "      <td>2021-04-04</td>\n",
              "      <td>2021-04-06</td>\n",
              "    </tr>\n",
              "    <tr>\n",
              "      <th>606</th>\n",
              "      <td>607</td>\n",
              "      <td>648</td>\n",
              "      <td>36692</td>\n",
              "      <td>2021-10-19</td>\n",
              "      <td>2021-11-12</td>\n",
              "    </tr>\n",
              "    <tr>\n",
              "      <th>806</th>\n",
              "      <td>807</td>\n",
              "      <td>636</td>\n",
              "      <td>47092</td>\n",
              "      <td>2021-02-17</td>\n",
              "      <td>2021-03-03</td>\n",
              "    </tr>\n",
              "    <tr>\n",
              "      <th>267</th>\n",
              "      <td>268</td>\n",
              "      <td>530</td>\n",
              "      <td>57006</td>\n",
              "      <td>2021-03-16</td>\n",
              "      <td>2021-04-10</td>\n",
              "    </tr>\n",
              "  </tbody>\n",
              "</table>\n",
              "</div>"
            ],
            "text/plain": [
              "     order_id  customer_id  payment order_date delivery_date\n",
              "590       591          588    39095 2021-06-18    2021-07-06\n",
              "454       455            1    24550 2021-04-04    2021-04-06\n",
              "606       607          648    36692 2021-10-19    2021-11-12\n",
              "806       807          636    47092 2021-02-17    2021-03-03\n",
              "267       268          530    57006 2021-03-16    2021-04-10"
            ]
          },
          "execution_count": 55,
          "metadata": {},
          "output_type": "execute_result"
        }
      ],
      "source": [
        "orders_df.sample(5)"
      ]
    },
    {
      "cell_type": "code",
      "execution_count": 56,
      "metadata": {
        "id": "WQwbKDcBsFje"
      },
      "outputs": [],
      "source": [
        "delivery_time = orders_df[\"delivery_date\"] - orders_df[\"order_date\"]\n",
        "delivery_time = delivery_time.apply(lambda x: x.total_seconds())\n",
        "orders_df[\"delivery_time\"] = round(delivery_time/86400)"
      ]
    },
    {
      "cell_type": "code",
      "execution_count": 57,
      "metadata": {
        "colab": {
          "base_uri": "https://localhost:8080/",
          "height": 206
        },
        "id": "ZtENmQR7tdrs",
        "outputId": "09a6eda9-8241-46a6-aa09-e0c4207d16b6"
      },
      "outputs": [
        {
          "data": {
            "text/html": [
              "<div>\n",
              "<style scoped>\n",
              "    .dataframe tbody tr th:only-of-type {\n",
              "        vertical-align: middle;\n",
              "    }\n",
              "\n",
              "    .dataframe tbody tr th {\n",
              "        vertical-align: top;\n",
              "    }\n",
              "\n",
              "    .dataframe thead th {\n",
              "        text-align: right;\n",
              "    }\n",
              "</style>\n",
              "<table border=\"1\" class=\"dataframe\">\n",
              "  <thead>\n",
              "    <tr style=\"text-align: right;\">\n",
              "      <th></th>\n",
              "      <th>order_id</th>\n",
              "      <th>customer_id</th>\n",
              "      <th>payment</th>\n",
              "      <th>order_date</th>\n",
              "      <th>delivery_date</th>\n",
              "      <th>delivery_time</th>\n",
              "    </tr>\n",
              "  </thead>\n",
              "  <tbody>\n",
              "    <tr>\n",
              "      <th>503</th>\n",
              "      <td>504</td>\n",
              "      <td>192</td>\n",
              "      <td>57782</td>\n",
              "      <td>2021-01-13</td>\n",
              "      <td>2021-02-08</td>\n",
              "      <td>26.0</td>\n",
              "    </tr>\n",
              "    <tr>\n",
              "      <th>317</th>\n",
              "      <td>318</td>\n",
              "      <td>433</td>\n",
              "      <td>39332</td>\n",
              "      <td>2021-01-31</td>\n",
              "      <td>2021-02-17</td>\n",
              "      <td>17.0</td>\n",
              "    </tr>\n",
              "    <tr>\n",
              "      <th>501</th>\n",
              "      <td>502</td>\n",
              "      <td>485</td>\n",
              "      <td>57115</td>\n",
              "      <td>2021-02-18</td>\n",
              "      <td>2021-03-07</td>\n",
              "      <td>17.0</td>\n",
              "    </tr>\n",
              "    <tr>\n",
              "      <th>315</th>\n",
              "      <td>316</td>\n",
              "      <td>179</td>\n",
              "      <td>59876</td>\n",
              "      <td>2021-09-12</td>\n",
              "      <td>2021-09-20</td>\n",
              "      <td>8.0</td>\n",
              "    </tr>\n",
              "    <tr>\n",
              "      <th>145</th>\n",
              "      <td>146</td>\n",
              "      <td>912</td>\n",
              "      <td>22750</td>\n",
              "      <td>2021-08-30</td>\n",
              "      <td>2021-09-26</td>\n",
              "      <td>27.0</td>\n",
              "    </tr>\n",
              "  </tbody>\n",
              "</table>\n",
              "</div>"
            ],
            "text/plain": [
              "     order_id  customer_id  payment order_date delivery_date  delivery_time\n",
              "503       504          192    57782 2021-01-13    2021-02-08           26.0\n",
              "317       318          433    39332 2021-01-31    2021-02-17           17.0\n",
              "501       502          485    57115 2021-02-18    2021-03-07           17.0\n",
              "315       316          179    59876 2021-09-12    2021-09-20            8.0\n",
              "145       146          912    22750 2021-08-30    2021-09-26           27.0"
            ]
          },
          "execution_count": 57,
          "metadata": {},
          "output_type": "execute_result"
        }
      ],
      "source": [
        "orders_df.sample(5)"
      ]
    },
    {
      "cell_type": "code",
      "execution_count": 58,
      "metadata": {
        "colab": {
          "base_uri": "https://localhost:8080/",
          "height": 511
        },
        "id": "-GpD4wS9svT9",
        "outputId": "91bc1d3e-6eaa-4f4f-a551-88a322a99c67"
      },
      "outputs": [
        {
          "data": {
            "text/html": [
              "<div>\n",
              "<style scoped>\n",
              "    .dataframe tbody tr th:only-of-type {\n",
              "        vertical-align: middle;\n",
              "    }\n",
              "\n",
              "    .dataframe tbody tr th {\n",
              "        vertical-align: top;\n",
              "    }\n",
              "\n",
              "    .dataframe thead th {\n",
              "        text-align: right;\n",
              "    }\n",
              "</style>\n",
              "<table border=\"1\" class=\"dataframe\">\n",
              "  <thead>\n",
              "    <tr style=\"text-align: right;\">\n",
              "      <th></th>\n",
              "      <th>order_id</th>\n",
              "      <th>customer_id</th>\n",
              "      <th>payment</th>\n",
              "      <th>order_date</th>\n",
              "      <th>delivery_date</th>\n",
              "      <th>delivery_time</th>\n",
              "    </tr>\n",
              "  </thead>\n",
              "  <tbody>\n",
              "    <tr>\n",
              "      <th>count</th>\n",
              "      <td>1000.000000</td>\n",
              "      <td>1000.000000</td>\n",
              "      <td>1000.000000</td>\n",
              "      <td>1000</td>\n",
              "      <td>1000</td>\n",
              "      <td>1000.000000</td>\n",
              "    </tr>\n",
              "    <tr>\n",
              "      <th>mean</th>\n",
              "      <td>500.500000</td>\n",
              "      <td>506.640000</td>\n",
              "      <td>33972.936000</td>\n",
              "      <td>2021-05-27 18:38:52.800000</td>\n",
              "      <td>2021-06-10 20:31:12</td>\n",
              "      <td>14.078000</td>\n",
              "    </tr>\n",
              "    <tr>\n",
              "      <th>min</th>\n",
              "      <td>1.000000</td>\n",
              "      <td>1.000000</td>\n",
              "      <td>10043.000000</td>\n",
              "      <td>2021-01-01 00:00:00</td>\n",
              "      <td>2021-01-03 00:00:00</td>\n",
              "      <td>1.000000</td>\n",
              "    </tr>\n",
              "    <tr>\n",
              "      <th>25%</th>\n",
              "      <td>250.750000</td>\n",
              "      <td>275.250000</td>\n",
              "      <td>21329.250000</td>\n",
              "      <td>2021-03-13 18:00:00</td>\n",
              "      <td>2021-03-28 00:00:00</td>\n",
              "      <td>8.000000</td>\n",
              "    </tr>\n",
              "    <tr>\n",
              "      <th>50%</th>\n",
              "      <td>500.500000</td>\n",
              "      <td>515.000000</td>\n",
              "      <td>33697.500000</td>\n",
              "      <td>2021-05-27 12:00:00</td>\n",
              "      <td>2021-06-11 12:00:00</td>\n",
              "      <td>14.000000</td>\n",
              "    </tr>\n",
              "    <tr>\n",
              "      <th>75%</th>\n",
              "      <td>750.250000</td>\n",
              "      <td>737.250000</td>\n",
              "      <td>46249.000000</td>\n",
              "      <td>2021-08-12 06:00:00</td>\n",
              "      <td>2021-08-24 06:00:00</td>\n",
              "      <td>21.000000</td>\n",
              "    </tr>\n",
              "    <tr>\n",
              "      <th>max</th>\n",
              "      <td>1000.000000</td>\n",
              "      <td>1000.000000</td>\n",
              "      <td>59910.000000</td>\n",
              "      <td>2021-10-24 00:00:00</td>\n",
              "      <td>2021-11-20 00:00:00</td>\n",
              "      <td>27.000000</td>\n",
              "    </tr>\n",
              "    <tr>\n",
              "      <th>std</th>\n",
              "      <td>288.819436</td>\n",
              "      <td>277.115502</td>\n",
              "      <td>14451.609047</td>\n",
              "      <td>NaN</td>\n",
              "      <td>NaN</td>\n",
              "      <td>7.707225</td>\n",
              "    </tr>\n",
              "  </tbody>\n",
              "</table>\n",
              "</div>"
            ],
            "text/plain": [
              "          order_id  customer_id       payment                  order_date  \\\n",
              "count  1000.000000  1000.000000   1000.000000                        1000   \n",
              "mean    500.500000   506.640000  33972.936000  2021-05-27 18:38:52.800000   \n",
              "min       1.000000     1.000000  10043.000000         2021-01-01 00:00:00   \n",
              "25%     250.750000   275.250000  21329.250000         2021-03-13 18:00:00   \n",
              "50%     500.500000   515.000000  33697.500000         2021-05-27 12:00:00   \n",
              "75%     750.250000   737.250000  46249.000000         2021-08-12 06:00:00   \n",
              "max    1000.000000  1000.000000  59910.000000         2021-10-24 00:00:00   \n",
              "std     288.819436   277.115502  14451.609047                         NaN   \n",
              "\n",
              "             delivery_date  delivery_time  \n",
              "count                 1000    1000.000000  \n",
              "mean   2021-06-10 20:31:12      14.078000  \n",
              "min    2021-01-03 00:00:00       1.000000  \n",
              "25%    2021-03-28 00:00:00       8.000000  \n",
              "50%    2021-06-11 12:00:00      14.000000  \n",
              "75%    2021-08-24 06:00:00      21.000000  \n",
              "max    2021-11-20 00:00:00      27.000000  \n",
              "std                    NaN       7.707225  "
            ]
          },
          "execution_count": 58,
          "metadata": {},
          "output_type": "execute_result"
        }
      ],
      "source": [
        "orders_df.describe(include=\"all\")"
      ]
    },
    {
      "cell_type": "code",
      "execution_count": 59,
      "metadata": {
        "colab": {
          "base_uri": "https://localhost:8080/",
          "height": 282
        },
        "id": "yyxwtVp2s2mb",
        "outputId": "7ceab9b6-02b0-4fd5-8a2b-d3dc1e422c34"
      },
      "outputs": [
        {
          "data": {
            "text/plain": [
              "<Axes: >"
            ]
          },
          "execution_count": 59,
          "metadata": {},
          "output_type": "execute_result"
        },
        {
          "data": {
            "image/png": "[encoded data removed]",
            "text/plain": [
              "<Figure size 640x480 with 1 Axes>"
            ]
          },
          "metadata": {},
          "output_type": "display_data"
        }
      ],
      "source": [
        "orders_df.delivery_time.hist()"
      ]
    },
    {
      "cell_type": "code",
      "execution_count": 60,
      "metadata": {
        "colab": {
          "base_uri": "https://localhost:8080/",
          "height": 426
        },
        "id": "a4OvzM9q5A7b",
        "outputId": "b23eec50-1ec3-4943-e240-c09189015c31"
      },
      "outputs": [
        {
          "data": {
            "text/html": [
              "<div>\n",
              "<style scoped>\n",
              "    .dataframe tbody tr th:only-of-type {\n",
              "        vertical-align: middle;\n",
              "    }\n",
              "\n",
              "    .dataframe tbody tr th {\n",
              "        vertical-align: top;\n",
              "    }\n",
              "\n",
              "    .dataframe thead th {\n",
              "        text-align: right;\n",
              "    }\n",
              "</style>\n",
              "<table border=\"1\" class=\"dataframe\">\n",
              "  <thead>\n",
              "    <tr style=\"text-align: right;\">\n",
              "      <th></th>\n",
              "      <th>customer_id</th>\n",
              "      <th>customer_name</th>\n",
              "      <th>gender</th>\n",
              "      <th>age</th>\n",
              "      <th>home_address</th>\n",
              "      <th>zip_code</th>\n",
              "      <th>city</th>\n",
              "      <th>state</th>\n",
              "      <th>country</th>\n",
              "      <th>status</th>\n",
              "    </tr>\n",
              "  </thead>\n",
              "  <tbody>\n",
              "    <tr>\n",
              "      <th>606</th>\n",
              "      <td>605</td>\n",
              "      <td>fulan 605</td>\n",
              "      <td>Female</td>\n",
              "      <td>25</td>\n",
              "      <td>8676 William HillApt. 725</td>\n",
              "      <td>4750</td>\n",
              "      <td>Hamiltonshire</td>\n",
              "      <td>Western Australia</td>\n",
              "      <td>Australia</td>\n",
              "      <td>Active</td>\n",
              "    </tr>\n",
              "    <tr>\n",
              "      <th>95</th>\n",
              "      <td>96</td>\n",
              "      <td>fulan 96</td>\n",
              "      <td>Prefer not to say</td>\n",
              "      <td>41</td>\n",
              "      <td>461 Nader LaneApt. 460</td>\n",
              "      <td>2012</td>\n",
              "      <td>Hudsontown</td>\n",
              "      <td>New South Wales</td>\n",
              "      <td>Australia</td>\n",
              "      <td>Active</td>\n",
              "    </tr>\n",
              "    <tr>\n",
              "      <th>583</th>\n",
              "      <td>582</td>\n",
              "      <td>fulan 582</td>\n",
              "      <td>Female</td>\n",
              "      <td>65</td>\n",
              "      <td>5260 Ward IslandApt. 429</td>\n",
              "      <td>429</td>\n",
              "      <td>Skyeland</td>\n",
              "      <td>South Australia</td>\n",
              "      <td>Australia</td>\n",
              "      <td>Active</td>\n",
              "    </tr>\n",
              "    <tr>\n",
              "      <th>347</th>\n",
              "      <td>347</td>\n",
              "      <td>fulan 347</td>\n",
              "      <td>Female</td>\n",
              "      <td>20</td>\n",
              "      <td>16 Maddison MewsSuite 093</td>\n",
              "      <td>1435</td>\n",
              "      <td>Levihaven</td>\n",
              "      <td>Victoria</td>\n",
              "      <td>Australia</td>\n",
              "      <td>Active</td>\n",
              "    </tr>\n",
              "    <tr>\n",
              "      <th>714</th>\n",
              "      <td>712</td>\n",
              "      <td>fulan 712</td>\n",
              "      <td>Prefer not to say</td>\n",
              "      <td>71</td>\n",
              "      <td>749 Klein SummitSuite 383</td>\n",
              "      <td>5372</td>\n",
              "      <td>Lefflermouth</td>\n",
              "      <td>Australian Capital Territory</td>\n",
              "      <td>Australia</td>\n",
              "      <td>Active</td>\n",
              "    </tr>\n",
              "  </tbody>\n",
              "</table>\n",
              "</div>"
            ],
            "text/plain": [
              "     customer_id customer_name             gender  age  \\\n",
              "606          605     fulan 605             Female   25   \n",
              "95            96      fulan 96  Prefer not to say   41   \n",
              "583          582     fulan 582             Female   65   \n",
              "347          347     fulan 347             Female   20   \n",
              "714          712     fulan 712  Prefer not to say   71   \n",
              "\n",
              "                  home_address  zip_code           city  \\\n",
              "606  8676 William HillApt. 725      4750  Hamiltonshire   \n",
              "95      461 Nader LaneApt. 460      2012     Hudsontown   \n",
              "583   5260 Ward IslandApt. 429       429       Skyeland   \n",
              "347  16 Maddison MewsSuite 093      1435      Levihaven   \n",
              "714  749 Klein SummitSuite 383      5372   Lefflermouth   \n",
              "\n",
              "                            state    country  status  \n",
              "606             Western Australia  Australia  Active  \n",
              "95                New South Wales  Australia  Active  \n",
              "583               South Australia  Australia  Active  \n",
              "347                      Victoria  Australia  Active  \n",
              "714  Australian Capital Territory  Australia  Active  "
            ]
          },
          "execution_count": 60,
          "metadata": {},
          "output_type": "execute_result"
        }
      ],
      "source": [
        "customer_id_in_orders_df =  orders_df.customer_id\n",
        "customers_df[\"status\"] = customers_df[\"customer_id\"].apply(lambda x: \"Active\" if x in customer_id_in_orders_df else \"Non Active\")\n",
        "customers_df.sample(5)"
      ]
    },
    {
      "cell_type": "code",
      "execution_count": 61,
      "metadata": {
        "colab": {
          "base_uri": "https://localhost:8080/"
        },
        "id": "lhhjZeff540h",
        "outputId": "dc21a066-ee29-4f1b-bd50-cb88e8de1d1c"
      },
      "outputs": [
        {
          "data": {
            "text/plain": [
              "status\n",
              "Active        1000\n",
              "Non Active       1\n",
              "Name: customer_id, dtype: int64"
            ]
          },
          "execution_count": 61,
          "metadata": {},
          "output_type": "execute_result"
        }
      ],
      "source": [
        "customers_df.groupby(by=\"status\").customer_id.count()"
      ]
    },
    {
      "cell_type": "code",
      "execution_count": 62,
      "metadata": {
        "colab": {
          "base_uri": "https://localhost:8080/",
          "height": 162
        },
        "id": "iPt7WmPmewkg",
        "outputId": "396d76a0-8a92-4f22-c3fa-ce08f40a1eca"
      },
      "outputs": [
        {
          "data": {
            "text/html": [
              "<div>\n",
              "<style scoped>\n",
              "    .dataframe tbody tr th:only-of-type {\n",
              "        vertical-align: middle;\n",
              "    }\n",
              "\n",
              "    .dataframe tbody tr th {\n",
              "        vertical-align: top;\n",
              "    }\n",
              "\n",
              "    .dataframe thead th {\n",
              "        text-align: right;\n",
              "    }\n",
              "</style>\n",
              "<table border=\"1\" class=\"dataframe\">\n",
              "  <thead>\n",
              "    <tr style=\"text-align: right;\">\n",
              "      <th></th>\n",
              "      <th>customer_id</th>\n",
              "      <th>customer_name</th>\n",
              "      <th>gender</th>\n",
              "      <th>age</th>\n",
              "      <th>home_address</th>\n",
              "      <th>zip_code</th>\n",
              "      <th>city</th>\n",
              "      <th>state</th>\n",
              "      <th>country</th>\n",
              "      <th>status</th>\n",
              "    </tr>\n",
              "  </thead>\n",
              "  <tbody>\n",
              "    <tr>\n",
              "      <th>1006</th>\n",
              "      <td>1000</td>\n",
              "      <td>fulan 1000</td>\n",
              "      <td>Male</td>\n",
              "      <td>71</td>\n",
              "      <td>1671 Lauren KnollSuite 945</td>\n",
              "      <td>9012</td>\n",
              "      <td>Lake Audreyborough</td>\n",
              "      <td>Tasmania</td>\n",
              "      <td>Australia</td>\n",
              "      <td>Non Active</td>\n",
              "    </tr>\n",
              "  </tbody>\n",
              "</table>\n",
              "</div>"
            ],
            "text/plain": [
              "      customer_id customer_name gender  age                home_address  \\\n",
              "1006         1000    fulan 1000   Male   71  1671 Lauren KnollSuite 945   \n",
              "\n",
              "      zip_code                city     state    country      status  \n",
              "1006      9012  Lake Audreyborough  Tasmania  Australia  Non Active  "
            ]
          },
          "execution_count": 62,
          "metadata": {},
          "output_type": "execute_result"
        }
      ],
      "source": [
        "customers_df[customers_df.status == \"Non Active\"]"
      ]
    },
    {
      "cell_type": "markdown",
      "metadata": {
        "id": "5iV_0rCqCHMO"
      },
      "source": [
        "### Explore Data `orders_df` & `customers_df`"
      ]
    },
    {
      "cell_type": "markdown",
      "metadata": {
        "id": "cG-N3QTerNIg"
      },
      "source": [
        "#### Menggabungkan data `customers_df` dan `orders_df`"
      ]
    },
    {
      "cell_type": "code",
      "execution_count": 63,
      "metadata": {
        "colab": {
          "base_uri": "https://localhost:8080/",
          "height": 443
        },
        "id": "-Df6lGz_LEKy",
        "outputId": "768e31b9-fc4b-4da4-c4da-ed97b874f9c1"
      },
      "outputs": [
        {
          "data": {
            "text/html": [
              "<div>\n",
              "<style scoped>\n",
              "    .dataframe tbody tr th:only-of-type {\n",
              "        vertical-align: middle;\n",
              "    }\n",
              "\n",
              "    .dataframe tbody tr th {\n",
              "        vertical-align: top;\n",
              "    }\n",
              "\n",
              "    .dataframe thead th {\n",
              "        text-align: right;\n",
              "    }\n",
              "</style>\n",
              "<table border=\"1\" class=\"dataframe\">\n",
              "  <thead>\n",
              "    <tr style=\"text-align: right;\">\n",
              "      <th></th>\n",
              "      <th>order_id</th>\n",
              "      <th>customer_id</th>\n",
              "      <th>payment</th>\n",
              "      <th>order_date</th>\n",
              "      <th>delivery_date</th>\n",
              "      <th>delivery_time</th>\n",
              "      <th>customer_name</th>\n",
              "      <th>gender</th>\n",
              "      <th>age</th>\n",
              "      <th>home_address</th>\n",
              "      <th>zip_code</th>\n",
              "      <th>city</th>\n",
              "      <th>state</th>\n",
              "      <th>country</th>\n",
              "      <th>status</th>\n",
              "    </tr>\n",
              "  </thead>\n",
              "  <tbody>\n",
              "    <tr>\n",
              "      <th>0</th>\n",
              "      <td>1</td>\n",
              "      <td>64</td>\n",
              "      <td>30811</td>\n",
              "      <td>2021-08-30</td>\n",
              "      <td>2021-09-24</td>\n",
              "      <td>25.0</td>\n",
              "      <td>fulan 64</td>\n",
              "      <td>Prefer not to say</td>\n",
              "      <td>75</td>\n",
              "      <td>4927 Alice MeadowApt. 960</td>\n",
              "      <td>7787</td>\n",
              "      <td>Sanfordborough</td>\n",
              "      <td>South Australia</td>\n",
              "      <td>Australia</td>\n",
              "      <td>Active</td>\n",
              "    </tr>\n",
              "    <tr>\n",
              "      <th>1</th>\n",
              "      <td>2</td>\n",
              "      <td>473</td>\n",
              "      <td>50490</td>\n",
              "      <td>2021-02-03</td>\n",
              "      <td>2021-02-13</td>\n",
              "      <td>10.0</td>\n",
              "      <td>fulan 473</td>\n",
              "      <td>Male</td>\n",
              "      <td>61</td>\n",
              "      <td>531 Schmitt BoulevardApt. 010</td>\n",
              "      <td>1744</td>\n",
              "      <td>Annaton</td>\n",
              "      <td>South Australia</td>\n",
              "      <td>Australia</td>\n",
              "      <td>Active</td>\n",
              "    </tr>\n",
              "    <tr>\n",
              "      <th>2</th>\n",
              "      <td>3</td>\n",
              "      <td>774</td>\n",
              "      <td>46763</td>\n",
              "      <td>2021-10-08</td>\n",
              "      <td>2021-11-03</td>\n",
              "      <td>26.0</td>\n",
              "      <td>fulan 774</td>\n",
              "      <td>Prefer not to say</td>\n",
              "      <td>34</td>\n",
              "      <td>2096 Wilson MewsApt. 714</td>\n",
              "      <td>8590</td>\n",
              "      <td>West Jonathanshire</td>\n",
              "      <td>Tasmania</td>\n",
              "      <td>Australia</td>\n",
              "      <td>Active</td>\n",
              "    </tr>\n",
              "    <tr>\n",
              "      <th>3</th>\n",
              "      <td>4</td>\n",
              "      <td>433</td>\n",
              "      <td>39782</td>\n",
              "      <td>2021-05-06</td>\n",
              "      <td>2021-05-19</td>\n",
              "      <td>13.0</td>\n",
              "      <td>fulan 433</td>\n",
              "      <td>Prefer not to say</td>\n",
              "      <td>46</td>\n",
              "      <td>5777 Mayer PassApt. 881</td>\n",
              "      <td>9728</td>\n",
              "      <td>West Michaelport</td>\n",
              "      <td>Tasmania</td>\n",
              "      <td>Australia</td>\n",
              "      <td>Active</td>\n",
              "    </tr>\n",
              "    <tr>\n",
              "      <th>4</th>\n",
              "      <td>5</td>\n",
              "      <td>441</td>\n",
              "      <td>14719</td>\n",
              "      <td>2021-03-23</td>\n",
              "      <td>2021-03-24</td>\n",
              "      <td>1.0</td>\n",
              "      <td>fulan 441</td>\n",
              "      <td>Prefer not to say</td>\n",
              "      <td>53</td>\n",
              "      <td>33 Richards JunctionApt. 478</td>\n",
              "      <td>7650</td>\n",
              "      <td>South Rileyview</td>\n",
              "      <td>Western Australia</td>\n",
              "      <td>Australia</td>\n",
              "      <td>Active</td>\n",
              "    </tr>\n",
              "  </tbody>\n",
              "</table>\n",
              "</div>"
            ],
            "text/plain": [
              "   order_id  customer_id  payment order_date delivery_date  delivery_time  \\\n",
              "0         1           64    30811 2021-08-30    2021-09-24           25.0   \n",
              "1         2          473    50490 2021-02-03    2021-02-13           10.0   \n",
              "2         3          774    46763 2021-10-08    2021-11-03           26.0   \n",
              "3         4          433    39782 2021-05-06    2021-05-19           13.0   \n",
              "4         5          441    14719 2021-03-23    2021-03-24            1.0   \n",
              "\n",
              "  customer_name             gender  age                   home_address  \\\n",
              "0      fulan 64  Prefer not to say   75      4927 Alice MeadowApt. 960   \n",
              "1     fulan 473               Male   61  531 Schmitt BoulevardApt. 010   \n",
              "2     fulan 774  Prefer not to say   34       2096 Wilson MewsApt. 714   \n",
              "3     fulan 433  Prefer not to say   46        5777 Mayer PassApt. 881   \n",
              "4     fulan 441  Prefer not to say   53   33 Richards JunctionApt. 478   \n",
              "\n",
              "   zip_code                city              state    country  status  \n",
              "0      7787      Sanfordborough    South Australia  Australia  Active  \n",
              "1      1744             Annaton    South Australia  Australia  Active  \n",
              "2      8590  West Jonathanshire           Tasmania  Australia  Active  \n",
              "3      9728    West Michaelport           Tasmania  Australia  Active  \n",
              "4      7650     South Rileyview  Western Australia  Australia  Active  "
            ]
          },
          "execution_count": 63,
          "metadata": {},
          "output_type": "execute_result"
        }
      ],
      "source": [
        "orders_customers_df = pd.merge(\n",
        "    left=orders_df,\n",
        "    right=customers_df,\n",
        "    how=\"left\",\n",
        "    left_on=\"customer_id\",\n",
        "    right_on=\"customer_id\"\n",
        ")\n",
        "orders_customers_df.head()"
      ]
    },
    {
      "cell_type": "markdown",
      "metadata": {},
      "source": [
        "- Jumlah order berdasarkan kota"
      ]
    },
    {
      "cell_type": "code",
      "execution_count": 64,
      "metadata": {
        "colab": {
          "base_uri": "https://localhost:8080/"
        },
        "id": "Luj53zudC3EN",
        "outputId": "9763a58d-63ce-4960-846b-2ca04759b9d2"
      },
      "outputs": [
        {
          "data": {
            "text/plain": [
              "city\n",
              "Jordanside          6\n",
              "New Ava             6\n",
              "East Max            5\n",
              "West Kai            5\n",
              "O'keefeton          5\n",
              "Port Hannahburgh    5\n",
              "Lake Rose           5\n",
              "Rubyfort            5\n",
              "Gleasonburgh        4\n",
              "Claudiaview         4\n",
              "Name: order_id, dtype: int64"
            ]
          },
          "execution_count": 64,
          "metadata": {},
          "output_type": "execute_result"
        }
      ],
      "source": [
        "orders_customers_df.groupby(by=\"city\").order_id.nunique().sort_values(ascending=False).head(10)"
      ]
    },
    {
      "cell_type": "markdown",
      "metadata": {},
      "source": [
        "- Jumlah order berdasarkan state"
      ]
    },
    {
      "cell_type": "code",
      "execution_count": 65,
      "metadata": {
        "colab": {
          "base_uri": "https://localhost:8080/"
        },
        "id": "1yn2euJmKkMK",
        "outputId": "a7b798cd-0242-4e3e-dcbb-f6a7d0994f73"
      },
      "outputs": [
        {
          "data": {
            "text/plain": [
              "state\n",
              "South Australia                 148\n",
              "Queensland                      139\n",
              "Western Australia               130\n",
              "New South Wales                 129\n",
              "Victoria                        118\n",
              "Australian Capital Territory    118\n",
              "Tasmania                        112\n",
              "Northern Territory              106\n",
              "Name: order_id, dtype: int64"
            ]
          },
          "execution_count": 65,
          "metadata": {},
          "output_type": "execute_result"
        }
      ],
      "source": [
        "orders_customers_df.groupby(by=\"state\").order_id.nunique().sort_values(ascending=False)"
      ]
    },
    {
      "cell_type": "markdown",
      "metadata": {},
      "source": [
        "- Jumlah order berdasarkan gender"
      ]
    },
    {
      "cell_type": "code",
      "execution_count": 66,
      "metadata": {
        "colab": {
          "base_uri": "https://localhost:8080/"
        },
        "id": "vfcJbuRYDN0j",
        "outputId": "85aae9bb-3aaf-4a37-8cfa-8254294ffbdb"
      },
      "outputs": [
        {
          "data": {
            "text/plain": [
              "gender\n",
              "Prefer not to say    725\n",
              "Female               139\n",
              "Male                 136\n",
              "Name: order_id, dtype: int64"
            ]
          },
          "execution_count": 66,
          "metadata": {},
          "output_type": "execute_result"
        }
      ],
      "source": [
        "orders_customers_df.groupby(by=\"gender\").order_id.nunique().sort_values(ascending=False)"
      ]
    },
    {
      "cell_type": "markdown",
      "metadata": {},
      "source": [
        "- Jumlah order berdasarkan kelompok usia\n"
      ]
    },
    {
      "cell_type": "code",
      "execution_count": 67,
      "metadata": {
        "id": "Z0u7loDMIW_L"
      },
      "outputs": [],
      "source": [
        "orders_customers_df[\"age_group\"] = orders_customers_df.age.apply(lambda x: \"Youth\" if x <= 24 else (\"Seniors\" if x > 64 else \"Adults\"))"
      ]
    },
    {
      "cell_type": "code",
      "execution_count": 68,
      "metadata": {
        "colab": {
          "base_uri": "https://localhost:8080/"
        },
        "id": "qCU9BRj0Jlg0",
        "outputId": "aa923984-8e53-4e25-def4-b20792b71f65"
      },
      "outputs": [
        {
          "data": {
            "text/plain": [
              "age_group\n",
              "Adults     681\n",
              "Seniors    226\n",
              "Youth       93\n",
              "Name: order_id, dtype: int64"
            ]
          },
          "execution_count": 68,
          "metadata": {},
          "output_type": "execute_result"
        }
      ],
      "source": [
        "orders_customers_df.groupby(by=\"age_group\").order_id.nunique().sort_values(ascending=False)"
      ]
    },
    {
      "cell_type": "markdown",
      "metadata": {
        "id": "emXjm8tFveB6"
      },
      "source": [
        "### Eksplorasi Data `product_df` "
      ]
    },
    {
      "cell_type": "code",
      "execution_count": 69,
      "metadata": {
        "colab": {
          "base_uri": "https://localhost:8080/",
          "height": 580
        },
        "id": "K-oYOT9gtKb0",
        "outputId": "096057f0-0c37-422a-c5dd-e7faf02b1ca8"
      },
      "outputs": [
        {
          "data": {
            "text/html": [
              "<div>\n",
              "<style scoped>\n",
              "    .dataframe tbody tr th:only-of-type {\n",
              "        vertical-align: middle;\n",
              "    }\n",
              "\n",
              "    .dataframe tbody tr th {\n",
              "        vertical-align: top;\n",
              "    }\n",
              "\n",
              "    .dataframe thead th {\n",
              "        text-align: right;\n",
              "    }\n",
              "</style>\n",
              "<table border=\"1\" class=\"dataframe\">\n",
              "  <thead>\n",
              "    <tr style=\"text-align: right;\">\n",
              "      <th></th>\n",
              "      <th>product_id</th>\n",
              "      <th>product_type</th>\n",
              "      <th>product_name</th>\n",
              "      <th>size</th>\n",
              "      <th>colour</th>\n",
              "      <th>price</th>\n",
              "      <th>quantity</th>\n",
              "      <th>description</th>\n",
              "    </tr>\n",
              "  </thead>\n",
              "  <tbody>\n",
              "    <tr>\n",
              "      <th>1191</th>\n",
              "      <td>1185</td>\n",
              "      <td>Trousers</td>\n",
              "      <td>High-Waisted</td>\n",
              "      <td>XS</td>\n",
              "      <td>violet</td>\n",
              "      <td>98</td>\n",
              "      <td>72</td>\n",
              "      <td>A violet coloured, XS sized, High-Waisted Trou...</td>\n",
              "    </tr>\n",
              "    <tr>\n",
              "      <th>1065</th>\n",
              "      <td>1059</td>\n",
              "      <td>Trousers</td>\n",
              "      <td>Joggers</td>\n",
              "      <td>XL</td>\n",
              "      <td>orange</td>\n",
              "      <td>94</td>\n",
              "      <td>44</td>\n",
              "      <td>A orange coloured, XL sized, Joggers Trousers</td>\n",
              "    </tr>\n",
              "    <tr>\n",
              "      <th>1240</th>\n",
              "      <td>1234</td>\n",
              "      <td>Trousers</td>\n",
              "      <td>Tracksuit Bottoms</td>\n",
              "      <td>XL</td>\n",
              "      <td>orange</td>\n",
              "      <td>91</td>\n",
              "      <td>42</td>\n",
              "      <td>A orange coloured, XL sized, Tracksuit Bottoms...</td>\n",
              "    </tr>\n",
              "    <tr>\n",
              "      <th>122</th>\n",
              "      <td>121</td>\n",
              "      <td>Shirt</td>\n",
              "      <td>Denim</td>\n",
              "      <td>S</td>\n",
              "      <td>green</td>\n",
              "      <td>115</td>\n",
              "      <td>49</td>\n",
              "      <td>A green coloured, S sized, Denim Shirt</td>\n",
              "    </tr>\n",
              "    <tr>\n",
              "      <th>1227</th>\n",
              "      <td>1221</td>\n",
              "      <td>Trousers</td>\n",
              "      <td>Pleated</td>\n",
              "      <td>S</td>\n",
              "      <td>violet</td>\n",
              "      <td>90</td>\n",
              "      <td>50</td>\n",
              "      <td>A violet coloured, S sized, Pleated Trousers</td>\n",
              "    </tr>\n",
              "    <tr>\n",
              "      <th>1131</th>\n",
              "      <td>1125</td>\n",
              "      <td>Trousers</td>\n",
              "      <td>Cargo Pants</td>\n",
              "      <td>XS</td>\n",
              "      <td>orange</td>\n",
              "      <td>106</td>\n",
              "      <td>43</td>\n",
              "      <td>A orange coloured, XS sized, Cargo Pants Trousers</td>\n",
              "    </tr>\n",
              "    <tr>\n",
              "      <th>500</th>\n",
              "      <td>496</td>\n",
              "      <td>Jacket</td>\n",
              "      <td>Windbreaker</td>\n",
              "      <td>S</td>\n",
              "      <td>orange</td>\n",
              "      <td>109</td>\n",
              "      <td>55</td>\n",
              "      <td>A orange coloured, S sized, Windbreaker Jacket</td>\n",
              "    </tr>\n",
              "    <tr>\n",
              "      <th>8</th>\n",
              "      <td>8</td>\n",
              "      <td>Shirt</td>\n",
              "      <td>Oxford Cloth</td>\n",
              "      <td>L</td>\n",
              "      <td>orange</td>\n",
              "      <td>114</td>\n",
              "      <td>48</td>\n",
              "      <td>A orange coloured, L sized, Oxford Cloth Shirt</td>\n",
              "    </tr>\n",
              "    <tr>\n",
              "      <th>568</th>\n",
              "      <td>563</td>\n",
              "      <td>Jacket</td>\n",
              "      <td>Bomber</td>\n",
              "      <td>L</td>\n",
              "      <td>red</td>\n",
              "      <td>90</td>\n",
              "      <td>50</td>\n",
              "      <td>A red coloured, L sized, Bomber Jacket</td>\n",
              "    </tr>\n",
              "    <tr>\n",
              "      <th>420</th>\n",
              "      <td>417</td>\n",
              "      <td>Shirt</td>\n",
              "      <td>Casual Slim Fit</td>\n",
              "      <td>M</td>\n",
              "      <td>violet</td>\n",
              "      <td>113</td>\n",
              "      <td>46</td>\n",
              "      <td>A violet coloured, M sized, Casual Slim Fit Shirt</td>\n",
              "    </tr>\n",
              "  </tbody>\n",
              "</table>\n",
              "</div>"
            ],
            "text/plain": [
              "      product_id product_type       product_name size  colour  price  \\\n",
              "1191        1185     Trousers       High-Waisted   XS  violet     98   \n",
              "1065        1059     Trousers            Joggers   XL  orange     94   \n",
              "1240        1234     Trousers  Tracksuit Bottoms   XL  orange     91   \n",
              "122          121        Shirt              Denim    S   green    115   \n",
              "1227        1221     Trousers            Pleated    S  violet     90   \n",
              "1131        1125     Trousers        Cargo Pants   XS  orange    106   \n",
              "500          496       Jacket        Windbreaker    S  orange    109   \n",
              "8              8        Shirt       Oxford Cloth    L  orange    114   \n",
              "568          563       Jacket             Bomber    L     red     90   \n",
              "420          417        Shirt    Casual Slim Fit    M  violet    113   \n",
              "\n",
              "      quantity                                        description  \n",
              "1191        72  A violet coloured, XS sized, High-Waisted Trou...  \n",
              "1065        44      A orange coloured, XL sized, Joggers Trousers  \n",
              "1240        42  A orange coloured, XL sized, Tracksuit Bottoms...  \n",
              "122         49             A green coloured, S sized, Denim Shirt  \n",
              "1227        50       A violet coloured, S sized, Pleated Trousers  \n",
              "1131        43  A orange coloured, XS sized, Cargo Pants Trousers  \n",
              "500         55     A orange coloured, S sized, Windbreaker Jacket  \n",
              "8           48     A orange coloured, L sized, Oxford Cloth Shirt  \n",
              "568         50             A red coloured, L sized, Bomber Jacket  \n",
              "420         46  A violet coloured, M sized, Casual Slim Fit Shirt  "
            ]
          },
          "execution_count": 69,
          "metadata": {},
          "output_type": "execute_result"
        }
      ],
      "source": [
        "product_df.sample(10)"
      ]
    },
    {
      "cell_type": "code",
      "execution_count": 70,
      "metadata": {
        "colab": {
          "base_uri": "https://localhost:8080/",
          "height": 473
        },
        "id": "2zr2CLglvlAd",
        "outputId": "e2a42e85-1b94-4f9f-8a1c-1418d60ab1b9"
      },
      "outputs": [
        {
          "data": {
            "text/html": [
              "<div>\n",
              "<style scoped>\n",
              "    .dataframe tbody tr th:only-of-type {\n",
              "        vertical-align: middle;\n",
              "    }\n",
              "\n",
              "    .dataframe tbody tr th {\n",
              "        vertical-align: top;\n",
              "    }\n",
              "\n",
              "    .dataframe thead th {\n",
              "        text-align: right;\n",
              "    }\n",
              "</style>\n",
              "<table border=\"1\" class=\"dataframe\">\n",
              "  <thead>\n",
              "    <tr style=\"text-align: right;\">\n",
              "      <th></th>\n",
              "      <th>product_id</th>\n",
              "      <th>product_type</th>\n",
              "      <th>product_name</th>\n",
              "      <th>size</th>\n",
              "      <th>colour</th>\n",
              "      <th>price</th>\n",
              "      <th>quantity</th>\n",
              "      <th>description</th>\n",
              "    </tr>\n",
              "  </thead>\n",
              "  <tbody>\n",
              "    <tr>\n",
              "      <th>count</th>\n",
              "      <td>1260.000000</td>\n",
              "      <td>1260</td>\n",
              "      <td>1260</td>\n",
              "      <td>1260</td>\n",
              "      <td>1260</td>\n",
              "      <td>1260.000000</td>\n",
              "      <td>1260.000000</td>\n",
              "      <td>1260</td>\n",
              "    </tr>\n",
              "    <tr>\n",
              "      <th>unique</th>\n",
              "      <td>NaN</td>\n",
              "      <td>3</td>\n",
              "      <td>35</td>\n",
              "      <td>8</td>\n",
              "      <td>7</td>\n",
              "      <td>NaN</td>\n",
              "      <td>NaN</td>\n",
              "      <td>1260</td>\n",
              "    </tr>\n",
              "    <tr>\n",
              "      <th>top</th>\n",
              "      <td>NaN</td>\n",
              "      <td>Shirt</td>\n",
              "      <td>Denim</td>\n",
              "      <td>XS</td>\n",
              "      <td>red</td>\n",
              "      <td>NaN</td>\n",
              "      <td>NaN</td>\n",
              "      <td>A violet coloured, XL sized, Tracksuit Bottoms...</td>\n",
              "    </tr>\n",
              "    <tr>\n",
              "      <th>freq</th>\n",
              "      <td>NaN</td>\n",
              "      <td>420</td>\n",
              "      <td>70</td>\n",
              "      <td>252</td>\n",
              "      <td>180</td>\n",
              "      <td>NaN</td>\n",
              "      <td>NaN</td>\n",
              "      <td>1</td>\n",
              "    </tr>\n",
              "    <tr>\n",
              "      <th>mean</th>\n",
              "      <td>629.500000</td>\n",
              "      <td>NaN</td>\n",
              "      <td>NaN</td>\n",
              "      <td>NaN</td>\n",
              "      <td>NaN</td>\n",
              "      <td>105.805556</td>\n",
              "      <td>60.150000</td>\n",
              "      <td>NaN</td>\n",
              "    </tr>\n",
              "    <tr>\n",
              "      <th>std</th>\n",
              "      <td>363.874979</td>\n",
              "      <td>NaN</td>\n",
              "      <td>NaN</td>\n",
              "      <td>NaN</td>\n",
              "      <td>NaN</td>\n",
              "      <td>9.704423</td>\n",
              "      <td>11.670573</td>\n",
              "      <td>NaN</td>\n",
              "    </tr>\n",
              "    <tr>\n",
              "      <th>min</th>\n",
              "      <td>0.000000</td>\n",
              "      <td>NaN</td>\n",
              "      <td>NaN</td>\n",
              "      <td>NaN</td>\n",
              "      <td>NaN</td>\n",
              "      <td>90.000000</td>\n",
              "      <td>40.000000</td>\n",
              "      <td>NaN</td>\n",
              "    </tr>\n",
              "    <tr>\n",
              "      <th>25%</th>\n",
              "      <td>314.750000</td>\n",
              "      <td>NaN</td>\n",
              "      <td>NaN</td>\n",
              "      <td>NaN</td>\n",
              "      <td>NaN</td>\n",
              "      <td>95.750000</td>\n",
              "      <td>50.000000</td>\n",
              "      <td>NaN</td>\n",
              "    </tr>\n",
              "    <tr>\n",
              "      <th>50%</th>\n",
              "      <td>629.500000</td>\n",
              "      <td>NaN</td>\n",
              "      <td>NaN</td>\n",
              "      <td>NaN</td>\n",
              "      <td>NaN</td>\n",
              "      <td>108.500000</td>\n",
              "      <td>60.000000</td>\n",
              "      <td>NaN</td>\n",
              "    </tr>\n",
              "    <tr>\n",
              "      <th>75%</th>\n",
              "      <td>944.250000</td>\n",
              "      <td>NaN</td>\n",
              "      <td>NaN</td>\n",
              "      <td>NaN</td>\n",
              "      <td>NaN</td>\n",
              "      <td>114.000000</td>\n",
              "      <td>70.000000</td>\n",
              "      <td>NaN</td>\n",
              "    </tr>\n",
              "    <tr>\n",
              "      <th>max</th>\n",
              "      <td>1259.000000</td>\n",
              "      <td>NaN</td>\n",
              "      <td>NaN</td>\n",
              "      <td>NaN</td>\n",
              "      <td>NaN</td>\n",
              "      <td>119.000000</td>\n",
              "      <td>80.000000</td>\n",
              "      <td>NaN</td>\n",
              "    </tr>\n",
              "  </tbody>\n",
              "</table>\n",
              "</div>"
            ],
            "text/plain": [
              "         product_id product_type product_name  size colour        price  \\\n",
              "count   1260.000000         1260         1260  1260   1260  1260.000000   \n",
              "unique          NaN            3           35     8      7          NaN   \n",
              "top             NaN        Shirt        Denim    XS    red          NaN   \n",
              "freq            NaN          420           70   252    180          NaN   \n",
              "mean     629.500000          NaN          NaN   NaN    NaN   105.805556   \n",
              "std      363.874979          NaN          NaN   NaN    NaN     9.704423   \n",
              "min        0.000000          NaN          NaN   NaN    NaN    90.000000   \n",
              "25%      314.750000          NaN          NaN   NaN    NaN    95.750000   \n",
              "50%      629.500000          NaN          NaN   NaN    NaN   108.500000   \n",
              "75%      944.250000          NaN          NaN   NaN    NaN   114.000000   \n",
              "max     1259.000000          NaN          NaN   NaN    NaN   119.000000   \n",
              "\n",
              "           quantity                                        description  \n",
              "count   1260.000000                                               1260  \n",
              "unique          NaN                                               1260  \n",
              "top             NaN  A violet coloured, XL sized, Tracksuit Bottoms...  \n",
              "freq            NaN                                                  1  \n",
              "mean      60.150000                                                NaN  \n",
              "std       11.670573                                                NaN  \n",
              "min       40.000000                                                NaN  \n",
              "25%       50.000000                                                NaN  \n",
              "50%       60.000000                                                NaN  \n",
              "75%       70.000000                                                NaN  \n",
              "max       80.000000                                                NaN  "
            ]
          },
          "execution_count": 70,
          "metadata": {},
          "output_type": "execute_result"
        }
      ],
      "source": [
        "product_df.describe(include=\"all\")"
      ]
    },
    {
      "cell_type": "code",
      "execution_count": 71,
      "metadata": {
        "colab": {
          "base_uri": "https://localhost:8080/",
          "height": 641
        },
        "id": "H-X1s1w1AO4k",
        "outputId": "223f96a0-76fd-4739-aeab-b6d98a4aa4ad"
      },
      "outputs": [
        {
          "data": {
            "text/html": [
              "<div>\n",
              "<style scoped>\n",
              "    .dataframe tbody tr th:only-of-type {\n",
              "        vertical-align: middle;\n",
              "    }\n",
              "\n",
              "    .dataframe tbody tr th {\n",
              "        vertical-align: top;\n",
              "    }\n",
              "\n",
              "    .dataframe thead th {\n",
              "        text-align: right;\n",
              "    }\n",
              "</style>\n",
              "<table border=\"1\" class=\"dataframe\">\n",
              "  <thead>\n",
              "    <tr style=\"text-align: right;\">\n",
              "      <th></th>\n",
              "      <th>product_id</th>\n",
              "      <th>product_type</th>\n",
              "      <th>product_name</th>\n",
              "      <th>size</th>\n",
              "      <th>colour</th>\n",
              "      <th>price</th>\n",
              "      <th>quantity</th>\n",
              "      <th>description</th>\n",
              "    </tr>\n",
              "  </thead>\n",
              "  <tbody>\n",
              "    <tr>\n",
              "      <th>977</th>\n",
              "      <td>971</td>\n",
              "      <td>Trousers</td>\n",
              "      <td>Slim-Fit</td>\n",
              "      <td>S</td>\n",
              "      <td>indigo</td>\n",
              "      <td>119</td>\n",
              "      <td>41</td>\n",
              "      <td>A indigo coloured, S sized, Slim-Fit Trousers</td>\n",
              "    </tr>\n",
              "    <tr>\n",
              "      <th>976</th>\n",
              "      <td>970</td>\n",
              "      <td>Trousers</td>\n",
              "      <td>Slim-Fit</td>\n",
              "      <td>XS</td>\n",
              "      <td>indigo</td>\n",
              "      <td>119</td>\n",
              "      <td>74</td>\n",
              "      <td>A indigo coloured, XS sized, Slim-Fit Trousers</td>\n",
              "    </tr>\n",
              "    <tr>\n",
              "      <th>58</th>\n",
              "      <td>58</td>\n",
              "      <td>Shirt</td>\n",
              "      <td>Dress</td>\n",
              "      <td>L</td>\n",
              "      <td>blue</td>\n",
              "      <td>119</td>\n",
              "      <td>61</td>\n",
              "      <td>A blue coloured, L sized, Dress Shirt</td>\n",
              "    </tr>\n",
              "    <tr>\n",
              "      <th>59</th>\n",
              "      <td>59</td>\n",
              "      <td>Shirt</td>\n",
              "      <td>Dress</td>\n",
              "      <td>XL</td>\n",
              "      <td>blue</td>\n",
              "      <td>119</td>\n",
              "      <td>66</td>\n",
              "      <td>A blue coloured, XL sized, Dress Shirt</td>\n",
              "    </tr>\n",
              "    <tr>\n",
              "      <th>978</th>\n",
              "      <td>972</td>\n",
              "      <td>Trousers</td>\n",
              "      <td>Slim-Fit</td>\n",
              "      <td>M</td>\n",
              "      <td>indigo</td>\n",
              "      <td>119</td>\n",
              "      <td>67</td>\n",
              "      <td>A indigo coloured, M sized, Slim-Fit Trousers</td>\n",
              "    </tr>\n",
              "    <tr>\n",
              "      <th>...</th>\n",
              "      <td>...</td>\n",
              "      <td>...</td>\n",
              "      <td>...</td>\n",
              "      <td>...</td>\n",
              "      <td>...</td>\n",
              "      <td>...</td>\n",
              "      <td>...</td>\n",
              "      <td>...</td>\n",
              "    </tr>\n",
              "    <tr>\n",
              "      <th>1224</th>\n",
              "      <td>1218</td>\n",
              "      <td>Trousers</td>\n",
              "      <td>Pleated</td>\n",
              "      <td>L</td>\n",
              "      <td>indigo</td>\n",
              "      <td>90</td>\n",
              "      <td>73</td>\n",
              "      <td>A indigo coloured, L sized, Pleated Trousers</td>\n",
              "    </tr>\n",
              "    <tr>\n",
              "      <th>1225</th>\n",
              "      <td>1219</td>\n",
              "      <td>Trousers</td>\n",
              "      <td>Pleated</td>\n",
              "      <td>XL</td>\n",
              "      <td>indigo</td>\n",
              "      <td>90</td>\n",
              "      <td>45</td>\n",
              "      <td>A indigo coloured, XL sized, Pleated Trousers</td>\n",
              "    </tr>\n",
              "    <tr>\n",
              "      <th>1226</th>\n",
              "      <td>1220</td>\n",
              "      <td>Trousers</td>\n",
              "      <td>Pleated</td>\n",
              "      <td>XS</td>\n",
              "      <td>violet</td>\n",
              "      <td>90</td>\n",
              "      <td>58</td>\n",
              "      <td>A violet coloured, XS sized, Pleated Trousers</td>\n",
              "    </tr>\n",
              "    <tr>\n",
              "      <th>1227</th>\n",
              "      <td>1221</td>\n",
              "      <td>Trousers</td>\n",
              "      <td>Pleated</td>\n",
              "      <td>S</td>\n",
              "      <td>violet</td>\n",
              "      <td>90</td>\n",
              "      <td>50</td>\n",
              "      <td>A violet coloured, S sized, Pleated Trousers</td>\n",
              "    </tr>\n",
              "    <tr>\n",
              "      <th>1228</th>\n",
              "      <td>1222</td>\n",
              "      <td>Trousers</td>\n",
              "      <td>Pleated</td>\n",
              "      <td>M</td>\n",
              "      <td>violet</td>\n",
              "      <td>90</td>\n",
              "      <td>45</td>\n",
              "      <td>A violet coloured, M sized, Pleated Trousers</td>\n",
              "    </tr>\n",
              "  </tbody>\n",
              "</table>\n",
              "<p>1260 rows × 8 columns</p>\n",
              "</div>"
            ],
            "text/plain": [
              "      product_id product_type product_name size  colour  price  quantity  \\\n",
              "977          971     Trousers     Slim-Fit    S  indigo    119        41   \n",
              "976          970     Trousers     Slim-Fit   XS  indigo    119        74   \n",
              "58            58        Shirt        Dress    L    blue    119        61   \n",
              "59            59        Shirt        Dress   XL    blue    119        66   \n",
              "978          972     Trousers     Slim-Fit    M  indigo    119        67   \n",
              "...          ...          ...          ...  ...     ...    ...       ...   \n",
              "1224        1218     Trousers      Pleated    L  indigo     90        73   \n",
              "1225        1219     Trousers      Pleated   XL  indigo     90        45   \n",
              "1226        1220     Trousers      Pleated   XS  violet     90        58   \n",
              "1227        1221     Trousers      Pleated    S  violet     90        50   \n",
              "1228        1222     Trousers      Pleated    M  violet     90        45   \n",
              "\n",
              "                                         description  \n",
              "977    A indigo coloured, S sized, Slim-Fit Trousers  \n",
              "976   A indigo coloured, XS sized, Slim-Fit Trousers  \n",
              "58             A blue coloured, L sized, Dress Shirt  \n",
              "59            A blue coloured, XL sized, Dress Shirt  \n",
              "978    A indigo coloured, M sized, Slim-Fit Trousers  \n",
              "...                                              ...  \n",
              "1224    A indigo coloured, L sized, Pleated Trousers  \n",
              "1225   A indigo coloured, XL sized, Pleated Trousers  \n",
              "1226   A violet coloured, XS sized, Pleated Trousers  \n",
              "1227    A violet coloured, S sized, Pleated Trousers  \n",
              "1228    A violet coloured, M sized, Pleated Trousers  \n",
              "\n",
              "[1260 rows x 8 columns]"
            ]
          },
          "execution_count": 71,
          "metadata": {},
          "output_type": "execute_result"
        }
      ],
      "source": [
        "product_df.sort_values(by=\"price\", ascending=False)"
      ]
    },
    {
      "cell_type": "code",
      "execution_count": 72,
      "metadata": {
        "colab": {
          "base_uri": "https://localhost:8080/",
          "height": 206
        },
        "id": "QFdkzdnmv5Gc",
        "outputId": "91b56247-496c-42b5-9965-55c5a98d85a3"
      },
      "outputs": [
        {
          "data": {
            "text/html": [
              "<div>\n",
              "<style scoped>\n",
              "    .dataframe tbody tr th:only-of-type {\n",
              "        vertical-align: middle;\n",
              "    }\n",
              "\n",
              "    .dataframe tbody tr th {\n",
              "        vertical-align: top;\n",
              "    }\n",
              "\n",
              "    .dataframe thead tr th {\n",
              "        text-align: left;\n",
              "    }\n",
              "\n",
              "    .dataframe thead tr:last-of-type th {\n",
              "        text-align: right;\n",
              "    }\n",
              "</style>\n",
              "<table border=\"1\" class=\"dataframe\">\n",
              "  <thead>\n",
              "    <tr>\n",
              "      <th></th>\n",
              "      <th>product_id</th>\n",
              "      <th>quantity</th>\n",
              "      <th colspan=\"2\" halign=\"left\">price</th>\n",
              "    </tr>\n",
              "    <tr>\n",
              "      <th></th>\n",
              "      <th>nunique</th>\n",
              "      <th>sum</th>\n",
              "      <th>min</th>\n",
              "      <th>max</th>\n",
              "    </tr>\n",
              "    <tr>\n",
              "      <th>product_type</th>\n",
              "      <th></th>\n",
              "      <th></th>\n",
              "      <th></th>\n",
              "      <th></th>\n",
              "    </tr>\n",
              "  </thead>\n",
              "  <tbody>\n",
              "    <tr>\n",
              "      <th>Jacket</th>\n",
              "      <td>420</td>\n",
              "      <td>25387</td>\n",
              "      <td>90</td>\n",
              "      <td>119</td>\n",
              "    </tr>\n",
              "    <tr>\n",
              "      <th>Shirt</th>\n",
              "      <td>420</td>\n",
              "      <td>25263</td>\n",
              "      <td>92</td>\n",
              "      <td>119</td>\n",
              "    </tr>\n",
              "    <tr>\n",
              "      <th>Trousers</th>\n",
              "      <td>420</td>\n",
              "      <td>25139</td>\n",
              "      <td>90</td>\n",
              "      <td>119</td>\n",
              "    </tr>\n",
              "  </tbody>\n",
              "</table>\n",
              "</div>"
            ],
            "text/plain": [
              "             product_id quantity price     \n",
              "                nunique      sum   min  max\n",
              "product_type                               \n",
              "Jacket              420    25387    90  119\n",
              "Shirt               420    25263    92  119\n",
              "Trousers            420    25139    90  119"
            ]
          },
          "execution_count": 72,
          "metadata": {},
          "output_type": "execute_result"
        }
      ],
      "source": [
        "product_df.groupby(by=\"product_type\").agg({\n",
        "    \"product_id\": \"nunique\",\n",
        "    \"quantity\": \"sum\",\n",
        "    \"price\":  [\"min\", \"max\"]\n",
        "})"
      ]
    },
    {
      "cell_type": "code",
      "execution_count": 73,
      "metadata": {
        "colab": {
          "base_uri": "https://localhost:8080/",
          "height": 1000
        },
        "id": "n8lj8-JDwY6t",
        "outputId": "2ed9a032-0515-40ac-e312-981a37130ad6"
      },
      "outputs": [
        {
          "data": {
            "text/html": [
              "<div>\n",
              "<style scoped>\n",
              "    .dataframe tbody tr th:only-of-type {\n",
              "        vertical-align: middle;\n",
              "    }\n",
              "\n",
              "    .dataframe tbody tr th {\n",
              "        vertical-align: top;\n",
              "    }\n",
              "\n",
              "    .dataframe thead tr th {\n",
              "        text-align: left;\n",
              "    }\n",
              "\n",
              "    .dataframe thead tr:last-of-type th {\n",
              "        text-align: right;\n",
              "    }\n",
              "</style>\n",
              "<table border=\"1\" class=\"dataframe\">\n",
              "  <thead>\n",
              "    <tr>\n",
              "      <th></th>\n",
              "      <th>product_id</th>\n",
              "      <th>quantity</th>\n",
              "      <th colspan=\"2\" halign=\"left\">price</th>\n",
              "    </tr>\n",
              "    <tr>\n",
              "      <th></th>\n",
              "      <th>nunique</th>\n",
              "      <th>sum</th>\n",
              "      <th>min</th>\n",
              "      <th>max</th>\n",
              "    </tr>\n",
              "    <tr>\n",
              "      <th>product_name</th>\n",
              "      <th></th>\n",
              "      <th></th>\n",
              "      <th></th>\n",
              "      <th></th>\n",
              "    </tr>\n",
              "  </thead>\n",
              "  <tbody>\n",
              "    <tr>\n",
              "      <th>Bomber</th>\n",
              "      <td>35</td>\n",
              "      <td>2083</td>\n",
              "      <td>90</td>\n",
              "      <td>90</td>\n",
              "    </tr>\n",
              "    <tr>\n",
              "      <th>Camp Collared</th>\n",
              "      <td>35</td>\n",
              "      <td>2071</td>\n",
              "      <td>112</td>\n",
              "      <td>112</td>\n",
              "    </tr>\n",
              "    <tr>\n",
              "      <th>Cardigan</th>\n",
              "      <td>35</td>\n",
              "      <td>2032</td>\n",
              "      <td>118</td>\n",
              "      <td>118</td>\n",
              "    </tr>\n",
              "    <tr>\n",
              "      <th>Cargo Pants</th>\n",
              "      <td>35</td>\n",
              "      <td>2146</td>\n",
              "      <td>106</td>\n",
              "      <td>106</td>\n",
              "    </tr>\n",
              "    <tr>\n",
              "      <th>Casual Slim Fit</th>\n",
              "      <td>35</td>\n",
              "      <td>2086</td>\n",
              "      <td>113</td>\n",
              "      <td>113</td>\n",
              "    </tr>\n",
              "    <tr>\n",
              "      <th>Chambray</th>\n",
              "      <td>35</td>\n",
              "      <td>2020</td>\n",
              "      <td>105</td>\n",
              "      <td>105</td>\n",
              "    </tr>\n",
              "    <tr>\n",
              "      <th>Chinos</th>\n",
              "      <td>35</td>\n",
              "      <td>2101</td>\n",
              "      <td>100</td>\n",
              "      <td>100</td>\n",
              "    </tr>\n",
              "    <tr>\n",
              "      <th>Coach</th>\n",
              "      <td>35</td>\n",
              "      <td>2158</td>\n",
              "      <td>115</td>\n",
              "      <td>115</td>\n",
              "    </tr>\n",
              "    <tr>\n",
              "      <th>Cords</th>\n",
              "      <td>35</td>\n",
              "      <td>2260</td>\n",
              "      <td>113</td>\n",
              "      <td>113</td>\n",
              "    </tr>\n",
              "    <tr>\n",
              "      <th>Cropped</th>\n",
              "      <td>35</td>\n",
              "      <td>2085</td>\n",
              "      <td>99</td>\n",
              "      <td>99</td>\n",
              "    </tr>\n",
              "    <tr>\n",
              "      <th>Cuban Collar</th>\n",
              "      <td>35</td>\n",
              "      <td>2017</td>\n",
              "      <td>93</td>\n",
              "      <td>93</td>\n",
              "    </tr>\n",
              "    <tr>\n",
              "      <th>Denim</th>\n",
              "      <td>70</td>\n",
              "      <td>4204</td>\n",
              "      <td>92</td>\n",
              "      <td>115</td>\n",
              "    </tr>\n",
              "    <tr>\n",
              "      <th>Drawstring</th>\n",
              "      <td>35</td>\n",
              "      <td>2042</td>\n",
              "      <td>104</td>\n",
              "      <td>104</td>\n",
              "    </tr>\n",
              "    <tr>\n",
              "      <th>Dress</th>\n",
              "      <td>35</td>\n",
              "      <td>2125</td>\n",
              "      <td>119</td>\n",
              "      <td>119</td>\n",
              "    </tr>\n",
              "    <tr>\n",
              "      <th>Flannel</th>\n",
              "      <td>35</td>\n",
              "      <td>2135</td>\n",
              "      <td>96</td>\n",
              "      <td>96</td>\n",
              "    </tr>\n",
              "    <tr>\n",
              "      <th>Henley</th>\n",
              "      <td>35</td>\n",
              "      <td>2051</td>\n",
              "      <td>92</td>\n",
              "      <td>92</td>\n",
              "    </tr>\n",
              "    <tr>\n",
              "      <th>High-Waisted</th>\n",
              "      <td>35</td>\n",
              "      <td>2198</td>\n",
              "      <td>98</td>\n",
              "      <td>98</td>\n",
              "    </tr>\n",
              "    <tr>\n",
              "      <th>Joggers</th>\n",
              "      <td>35</td>\n",
              "      <td>2107</td>\n",
              "      <td>94</td>\n",
              "      <td>94</td>\n",
              "    </tr>\n",
              "    <tr>\n",
              "      <th>Leather</th>\n",
              "      <td>35</td>\n",
              "      <td>2276</td>\n",
              "      <td>113</td>\n",
              "      <td>113</td>\n",
              "    </tr>\n",
              "    <tr>\n",
              "      <th>Linen</th>\n",
              "      <td>35</td>\n",
              "      <td>2138</td>\n",
              "      <td>116</td>\n",
              "      <td>116</td>\n",
              "    </tr>\n",
              "    <tr>\n",
              "      <th>Mandarin Collar</th>\n",
              "      <td>35</td>\n",
              "      <td>2203</td>\n",
              "      <td>108</td>\n",
              "      <td>108</td>\n",
              "    </tr>\n",
              "    <tr>\n",
              "      <th>Oxford Cloth</th>\n",
              "      <td>35</td>\n",
              "      <td>2071</td>\n",
              "      <td>114</td>\n",
              "      <td>114</td>\n",
              "    </tr>\n",
              "    <tr>\n",
              "      <th>Parka</th>\n",
              "      <td>35</td>\n",
              "      <td>2201</td>\n",
              "      <td>119</td>\n",
              "      <td>119</td>\n",
              "    </tr>\n",
              "    <tr>\n",
              "      <th>Peacoat</th>\n",
              "      <td>35</td>\n",
              "      <td>2067</td>\n",
              "      <td>102</td>\n",
              "      <td>102</td>\n",
              "    </tr>\n",
              "    <tr>\n",
              "      <th>Pleated</th>\n",
              "      <td>35</td>\n",
              "      <td>2030</td>\n",
              "      <td>90</td>\n",
              "      <td>90</td>\n",
              "    </tr>\n",
              "    <tr>\n",
              "      <th>Polo</th>\n",
              "      <td>35</td>\n",
              "      <td>2196</td>\n",
              "      <td>117</td>\n",
              "      <td>117</td>\n",
              "    </tr>\n",
              "    <tr>\n",
              "      <th>Puffer</th>\n",
              "      <td>35</td>\n",
              "      <td>1946</td>\n",
              "      <td>110</td>\n",
              "      <td>110</td>\n",
              "    </tr>\n",
              "    <tr>\n",
              "      <th>Pullover</th>\n",
              "      <td>35</td>\n",
              "      <td>2184</td>\n",
              "      <td>114</td>\n",
              "      <td>114</td>\n",
              "    </tr>\n",
              "    <tr>\n",
              "      <th>Relaxed Leg</th>\n",
              "      <td>35</td>\n",
              "      <td>2002</td>\n",
              "      <td>95</td>\n",
              "      <td>95</td>\n",
              "    </tr>\n",
              "    <tr>\n",
              "      <th>Shearling</th>\n",
              "      <td>35</td>\n",
              "      <td>2169</td>\n",
              "      <td>95</td>\n",
              "      <td>95</td>\n",
              "    </tr>\n",
              "    <tr>\n",
              "      <th>Slim-Fit</th>\n",
              "      <td>35</td>\n",
              "      <td>2155</td>\n",
              "      <td>119</td>\n",
              "      <td>119</td>\n",
              "    </tr>\n",
              "    <tr>\n",
              "      <th>Tracksuit Bottoms</th>\n",
              "      <td>35</td>\n",
              "      <td>2038</td>\n",
              "      <td>91</td>\n",
              "      <td>91</td>\n",
              "    </tr>\n",
              "    <tr>\n",
              "      <th>Trench Coat</th>\n",
              "      <td>35</td>\n",
              "      <td>2132</td>\n",
              "      <td>112</td>\n",
              "      <td>112</td>\n",
              "    </tr>\n",
              "    <tr>\n",
              "      <th>Windbreaker</th>\n",
              "      <td>35</td>\n",
              "      <td>2085</td>\n",
              "      <td>109</td>\n",
              "      <td>109</td>\n",
              "    </tr>\n",
              "    <tr>\n",
              "      <th>Wool</th>\n",
              "      <td>35</td>\n",
              "      <td>1975</td>\n",
              "      <td>111</td>\n",
              "      <td>111</td>\n",
              "    </tr>\n",
              "  </tbody>\n",
              "</table>\n",
              "</div>"
            ],
            "text/plain": [
              "                  product_id quantity price     \n",
              "                     nunique      sum   min  max\n",
              "product_name                                    \n",
              "Bomber                    35     2083    90   90\n",
              "Camp Collared             35     2071   112  112\n",
              "Cardigan                  35     2032   118  118\n",
              "Cargo Pants               35     2146   106  106\n",
              "Casual Slim Fit           35     2086   113  113\n",
              "Chambray                  35     2020   105  105\n",
              "Chinos                    35     2101   100  100\n",
              "Coach                     35     2158   115  115\n",
              "Cords                     35     2260   113  113\n",
              "Cropped                   35     2085    99   99\n",
              "Cuban Collar              35     2017    93   93\n",
              "Denim                     70     4204    92  115\n",
              "Drawstring                35     2042   104  104\n",
              "Dress                     35     2125   119  119\n",
              "Flannel                   35     2135    96   96\n",
              "Henley                    35     2051    92   92\n",
              "High-Waisted              35     2198    98   98\n",
              "Joggers                   35     2107    94   94\n",
              "Leather                   35     2276   113  113\n",
              "Linen                     35     2138   116  116\n",
              "Mandarin Collar           35     2203   108  108\n",
              "Oxford Cloth              35     2071   114  114\n",
              "Parka                     35     2201   119  119\n",
              "Peacoat                   35     2067   102  102\n",
              "Pleated                   35     2030    90   90\n",
              "Polo                      35     2196   117  117\n",
              "Puffer                    35     1946   110  110\n",
              "Pullover                  35     2184   114  114\n",
              "Relaxed Leg               35     2002    95   95\n",
              "Shearling                 35     2169    95   95\n",
              "Slim-Fit                  35     2155   119  119\n",
              "Tracksuit Bottoms         35     2038    91   91\n",
              "Trench Coat               35     2132   112  112\n",
              "Windbreaker               35     2085   109  109\n",
              "Wool                      35     1975   111  111"
            ]
          },
          "execution_count": 73,
          "metadata": {},
          "output_type": "execute_result"
        }
      ],
      "source": [
        "product_df.groupby(by=\"product_name\").agg({\n",
        "    \"product_id\": \"nunique\",\n",
        "    \"quantity\": \"sum\",\n",
        "    \"price\": [\"min\", \"max\"]\n",
        "})"
      ]
    },
    {
      "cell_type": "markdown",
      "metadata": {
        "id": "Io-Sv24_5Vd2"
      },
      "source": [
        "### Explore Data `sales_df`"
      ]
    },
    {
      "cell_type": "code",
      "execution_count": 74,
      "metadata": {
        "colab": {
          "base_uri": "https://localhost:8080/",
          "height": 206
        },
        "id": "58z_tFqEwj9L",
        "outputId": "03ed50ba-e25e-482c-b6ec-745e540562a2"
      },
      "outputs": [
        {
          "data": {
            "text/html": [
              "<div>\n",
              "<style scoped>\n",
              "    .dataframe tbody tr th:only-of-type {\n",
              "        vertical-align: middle;\n",
              "    }\n",
              "\n",
              "    .dataframe tbody tr th {\n",
              "        vertical-align: top;\n",
              "    }\n",
              "\n",
              "    .dataframe thead th {\n",
              "        text-align: right;\n",
              "    }\n",
              "</style>\n",
              "<table border=\"1\" class=\"dataframe\">\n",
              "  <thead>\n",
              "    <tr style=\"text-align: right;\">\n",
              "      <th></th>\n",
              "      <th>sales_id</th>\n",
              "      <th>order_id</th>\n",
              "      <th>product_id</th>\n",
              "      <th>price_per_unit</th>\n",
              "      <th>quantity</th>\n",
              "      <th>total_price</th>\n",
              "    </tr>\n",
              "  </thead>\n",
              "  <tbody>\n",
              "    <tr>\n",
              "      <th>3931</th>\n",
              "      <td>3931</td>\n",
              "      <td>785</td>\n",
              "      <td>1242</td>\n",
              "      <td>112</td>\n",
              "      <td>2</td>\n",
              "      <td>224</td>\n",
              "    </tr>\n",
              "    <tr>\n",
              "      <th>749</th>\n",
              "      <td>749</td>\n",
              "      <td>159</td>\n",
              "      <td>410</td>\n",
              "      <td>119</td>\n",
              "      <td>3</td>\n",
              "      <td>357</td>\n",
              "    </tr>\n",
              "    <tr>\n",
              "      <th>2600</th>\n",
              "      <td>2600</td>\n",
              "      <td>521</td>\n",
              "      <td>625</td>\n",
              "      <td>112</td>\n",
              "      <td>1</td>\n",
              "      <td>112</td>\n",
              "    </tr>\n",
              "    <tr>\n",
              "      <th>959</th>\n",
              "      <td>959</td>\n",
              "      <td>196</td>\n",
              "      <td>239</td>\n",
              "      <td>106</td>\n",
              "      <td>3</td>\n",
              "      <td>318</td>\n",
              "    </tr>\n",
              "    <tr>\n",
              "      <th>3125</th>\n",
              "      <td>3125</td>\n",
              "      <td>630</td>\n",
              "      <td>882</td>\n",
              "      <td>94</td>\n",
              "      <td>3</td>\n",
              "      <td>282</td>\n",
              "    </tr>\n",
              "  </tbody>\n",
              "</table>\n",
              "</div>"
            ],
            "text/plain": [
              "      sales_id  order_id  product_id  price_per_unit  quantity  total_price\n",
              "3931      3931       785        1242             112         2          224\n",
              "749        749       159         410             119         3          357\n",
              "2600      2600       521         625             112         1          112\n",
              "959        959       196         239             106         3          318\n",
              "3125      3125       630         882              94         3          282"
            ]
          },
          "execution_count": 74,
          "metadata": {},
          "output_type": "execute_result"
        }
      ],
      "source": [
        "sales_df.sample(5)"
      ]
    },
    {
      "cell_type": "code",
      "execution_count": 75,
      "metadata": {
        "colab": {
          "base_uri": "https://localhost:8080/",
          "height": 300
        },
        "id": "H9LAryWF52C-",
        "outputId": "d54b89f1-17a6-426d-8738-4869bbc9ad28"
      },
      "outputs": [
        {
          "data": {
            "text/html": [
              "<div>\n",
              "<style scoped>\n",
              "    .dataframe tbody tr th:only-of-type {\n",
              "        vertical-align: middle;\n",
              "    }\n",
              "\n",
              "    .dataframe tbody tr th {\n",
              "        vertical-align: top;\n",
              "    }\n",
              "\n",
              "    .dataframe thead th {\n",
              "        text-align: right;\n",
              "    }\n",
              "</style>\n",
              "<table border=\"1\" class=\"dataframe\">\n",
              "  <thead>\n",
              "    <tr style=\"text-align: right;\">\n",
              "      <th></th>\n",
              "      <th>sales_id</th>\n",
              "      <th>order_id</th>\n",
              "      <th>product_id</th>\n",
              "      <th>price_per_unit</th>\n",
              "      <th>quantity</th>\n",
              "      <th>total_price</th>\n",
              "    </tr>\n",
              "  </thead>\n",
              "  <tbody>\n",
              "    <tr>\n",
              "      <th>count</th>\n",
              "      <td>5000.000000</td>\n",
              "      <td>5000.000000</td>\n",
              "      <td>5000.000000</td>\n",
              "      <td>5000.000000</td>\n",
              "      <td>5000.00000</td>\n",
              "      <td>5000.000000</td>\n",
              "    </tr>\n",
              "    <tr>\n",
              "      <th>mean</th>\n",
              "      <td>2499.500000</td>\n",
              "      <td>503.038200</td>\n",
              "      <td>634.053200</td>\n",
              "      <td>103.501600</td>\n",
              "      <td>1.99240</td>\n",
              "      <td>206.360000</td>\n",
              "    </tr>\n",
              "    <tr>\n",
              "      <th>std</th>\n",
              "      <td>1443.520003</td>\n",
              "      <td>285.964418</td>\n",
              "      <td>363.255794</td>\n",
              "      <td>9.195004</td>\n",
              "      <td>0.80751</td>\n",
              "      <td>86.357457</td>\n",
              "    </tr>\n",
              "    <tr>\n",
              "      <th>min</th>\n",
              "      <td>0.000000</td>\n",
              "      <td>1.000000</td>\n",
              "      <td>1.000000</td>\n",
              "      <td>90.000000</td>\n",
              "      <td>1.00000</td>\n",
              "      <td>90.000000</td>\n",
              "    </tr>\n",
              "    <tr>\n",
              "      <th>25%</th>\n",
              "      <td>1249.750000</td>\n",
              "      <td>258.000000</td>\n",
              "      <td>323.000000</td>\n",
              "      <td>95.000000</td>\n",
              "      <td>1.00000</td>\n",
              "      <td>112.000000</td>\n",
              "    </tr>\n",
              "    <tr>\n",
              "      <th>50%</th>\n",
              "      <td>2499.500000</td>\n",
              "      <td>504.500000</td>\n",
              "      <td>635.000000</td>\n",
              "      <td>102.000000</td>\n",
              "      <td>2.00000</td>\n",
              "      <td>204.000000</td>\n",
              "    </tr>\n",
              "    <tr>\n",
              "      <th>75%</th>\n",
              "      <td>3749.250000</td>\n",
              "      <td>749.000000</td>\n",
              "      <td>951.000000</td>\n",
              "      <td>112.000000</td>\n",
              "      <td>3.00000</td>\n",
              "      <td>285.000000</td>\n",
              "    </tr>\n",
              "    <tr>\n",
              "      <th>max</th>\n",
              "      <td>4999.000000</td>\n",
              "      <td>999.000000</td>\n",
              "      <td>1259.000000</td>\n",
              "      <td>119.000000</td>\n",
              "      <td>3.00000</td>\n",
              "      <td>357.000000</td>\n",
              "    </tr>\n",
              "  </tbody>\n",
              "</table>\n",
              "</div>"
            ],
            "text/plain": [
              "          sales_id     order_id   product_id  price_per_unit    quantity  \\\n",
              "count  5000.000000  5000.000000  5000.000000     5000.000000  5000.00000   \n",
              "mean   2499.500000   503.038200   634.053200      103.501600     1.99240   \n",
              "std    1443.520003   285.964418   363.255794        9.195004     0.80751   \n",
              "min       0.000000     1.000000     1.000000       90.000000     1.00000   \n",
              "25%    1249.750000   258.000000   323.000000       95.000000     1.00000   \n",
              "50%    2499.500000   504.500000   635.000000      102.000000     2.00000   \n",
              "75%    3749.250000   749.000000   951.000000      112.000000     3.00000   \n",
              "max    4999.000000   999.000000  1259.000000      119.000000     3.00000   \n",
              "\n",
              "       total_price  \n",
              "count  5000.000000  \n",
              "mean    206.360000  \n",
              "std      86.357457  \n",
              "min      90.000000  \n",
              "25%     112.000000  \n",
              "50%     204.000000  \n",
              "75%     285.000000  \n",
              "max     357.000000  "
            ]
          },
          "execution_count": 75,
          "metadata": {},
          "output_type": "execute_result"
        }
      ],
      "source": [
        "sales_df.describe(include=\"all\")"
      ]
    },
    {
      "cell_type": "code",
      "execution_count": 76,
      "metadata": {
        "colab": {
          "base_uri": "https://localhost:8080/",
          "height": 206
        },
        "id": "r_2DWymbBa6X",
        "outputId": "a079b074-0098-423a-8472-02fb1e0efa4f"
      },
      "outputs": [
        {
          "data": {
            "text/html": [
              "<div>\n",
              "<style scoped>\n",
              "    .dataframe tbody tr th:only-of-type {\n",
              "        vertical-align: middle;\n",
              "    }\n",
              "\n",
              "    .dataframe tbody tr th {\n",
              "        vertical-align: top;\n",
              "    }\n",
              "\n",
              "    .dataframe thead th {\n",
              "        text-align: right;\n",
              "    }\n",
              "</style>\n",
              "<table border=\"1\" class=\"dataframe\">\n",
              "  <thead>\n",
              "    <tr style=\"text-align: right;\">\n",
              "      <th></th>\n",
              "      <th>order_id</th>\n",
              "      <th>customer_id</th>\n",
              "      <th>payment</th>\n",
              "      <th>order_date</th>\n",
              "      <th>delivery_date</th>\n",
              "      <th>delivery_time</th>\n",
              "    </tr>\n",
              "  </thead>\n",
              "  <tbody>\n",
              "    <tr>\n",
              "      <th>0</th>\n",
              "      <td>1</td>\n",
              "      <td>64</td>\n",
              "      <td>30811</td>\n",
              "      <td>2021-08-30</td>\n",
              "      <td>2021-09-24</td>\n",
              "      <td>25.0</td>\n",
              "    </tr>\n",
              "    <tr>\n",
              "      <th>1</th>\n",
              "      <td>2</td>\n",
              "      <td>473</td>\n",
              "      <td>50490</td>\n",
              "      <td>2021-02-03</td>\n",
              "      <td>2021-02-13</td>\n",
              "      <td>10.0</td>\n",
              "    </tr>\n",
              "    <tr>\n",
              "      <th>2</th>\n",
              "      <td>3</td>\n",
              "      <td>774</td>\n",
              "      <td>46763</td>\n",
              "      <td>2021-10-08</td>\n",
              "      <td>2021-11-03</td>\n",
              "      <td>26.0</td>\n",
              "    </tr>\n",
              "    <tr>\n",
              "      <th>3</th>\n",
              "      <td>4</td>\n",
              "      <td>433</td>\n",
              "      <td>39782</td>\n",
              "      <td>2021-05-06</td>\n",
              "      <td>2021-05-19</td>\n",
              "      <td>13.0</td>\n",
              "    </tr>\n",
              "    <tr>\n",
              "      <th>4</th>\n",
              "      <td>5</td>\n",
              "      <td>441</td>\n",
              "      <td>14719</td>\n",
              "      <td>2021-03-23</td>\n",
              "      <td>2021-03-24</td>\n",
              "      <td>1.0</td>\n",
              "    </tr>\n",
              "  </tbody>\n",
              "</table>\n",
              "</div>"
            ],
            "text/plain": [
              "   order_id  customer_id  payment order_date delivery_date  delivery_time\n",
              "0         1           64    30811 2021-08-30    2021-09-24           25.0\n",
              "1         2          473    50490 2021-02-03    2021-02-13           10.0\n",
              "2         3          774    46763 2021-10-08    2021-11-03           26.0\n",
              "3         4          433    39782 2021-05-06    2021-05-19           13.0\n",
              "4         5          441    14719 2021-03-23    2021-03-24            1.0"
            ]
          },
          "execution_count": 76,
          "metadata": {},
          "output_type": "execute_result"
        }
      ],
      "source": [
        "orders_df.head()"
      ]
    },
    {
      "cell_type": "code",
      "execution_count": 77,
      "metadata": {
        "colab": {
          "base_uri": "https://localhost:8080/"
        },
        "id": "p-XIGzQDBNgX",
        "outputId": "9d58cbf4-1070-4e35-de25-025031ceefa3"
      },
      "outputs": [
        {
          "data": {
            "text/plain": [
              "order_id\n",
              "1      1487\n",
              "2      1130\n",
              "3       508\n",
              "4       976\n",
              "5      2043\n",
              "       ... \n",
              "995    1127\n",
              "996    1459\n",
              "997     204\n",
              "998    1352\n",
              "999     440\n",
              "Name: total_price, Length: 993, dtype: int64"
            ]
          },
          "execution_count": 77,
          "metadata": {},
          "output_type": "execute_result"
        }
      ],
      "source": [
        "sales_df.groupby(by=\"order_id\").total_price.sum()"
      ]
    },
    {
      "cell_type": "markdown",
      "metadata": {
        "id": "O6r8yP3i88rX"
      },
      "source": [
        "### Explore Data `sales_df` & `product_df`"
      ]
    },
    {
      "cell_type": "markdown",
      "metadata": {
        "id": "8MR_fOsl9bsl"
      },
      "source": [
        "#### Menggabungkan data `sales_df` dan `product_df`"
      ]
    },
    {
      "cell_type": "code",
      "execution_count": 78,
      "metadata": {
        "colab": {
          "base_uri": "https://localhost:8080/",
          "height": 548
        },
        "id": "bY_vIzcq9bsm",
        "outputId": "96d3c9d8-bff7-4f51-e93e-11d65d710374"
      },
      "outputs": [
        {
          "data": {
            "text/html": [
              "<div>\n",
              "<style scoped>\n",
              "    .dataframe tbody tr th:only-of-type {\n",
              "        vertical-align: middle;\n",
              "    }\n",
              "\n",
              "    .dataframe tbody tr th {\n",
              "        vertical-align: top;\n",
              "    }\n",
              "\n",
              "    .dataframe thead th {\n",
              "        text-align: right;\n",
              "    }\n",
              "</style>\n",
              "<table border=\"1\" class=\"dataframe\">\n",
              "  <thead>\n",
              "    <tr style=\"text-align: right;\">\n",
              "      <th></th>\n",
              "      <th>sales_id</th>\n",
              "      <th>order_id</th>\n",
              "      <th>product_id</th>\n",
              "      <th>price_per_unit</th>\n",
              "      <th>quantity_x</th>\n",
              "      <th>total_price</th>\n",
              "      <th>product_type</th>\n",
              "      <th>product_name</th>\n",
              "      <th>size</th>\n",
              "      <th>colour</th>\n",
              "      <th>price</th>\n",
              "      <th>quantity_y</th>\n",
              "      <th>description</th>\n",
              "    </tr>\n",
              "  </thead>\n",
              "  <tbody>\n",
              "    <tr>\n",
              "      <th>0</th>\n",
              "      <td>0</td>\n",
              "      <td>1</td>\n",
              "      <td>218</td>\n",
              "      <td>106</td>\n",
              "      <td>2</td>\n",
              "      <td>212</td>\n",
              "      <td>Shirt</td>\n",
              "      <td>Chambray</td>\n",
              "      <td>L</td>\n",
              "      <td>orange</td>\n",
              "      <td>105</td>\n",
              "      <td>44</td>\n",
              "      <td>A orange coloured, L sized, Chambray Shirt</td>\n",
              "    </tr>\n",
              "    <tr>\n",
              "      <th>1</th>\n",
              "      <td>1</td>\n",
              "      <td>1</td>\n",
              "      <td>481</td>\n",
              "      <td>118</td>\n",
              "      <td>1</td>\n",
              "      <td>118</td>\n",
              "      <td>Jacket</td>\n",
              "      <td>Puffer</td>\n",
              "      <td>S</td>\n",
              "      <td>indigo</td>\n",
              "      <td>110</td>\n",
              "      <td>62</td>\n",
              "      <td>A indigo coloured, S sized, Puffer Jacket</td>\n",
              "    </tr>\n",
              "    <tr>\n",
              "      <th>2</th>\n",
              "      <td>2</td>\n",
              "      <td>1</td>\n",
              "      <td>2</td>\n",
              "      <td>96</td>\n",
              "      <td>3</td>\n",
              "      <td>288</td>\n",
              "      <td>Shirt</td>\n",
              "      <td>Oxford Cloth</td>\n",
              "      <td>M</td>\n",
              "      <td>red</td>\n",
              "      <td>114</td>\n",
              "      <td>54</td>\n",
              "      <td>A red coloured, M sized, Oxford Cloth Shirt</td>\n",
              "    </tr>\n",
              "    <tr>\n",
              "      <th>3</th>\n",
              "      <td>3</td>\n",
              "      <td>1</td>\n",
              "      <td>1002</td>\n",
              "      <td>106</td>\n",
              "      <td>2</td>\n",
              "      <td>212</td>\n",
              "      <td>Trousers</td>\n",
              "      <td>Wool</td>\n",
              "      <td>M</td>\n",
              "      <td>blue</td>\n",
              "      <td>111</td>\n",
              "      <td>52</td>\n",
              "      <td>A blue coloured, M sized, Wool Trousers</td>\n",
              "    </tr>\n",
              "    <tr>\n",
              "      <th>4</th>\n",
              "      <td>4</td>\n",
              "      <td>1</td>\n",
              "      <td>691</td>\n",
              "      <td>113</td>\n",
              "      <td>3</td>\n",
              "      <td>339</td>\n",
              "      <td>Jacket</td>\n",
              "      <td>Parka</td>\n",
              "      <td>S</td>\n",
              "      <td>indigo</td>\n",
              "      <td>119</td>\n",
              "      <td>53</td>\n",
              "      <td>A indigo coloured, S sized, Parka Jacket</td>\n",
              "    </tr>\n",
              "  </tbody>\n",
              "</table>\n",
              "</div>"
            ],
            "text/plain": [
              "   sales_id  order_id  product_id  price_per_unit  quantity_x  total_price  \\\n",
              "0         0         1         218             106           2          212   \n",
              "1         1         1         481             118           1          118   \n",
              "2         2         1           2              96           3          288   \n",
              "3         3         1        1002             106           2          212   \n",
              "4         4         1         691             113           3          339   \n",
              "\n",
              "  product_type  product_name size  colour  price  quantity_y  \\\n",
              "0        Shirt      Chambray    L  orange    105          44   \n",
              "1       Jacket        Puffer    S  indigo    110          62   \n",
              "2        Shirt  Oxford Cloth    M     red    114          54   \n",
              "3     Trousers          Wool    M    blue    111          52   \n",
              "4       Jacket         Parka    S  indigo    119          53   \n",
              "\n",
              "                                   description  \n",
              "0   A orange coloured, L sized, Chambray Shirt  \n",
              "1    A indigo coloured, S sized, Puffer Jacket  \n",
              "2  A red coloured, M sized, Oxford Cloth Shirt  \n",
              "3      A blue coloured, M sized, Wool Trousers  \n",
              "4     A indigo coloured, S sized, Parka Jacket  "
            ]
          },
          "execution_count": 78,
          "metadata": {},
          "output_type": "execute_result"
        }
      ],
      "source": [
        "sales_product_df = pd.merge(\n",
        "    left=sales_df,\n",
        "    right=product_df,\n",
        "    how=\"left\",\n",
        "    left_on=\"product_id\",\n",
        "    right_on=\"product_id\"\n",
        ")\n",
        "sales_product_df.head()"
      ]
    },
    {
      "cell_type": "markdown",
      "metadata": {
        "id": "RQ7VrUUK_NNp"
      },
      "source": [
        "Jika diperhatikan terdapat perbedaan antara nilai **price_per_unit** dan **price**. Hal ini bisa terjadi karena adanya potongan harga, biaya operasional, atau biaya lainnya."
      ]
    },
    {
      "cell_type": "code",
      "execution_count": 79,
      "metadata": {
        "colab": {
          "base_uri": "https://localhost:8080/",
          "height": 174
        },
        "id": "Dq3XBsRd9hz9",
        "outputId": "285ca07c-2c9e-4faf-f0c5-f4845d0dd5fa"
      },
      "outputs": [
        {
          "data": {
            "text/html": [
              "<div>\n",
              "<style scoped>\n",
              "    .dataframe tbody tr th:only-of-type {\n",
              "        vertical-align: middle;\n",
              "    }\n",
              "\n",
              "    .dataframe tbody tr th {\n",
              "        vertical-align: top;\n",
              "    }\n",
              "\n",
              "    .dataframe thead th {\n",
              "        text-align: right;\n",
              "    }\n",
              "</style>\n",
              "<table border=\"1\" class=\"dataframe\">\n",
              "  <thead>\n",
              "    <tr style=\"text-align: right;\">\n",
              "      <th></th>\n",
              "      <th>sales_id</th>\n",
              "      <th>quantity_x</th>\n",
              "      <th>total_price</th>\n",
              "    </tr>\n",
              "    <tr>\n",
              "      <th>product_type</th>\n",
              "      <th></th>\n",
              "      <th></th>\n",
              "      <th></th>\n",
              "    </tr>\n",
              "  </thead>\n",
              "  <tbody>\n",
              "    <tr>\n",
              "      <th>Jacket</th>\n",
              "      <td>1676</td>\n",
              "      <td>3343</td>\n",
              "      <td>357026</td>\n",
              "    </tr>\n",
              "    <tr>\n",
              "      <th>Shirt</th>\n",
              "      <td>1641</td>\n",
              "      <td>3259</td>\n",
              "      <td>333600</td>\n",
              "    </tr>\n",
              "    <tr>\n",
              "      <th>Trousers</th>\n",
              "      <td>1683</td>\n",
              "      <td>3360</td>\n",
              "      <td>341174</td>\n",
              "    </tr>\n",
              "  </tbody>\n",
              "</table>\n",
              "</div>"
            ],
            "text/plain": [
              "              sales_id  quantity_x  total_price\n",
              "product_type                                   \n",
              "Jacket            1676        3343       357026\n",
              "Shirt             1641        3259       333600\n",
              "Trousers          1683        3360       341174"
            ]
          },
          "execution_count": 79,
          "metadata": {},
          "output_type": "execute_result"
        }
      ],
      "source": [
        "sales_product_df.groupby(by=\"product_type\").agg({\n",
        "    \"sales_id\": \"nunique\",\n",
        "    \"quantity_x\": \"sum\",\n",
        "    \"total_price\": \"sum\"\n",
        "})"
      ]
    },
    {
      "cell_type": "code",
      "execution_count": 80,
      "metadata": {
        "colab": {
          "base_uri": "https://localhost:8080/",
          "height": 1000
        },
        "id": "iJLYk7sI-NwI",
        "outputId": "55c3d846-d59f-4b9d-964c-a9b5c61c08b1"
      },
      "outputs": [
        {
          "data": {
            "text/html": [
              "<div>\n",
              "<style scoped>\n",
              "    .dataframe tbody tr th:only-of-type {\n",
              "        vertical-align: middle;\n",
              "    }\n",
              "\n",
              "    .dataframe tbody tr th {\n",
              "        vertical-align: top;\n",
              "    }\n",
              "\n",
              "    .dataframe thead th {\n",
              "        text-align: right;\n",
              "    }\n",
              "</style>\n",
              "<table border=\"1\" class=\"dataframe\">\n",
              "  <thead>\n",
              "    <tr style=\"text-align: right;\">\n",
              "      <th></th>\n",
              "      <th>sales_id</th>\n",
              "      <th>quantity_x</th>\n",
              "      <th>total_price</th>\n",
              "    </tr>\n",
              "    <tr>\n",
              "      <th>product_name</th>\n",
              "      <th></th>\n",
              "      <th></th>\n",
              "      <th></th>\n",
              "    </tr>\n",
              "  </thead>\n",
              "  <tbody>\n",
              "    <tr>\n",
              "      <th>Denim</th>\n",
              "      <td>273</td>\n",
              "      <td>527</td>\n",
              "      <td>52399</td>\n",
              "    </tr>\n",
              "    <tr>\n",
              "      <th>Casual Slim Fit</th>\n",
              "      <td>154</td>\n",
              "      <td>306</td>\n",
              "      <td>36414</td>\n",
              "    </tr>\n",
              "    <tr>\n",
              "      <th>Trench Coat</th>\n",
              "      <td>146</td>\n",
              "      <td>299</td>\n",
              "      <td>35581</td>\n",
              "    </tr>\n",
              "    <tr>\n",
              "      <th>Shearling</th>\n",
              "      <td>150</td>\n",
              "      <td>302</td>\n",
              "      <td>35334</td>\n",
              "    </tr>\n",
              "    <tr>\n",
              "      <th>Puffer</th>\n",
              "      <td>140</td>\n",
              "      <td>298</td>\n",
              "      <td>35164</td>\n",
              "    </tr>\n",
              "    <tr>\n",
              "      <th>Flannel</th>\n",
              "      <td>141</td>\n",
              "      <td>281</td>\n",
              "      <td>33158</td>\n",
              "    </tr>\n",
              "    <tr>\n",
              "      <th>Cropped</th>\n",
              "      <td>135</td>\n",
              "      <td>284</td>\n",
              "      <td>32660</td>\n",
              "    </tr>\n",
              "    <tr>\n",
              "      <th>Pleated</th>\n",
              "      <td>147</td>\n",
              "      <td>308</td>\n",
              "      <td>32340</td>\n",
              "    </tr>\n",
              "    <tr>\n",
              "      <th>Joggers</th>\n",
              "      <td>164</td>\n",
              "      <td>334</td>\n",
              "      <td>31062</td>\n",
              "    </tr>\n",
              "    <tr>\n",
              "      <th>Chambray</th>\n",
              "      <td>141</td>\n",
              "      <td>290</td>\n",
              "      <td>30740</td>\n",
              "    </tr>\n",
              "    <tr>\n",
              "      <th>Parka</th>\n",
              "      <td>134</td>\n",
              "      <td>269</td>\n",
              "      <td>30397</td>\n",
              "    </tr>\n",
              "    <tr>\n",
              "      <th>Bomber</th>\n",
              "      <td>150</td>\n",
              "      <td>297</td>\n",
              "      <td>29700</td>\n",
              "    </tr>\n",
              "    <tr>\n",
              "      <th>Chinos</th>\n",
              "      <td>135</td>\n",
              "      <td>260</td>\n",
              "      <td>29380</td>\n",
              "    </tr>\n",
              "    <tr>\n",
              "      <th>Windbreaker</th>\n",
              "      <td>143</td>\n",
              "      <td>287</td>\n",
              "      <td>29274</td>\n",
              "    </tr>\n",
              "    <tr>\n",
              "      <th>Cardigan</th>\n",
              "      <td>134</td>\n",
              "      <td>260</td>\n",
              "      <td>29120</td>\n",
              "    </tr>\n",
              "    <tr>\n",
              "      <th>Peacoat</th>\n",
              "      <td>132</td>\n",
              "      <td>266</td>\n",
              "      <td>28994</td>\n",
              "    </tr>\n",
              "    <tr>\n",
              "      <th>Tracksuit Bottoms</th>\n",
              "      <td>130</td>\n",
              "      <td>257</td>\n",
              "      <td>28784</td>\n",
              "    </tr>\n",
              "    <tr>\n",
              "      <th>Slim-Fit</th>\n",
              "      <td>154</td>\n",
              "      <td>288</td>\n",
              "      <td>27936</td>\n",
              "    </tr>\n",
              "    <tr>\n",
              "      <th>Oxford Cloth</th>\n",
              "      <td>146</td>\n",
              "      <td>289</td>\n",
              "      <td>27744</td>\n",
              "    </tr>\n",
              "    <tr>\n",
              "      <th>Drawstring</th>\n",
              "      <td>147</td>\n",
              "      <td>288</td>\n",
              "      <td>27648</td>\n",
              "    </tr>\n",
              "    <tr>\n",
              "      <th>High-Waisted</th>\n",
              "      <td>140</td>\n",
              "      <td>278</td>\n",
              "      <td>27522</td>\n",
              "    </tr>\n",
              "    <tr>\n",
              "      <th>Camp Collared</th>\n",
              "      <td>139</td>\n",
              "      <td>279</td>\n",
              "      <td>27342</td>\n",
              "    </tr>\n",
              "    <tr>\n",
              "      <th>Cargo Pants</th>\n",
              "      <td>134</td>\n",
              "      <td>267</td>\n",
              "      <td>27234</td>\n",
              "    </tr>\n",
              "    <tr>\n",
              "      <th>Relaxed Leg</th>\n",
              "      <td>146</td>\n",
              "      <td>301</td>\n",
              "      <td>27090</td>\n",
              "    </tr>\n",
              "    <tr>\n",
              "      <th>Cuban Collar</th>\n",
              "      <td>122</td>\n",
              "      <td>254</td>\n",
              "      <td>26670</td>\n",
              "    </tr>\n",
              "    <tr>\n",
              "      <th>Henley</th>\n",
              "      <td>146</td>\n",
              "      <td>281</td>\n",
              "      <td>26414</td>\n",
              "    </tr>\n",
              "    <tr>\n",
              "      <th>Wool</th>\n",
              "      <td>125</td>\n",
              "      <td>249</td>\n",
              "      <td>26394</td>\n",
              "    </tr>\n",
              "    <tr>\n",
              "      <th>Leather</th>\n",
              "      <td>136</td>\n",
              "      <td>263</td>\n",
              "      <td>25774</td>\n",
              "    </tr>\n",
              "    <tr>\n",
              "      <th>Mandarin Collar</th>\n",
              "      <td>124</td>\n",
              "      <td>236</td>\n",
              "      <td>25724</td>\n",
              "    </tr>\n",
              "    <tr>\n",
              "      <th>Dress</th>\n",
              "      <td>127</td>\n",
              "      <td>243</td>\n",
              "      <td>25272</td>\n",
              "    </tr>\n",
              "    <tr>\n",
              "      <th>Pullover</th>\n",
              "      <td>143</td>\n",
              "      <td>276</td>\n",
              "      <td>25116</td>\n",
              "    </tr>\n",
              "    <tr>\n",
              "      <th>Polo</th>\n",
              "      <td>131</td>\n",
              "      <td>264</td>\n",
              "      <td>25080</td>\n",
              "    </tr>\n",
              "    <tr>\n",
              "      <th>Coach</th>\n",
              "      <td>134</td>\n",
              "      <td>265</td>\n",
              "      <td>24645</td>\n",
              "    </tr>\n",
              "    <tr>\n",
              "      <th>Linen</th>\n",
              "      <td>131</td>\n",
              "      <td>270</td>\n",
              "      <td>24570</td>\n",
              "    </tr>\n",
              "    <tr>\n",
              "      <th>Cords</th>\n",
              "      <td>126</td>\n",
              "      <td>246</td>\n",
              "      <td>23124</td>\n",
              "    </tr>\n",
              "  </tbody>\n",
              "</table>\n",
              "</div>"
            ],
            "text/plain": [
              "                   sales_id  quantity_x  total_price\n",
              "product_name                                        \n",
              "Denim                   273         527        52399\n",
              "Casual Slim Fit         154         306        36414\n",
              "Trench Coat             146         299        35581\n",
              "Shearling               150         302        35334\n",
              "Puffer                  140         298        35164\n",
              "Flannel                 141         281        33158\n",
              "Cropped                 135         284        32660\n",
              "Pleated                 147         308        32340\n",
              "Joggers                 164         334        31062\n",
              "Chambray                141         290        30740\n",
              "Parka                   134         269        30397\n",
              "Bomber                  150         297        29700\n",
              "Chinos                  135         260        29380\n",
              "Windbreaker             143         287        29274\n",
              "Cardigan                134         260        29120\n",
              "Peacoat                 132         266        28994\n",
              "Tracksuit Bottoms       130         257        28784\n",
              "Slim-Fit                154         288        27936\n",
              "Oxford Cloth            146         289        27744\n",
              "Drawstring              147         288        27648\n",
              "High-Waisted            140         278        27522\n",
              "Camp Collared           139         279        27342\n",
              "Cargo Pants             134         267        27234\n",
              "Relaxed Leg             146         301        27090\n",
              "Cuban Collar            122         254        26670\n",
              "Henley                  146         281        26414\n",
              "Wool                    125         249        26394\n",
              "Leather                 136         263        25774\n",
              "Mandarin Collar         124         236        25724\n",
              "Dress                   127         243        25272\n",
              "Pullover                143         276        25116\n",
              "Polo                    131         264        25080\n",
              "Coach                   134         265        24645\n",
              "Linen                   131         270        24570\n",
              "Cords                   126         246        23124"
            ]
          },
          "execution_count": 80,
          "metadata": {},
          "output_type": "execute_result"
        }
      ],
      "source": [
        "sales_product_df.groupby(by=\"product_name\").agg({\n",
        "    \"sales_id\": \"nunique\",\n",
        "    \"quantity_x\": \"sum\",\n",
        "    \"total_price\": \"sum\"\n",
        "}).sort_values(by=\"total_price\", ascending=False)"
      ]
    },
    {
      "cell_type": "markdown",
      "metadata": {
        "id": "_IFD72hlApNe"
      },
      "source": [
        "### Eksplorasi Data `all_df`\n"
      ]
    },
    {
      "cell_type": "markdown",
      "metadata": {
        "id": "-Ej7HxZHLIO6"
      },
      "source": [
        "#### Menghubungkan semua data"
      ]
    },
    {
      "cell_type": "code",
      "execution_count": 81,
      "metadata": {
        "colab": {
          "base_uri": "https://localhost:8080/",
          "height": 473
        },
        "id": "kYFNHKXl-T0W",
        "outputId": "8b69838f-463d-47cc-8206-500e119cc8a7"
      },
      "outputs": [
        {
          "data": {
            "text/html": [
              "<div>\n",
              "<style scoped>\n",
              "    .dataframe tbody tr th:only-of-type {\n",
              "        vertical-align: middle;\n",
              "    }\n",
              "\n",
              "    .dataframe tbody tr th {\n",
              "        vertical-align: top;\n",
              "    }\n",
              "\n",
              "    .dataframe thead th {\n",
              "        text-align: right;\n",
              "    }\n",
              "</style>\n",
              "<table border=\"1\" class=\"dataframe\">\n",
              "  <thead>\n",
              "    <tr style=\"text-align: right;\">\n",
              "      <th></th>\n",
              "      <th>sales_id</th>\n",
              "      <th>order_id</th>\n",
              "      <th>product_id</th>\n",
              "      <th>price_per_unit</th>\n",
              "      <th>quantity_x</th>\n",
              "      <th>total_price</th>\n",
              "      <th>product_type</th>\n",
              "      <th>product_name</th>\n",
              "      <th>size</th>\n",
              "      <th>colour</th>\n",
              "      <th>...</th>\n",
              "      <th>customer_name</th>\n",
              "      <th>gender</th>\n",
              "      <th>age</th>\n",
              "      <th>home_address</th>\n",
              "      <th>zip_code</th>\n",
              "      <th>city</th>\n",
              "      <th>state</th>\n",
              "      <th>country</th>\n",
              "      <th>status</th>\n",
              "      <th>age_group</th>\n",
              "    </tr>\n",
              "  </thead>\n",
              "  <tbody>\n",
              "    <tr>\n",
              "      <th>0</th>\n",
              "      <td>0</td>\n",
              "      <td>1</td>\n",
              "      <td>218</td>\n",
              "      <td>106</td>\n",
              "      <td>2</td>\n",
              "      <td>212</td>\n",
              "      <td>Shirt</td>\n",
              "      <td>Chambray</td>\n",
              "      <td>L</td>\n",
              "      <td>orange</td>\n",
              "      <td>...</td>\n",
              "      <td>fulan 64</td>\n",
              "      <td>Prefer not to say</td>\n",
              "      <td>75</td>\n",
              "      <td>4927 Alice MeadowApt. 960</td>\n",
              "      <td>7787</td>\n",
              "      <td>Sanfordborough</td>\n",
              "      <td>South Australia</td>\n",
              "      <td>Australia</td>\n",
              "      <td>Active</td>\n",
              "      <td>Seniors</td>\n",
              "    </tr>\n",
              "    <tr>\n",
              "      <th>1</th>\n",
              "      <td>1</td>\n",
              "      <td>1</td>\n",
              "      <td>481</td>\n",
              "      <td>118</td>\n",
              "      <td>1</td>\n",
              "      <td>118</td>\n",
              "      <td>Jacket</td>\n",
              "      <td>Puffer</td>\n",
              "      <td>S</td>\n",
              "      <td>indigo</td>\n",
              "      <td>...</td>\n",
              "      <td>fulan 64</td>\n",
              "      <td>Prefer not to say</td>\n",
              "      <td>75</td>\n",
              "      <td>4927 Alice MeadowApt. 960</td>\n",
              "      <td>7787</td>\n",
              "      <td>Sanfordborough</td>\n",
              "      <td>South Australia</td>\n",
              "      <td>Australia</td>\n",
              "      <td>Active</td>\n",
              "      <td>Seniors</td>\n",
              "    </tr>\n",
              "    <tr>\n",
              "      <th>2</th>\n",
              "      <td>2</td>\n",
              "      <td>1</td>\n",
              "      <td>2</td>\n",
              "      <td>96</td>\n",
              "      <td>3</td>\n",
              "      <td>288</td>\n",
              "      <td>Shirt</td>\n",
              "      <td>Oxford Cloth</td>\n",
              "      <td>M</td>\n",
              "      <td>red</td>\n",
              "      <td>...</td>\n",
              "      <td>fulan 64</td>\n",
              "      <td>Prefer not to say</td>\n",
              "      <td>75</td>\n",
              "      <td>4927 Alice MeadowApt. 960</td>\n",
              "      <td>7787</td>\n",
              "      <td>Sanfordborough</td>\n",
              "      <td>South Australia</td>\n",
              "      <td>Australia</td>\n",
              "      <td>Active</td>\n",
              "      <td>Seniors</td>\n",
              "    </tr>\n",
              "    <tr>\n",
              "      <th>3</th>\n",
              "      <td>3</td>\n",
              "      <td>1</td>\n",
              "      <td>1002</td>\n",
              "      <td>106</td>\n",
              "      <td>2</td>\n",
              "      <td>212</td>\n",
              "      <td>Trousers</td>\n",
              "      <td>Wool</td>\n",
              "      <td>M</td>\n",
              "      <td>blue</td>\n",
              "      <td>...</td>\n",
              "      <td>fulan 64</td>\n",
              "      <td>Prefer not to say</td>\n",
              "      <td>75</td>\n",
              "      <td>4927 Alice MeadowApt. 960</td>\n",
              "      <td>7787</td>\n",
              "      <td>Sanfordborough</td>\n",
              "      <td>South Australia</td>\n",
              "      <td>Australia</td>\n",
              "      <td>Active</td>\n",
              "      <td>Seniors</td>\n",
              "    </tr>\n",
              "    <tr>\n",
              "      <th>4</th>\n",
              "      <td>4</td>\n",
              "      <td>1</td>\n",
              "      <td>691</td>\n",
              "      <td>113</td>\n",
              "      <td>3</td>\n",
              "      <td>339</td>\n",
              "      <td>Jacket</td>\n",
              "      <td>Parka</td>\n",
              "      <td>S</td>\n",
              "      <td>indigo</td>\n",
              "      <td>...</td>\n",
              "      <td>fulan 64</td>\n",
              "      <td>Prefer not to say</td>\n",
              "      <td>75</td>\n",
              "      <td>4927 Alice MeadowApt. 960</td>\n",
              "      <td>7787</td>\n",
              "      <td>Sanfordborough</td>\n",
              "      <td>South Australia</td>\n",
              "      <td>Australia</td>\n",
              "      <td>Active</td>\n",
              "      <td>Seniors</td>\n",
              "    </tr>\n",
              "  </tbody>\n",
              "</table>\n",
              "<p>5 rows × 28 columns</p>\n",
              "</div>"
            ],
            "text/plain": [
              "   sales_id  order_id  product_id  price_per_unit  quantity_x  total_price  \\\n",
              "0         0         1         218             106           2          212   \n",
              "1         1         1         481             118           1          118   \n",
              "2         2         1           2              96           3          288   \n",
              "3         3         1        1002             106           2          212   \n",
              "4         4         1         691             113           3          339   \n",
              "\n",
              "  product_type  product_name size  colour  ...  customer_name  \\\n",
              "0        Shirt      Chambray    L  orange  ...       fulan 64   \n",
              "1       Jacket        Puffer    S  indigo  ...       fulan 64   \n",
              "2        Shirt  Oxford Cloth    M     red  ...       fulan 64   \n",
              "3     Trousers          Wool    M    blue  ...       fulan 64   \n",
              "4       Jacket         Parka    S  indigo  ...       fulan 64   \n",
              "\n",
              "              gender age               home_address  zip_code            city  \\\n",
              "0  Prefer not to say  75  4927 Alice MeadowApt. 960      7787  Sanfordborough   \n",
              "1  Prefer not to say  75  4927 Alice MeadowApt. 960      7787  Sanfordborough   \n",
              "2  Prefer not to say  75  4927 Alice MeadowApt. 960      7787  Sanfordborough   \n",
              "3  Prefer not to say  75  4927 Alice MeadowApt. 960      7787  Sanfordborough   \n",
              "4  Prefer not to say  75  4927 Alice MeadowApt. 960      7787  Sanfordborough   \n",
              "\n",
              "             state    country  status age_group  \n",
              "0  South Australia  Australia  Active   Seniors  \n",
              "1  South Australia  Australia  Active   Seniors  \n",
              "2  South Australia  Australia  Active   Seniors  \n",
              "3  South Australia  Australia  Active   Seniors  \n",
              "4  South Australia  Australia  Active   Seniors  \n",
              "\n",
              "[5 rows x 28 columns]"
            ]
          },
          "execution_count": 81,
          "metadata": {},
          "output_type": "execute_result"
        }
      ],
      "source": [
        "all_df = pd.merge(\n",
        "    left=sales_product_df,\n",
        "    right=orders_customers_df,\n",
        "    how=\"left\",\n",
        "    left_on=\"order_id\",\n",
        "    right_on=\"order_id\"\n",
        ")\n",
        "all_df.head()"
      ]
    },
    {
      "cell_type": "code",
      "execution_count": 82,
      "metadata": {
        "colab": {
          "base_uri": "https://localhost:8080/",
          "height": 455
        },
        "id": "rr2y9H6BhjMR",
        "outputId": "158e1f11-4d68-4e1a-a2b0-cc47d4f279ec"
      },
      "outputs": [
        {
          "data": {
            "text/html": [
              "<div>\n",
              "<style scoped>\n",
              "    .dataframe tbody tr th:only-of-type {\n",
              "        vertical-align: middle;\n",
              "    }\n",
              "\n",
              "    .dataframe tbody tr th {\n",
              "        vertical-align: top;\n",
              "    }\n",
              "\n",
              "    .dataframe thead th {\n",
              "        text-align: right;\n",
              "    }\n",
              "</style>\n",
              "<table border=\"1\" class=\"dataframe\">\n",
              "  <thead>\n",
              "    <tr style=\"text-align: right;\">\n",
              "      <th></th>\n",
              "      <th></th>\n",
              "      <th>quantity_x</th>\n",
              "      <th>total_price</th>\n",
              "    </tr>\n",
              "    <tr>\n",
              "      <th>city</th>\n",
              "      <th>product_type</th>\n",
              "      <th></th>\n",
              "      <th></th>\n",
              "    </tr>\n",
              "  </thead>\n",
              "  <tbody>\n",
              "    <tr>\n",
              "      <th rowspan=\"3\" valign=\"top\">Abbeyshire</th>\n",
              "      <th>Jacket</th>\n",
              "      <td>7</td>\n",
              "      <td>683</td>\n",
              "    </tr>\n",
              "    <tr>\n",
              "      <th>Shirt</th>\n",
              "      <td>7</td>\n",
              "      <td>739</td>\n",
              "    </tr>\n",
              "    <tr>\n",
              "      <th>Trousers</th>\n",
              "      <td>12</td>\n",
              "      <td>1209</td>\n",
              "    </tr>\n",
              "    <tr>\n",
              "      <th rowspan=\"2\" valign=\"top\">Abbottburgh</th>\n",
              "      <th>Jacket</th>\n",
              "      <td>3</td>\n",
              "      <td>279</td>\n",
              "    </tr>\n",
              "    <tr>\n",
              "      <th>Shirt</th>\n",
              "      <td>9</td>\n",
              "      <td>937</td>\n",
              "    </tr>\n",
              "    <tr>\n",
              "      <th>...</th>\n",
              "      <th>...</th>\n",
              "      <td>...</td>\n",
              "      <td>...</td>\n",
              "    </tr>\n",
              "    <tr>\n",
              "      <th>Zacharybury</th>\n",
              "      <th>Trousers</th>\n",
              "      <td>17</td>\n",
              "      <td>1829</td>\n",
              "    </tr>\n",
              "    <tr>\n",
              "      <th rowspan=\"2\" valign=\"top\">Zacshire</th>\n",
              "      <th>Jacket</th>\n",
              "      <td>2</td>\n",
              "      <td>224</td>\n",
              "    </tr>\n",
              "    <tr>\n",
              "      <th>Shirt</th>\n",
              "      <td>2</td>\n",
              "      <td>184</td>\n",
              "    </tr>\n",
              "    <tr>\n",
              "      <th rowspan=\"2\" valign=\"top\">Zacville</th>\n",
              "      <th>Jacket</th>\n",
              "      <td>6</td>\n",
              "      <td>645</td>\n",
              "    </tr>\n",
              "    <tr>\n",
              "      <th>Shirt</th>\n",
              "      <td>4</td>\n",
              "      <td>394</td>\n",
              "    </tr>\n",
              "  </tbody>\n",
              "</table>\n",
              "<p>1602 rows × 2 columns</p>\n",
              "</div>"
            ],
            "text/plain": [
              "                          quantity_x  total_price\n",
              "city        product_type                         \n",
              "Abbeyshire  Jacket                 7          683\n",
              "            Shirt                  7          739\n",
              "            Trousers              12         1209\n",
              "Abbottburgh Jacket                 3          279\n",
              "            Shirt                  9          937\n",
              "...                              ...          ...\n",
              "Zacharybury Trousers              17         1829\n",
              "Zacshire    Jacket                 2          224\n",
              "            Shirt                  2          184\n",
              "Zacville    Jacket                 6          645\n",
              "            Shirt                  4          394\n",
              "\n",
              "[1602 rows x 2 columns]"
            ]
          },
          "execution_count": 82,
          "metadata": {},
          "output_type": "execute_result"
        }
      ],
      "source": [
        "all_df.groupby(by=[\"city\", \"product_type\"]).agg({\n",
        "    \"quantity_x\": \"sum\",\n",
        "    \"total_price\": \"sum\"\n",
        "})"
      ]
    },
    {
      "cell_type": "code",
      "execution_count": 83,
      "metadata": {
        "colab": {
          "base_uri": "https://localhost:8080/",
          "height": 833
        },
        "id": "RpiNjOLZljNk",
        "outputId": "82739158-cca2-44ab-8a63-7a6f108e80f2"
      },
      "outputs": [
        {
          "data": {
            "text/html": [
              "<div>\n",
              "<style scoped>\n",
              "    .dataframe tbody tr th:only-of-type {\n",
              "        vertical-align: middle;\n",
              "    }\n",
              "\n",
              "    .dataframe tbody tr th {\n",
              "        vertical-align: top;\n",
              "    }\n",
              "\n",
              "    .dataframe thead th {\n",
              "        text-align: right;\n",
              "    }\n",
              "</style>\n",
              "<table border=\"1\" class=\"dataframe\">\n",
              "  <thead>\n",
              "    <tr style=\"text-align: right;\">\n",
              "      <th></th>\n",
              "      <th></th>\n",
              "      <th>quantity_x</th>\n",
              "      <th>total_price</th>\n",
              "    </tr>\n",
              "    <tr>\n",
              "      <th>state</th>\n",
              "      <th>product_type</th>\n",
              "      <th></th>\n",
              "      <th></th>\n",
              "    </tr>\n",
              "  </thead>\n",
              "  <tbody>\n",
              "    <tr>\n",
              "      <th rowspan=\"3\" valign=\"top\">Australian Capital Territory</th>\n",
              "      <th>Jacket</th>\n",
              "      <td>406</td>\n",
              "      <td>43204</td>\n",
              "    </tr>\n",
              "    <tr>\n",
              "      <th>Shirt</th>\n",
              "      <td>396</td>\n",
              "      <td>40448</td>\n",
              "    </tr>\n",
              "    <tr>\n",
              "      <th>Trousers</th>\n",
              "      <td>454</td>\n",
              "      <td>46790</td>\n",
              "    </tr>\n",
              "    <tr>\n",
              "      <th rowspan=\"3\" valign=\"top\">New South Wales</th>\n",
              "      <th>Jacket</th>\n",
              "      <td>451</td>\n",
              "      <td>47998</td>\n",
              "    </tr>\n",
              "    <tr>\n",
              "      <th>Shirt</th>\n",
              "      <td>431</td>\n",
              "      <td>43980</td>\n",
              "    </tr>\n",
              "    <tr>\n",
              "      <th>Trousers</th>\n",
              "      <td>392</td>\n",
              "      <td>39766</td>\n",
              "    </tr>\n",
              "    <tr>\n",
              "      <th rowspan=\"3\" valign=\"top\">Northern Territory</th>\n",
              "      <th>Jacket</th>\n",
              "      <td>365</td>\n",
              "      <td>38991</td>\n",
              "    </tr>\n",
              "    <tr>\n",
              "      <th>Shirt</th>\n",
              "      <td>336</td>\n",
              "      <td>33865</td>\n",
              "    </tr>\n",
              "    <tr>\n",
              "      <th>Trousers</th>\n",
              "      <td>384</td>\n",
              "      <td>38998</td>\n",
              "    </tr>\n",
              "    <tr>\n",
              "      <th rowspan=\"3\" valign=\"top\">Queensland</th>\n",
              "      <th>Jacket</th>\n",
              "      <td>499</td>\n",
              "      <td>53511</td>\n",
              "    </tr>\n",
              "    <tr>\n",
              "      <th>Shirt</th>\n",
              "      <td>417</td>\n",
              "      <td>42506</td>\n",
              "    </tr>\n",
              "    <tr>\n",
              "      <th>Trousers</th>\n",
              "      <td>453</td>\n",
              "      <td>46045</td>\n",
              "    </tr>\n",
              "    <tr>\n",
              "      <th rowspan=\"3\" valign=\"top\">South Australia</th>\n",
              "      <th>Jacket</th>\n",
              "      <td>461</td>\n",
              "      <td>49090</td>\n",
              "    </tr>\n",
              "    <tr>\n",
              "      <th>Shirt</th>\n",
              "      <td>509</td>\n",
              "      <td>52685</td>\n",
              "    </tr>\n",
              "    <tr>\n",
              "      <th>Trousers</th>\n",
              "      <td>455</td>\n",
              "      <td>46041</td>\n",
              "    </tr>\n",
              "    <tr>\n",
              "      <th rowspan=\"3\" valign=\"top\">Tasmania</th>\n",
              "      <th>Jacket</th>\n",
              "      <td>412</td>\n",
              "      <td>44370</td>\n",
              "    </tr>\n",
              "    <tr>\n",
              "      <th>Shirt</th>\n",
              "      <td>387</td>\n",
              "      <td>39668</td>\n",
              "    </tr>\n",
              "    <tr>\n",
              "      <th>Trousers</th>\n",
              "      <td>379</td>\n",
              "      <td>38057</td>\n",
              "    </tr>\n",
              "    <tr>\n",
              "      <th rowspan=\"3\" valign=\"top\">Victoria</th>\n",
              "      <th>Jacket</th>\n",
              "      <td>359</td>\n",
              "      <td>38203</td>\n",
              "    </tr>\n",
              "    <tr>\n",
              "      <th>Shirt</th>\n",
              "      <td>390</td>\n",
              "      <td>40206</td>\n",
              "    </tr>\n",
              "    <tr>\n",
              "      <th>Trousers</th>\n",
              "      <td>414</td>\n",
              "      <td>41948</td>\n",
              "    </tr>\n",
              "    <tr>\n",
              "      <th rowspan=\"3\" valign=\"top\">Western Australia</th>\n",
              "      <th>Jacket</th>\n",
              "      <td>390</td>\n",
              "      <td>41659</td>\n",
              "    </tr>\n",
              "    <tr>\n",
              "      <th>Shirt</th>\n",
              "      <td>393</td>\n",
              "      <td>40242</td>\n",
              "    </tr>\n",
              "    <tr>\n",
              "      <th>Trousers</th>\n",
              "      <td>429</td>\n",
              "      <td>43529</td>\n",
              "    </tr>\n",
              "  </tbody>\n",
              "</table>\n",
              "</div>"
            ],
            "text/plain": [
              "                                           quantity_x  total_price\n",
              "state                        product_type                         \n",
              "Australian Capital Territory Jacket               406        43204\n",
              "                             Shirt                396        40448\n",
              "                             Trousers             454        46790\n",
              "New South Wales              Jacket               451        47998\n",
              "                             Shirt                431        43980\n",
              "                             Trousers             392        39766\n",
              "Northern Territory           Jacket               365        38991\n",
              "                             Shirt                336        33865\n",
              "                             Trousers             384        38998\n",
              "Queensland                   Jacket               499        53511\n",
              "                             Shirt                417        42506\n",
              "                             Trousers             453        46045\n",
              "South Australia              Jacket               461        49090\n",
              "                             Shirt                509        52685\n",
              "                             Trousers             455        46041\n",
              "Tasmania                     Jacket               412        44370\n",
              "                             Shirt                387        39668\n",
              "                             Trousers             379        38057\n",
              "Victoria                     Jacket               359        38203\n",
              "                             Shirt                390        40206\n",
              "                             Trousers             414        41948\n",
              "Western Australia            Jacket               390        41659\n",
              "                             Shirt                393        40242\n",
              "                             Trousers             429        43529"
            ]
          },
          "execution_count": 83,
          "metadata": {},
          "output_type": "execute_result"
        }
      ],
      "source": [
        "all_df.groupby(by=[\"state\", \"product_type\"]).agg({\n",
        "    \"quantity_x\": \"sum\",\n",
        "    \"total_price\": \"sum\"\n",
        "})"
      ]
    },
    {
      "cell_type": "code",
      "execution_count": 84,
      "metadata": {
        "colab": {
          "base_uri": "https://localhost:8080/",
          "height": 363
        },
        "id": "jE0V5Y7vtLaN",
        "outputId": "cf1b0e9e-87d2-48e0-d4c9-f25671bb866d"
      },
      "outputs": [
        {
          "data": {
            "text/html": [
              "<div>\n",
              "<style scoped>\n",
              "    .dataframe tbody tr th:only-of-type {\n",
              "        vertical-align: middle;\n",
              "    }\n",
              "\n",
              "    .dataframe tbody tr th {\n",
              "        vertical-align: top;\n",
              "    }\n",
              "\n",
              "    .dataframe thead th {\n",
              "        text-align: right;\n",
              "    }\n",
              "</style>\n",
              "<table border=\"1\" class=\"dataframe\">\n",
              "  <thead>\n",
              "    <tr style=\"text-align: right;\">\n",
              "      <th></th>\n",
              "      <th></th>\n",
              "      <th>quantity_x</th>\n",
              "      <th>total_price</th>\n",
              "    </tr>\n",
              "    <tr>\n",
              "      <th>gender</th>\n",
              "      <th>product_type</th>\n",
              "      <th></th>\n",
              "      <th></th>\n",
              "    </tr>\n",
              "  </thead>\n",
              "  <tbody>\n",
              "    <tr>\n",
              "      <th rowspan=\"3\" valign=\"top\">Female</th>\n",
              "      <th>Jacket</th>\n",
              "      <td>481</td>\n",
              "      <td>50963</td>\n",
              "    </tr>\n",
              "    <tr>\n",
              "      <th>Shirt</th>\n",
              "      <td>445</td>\n",
              "      <td>45146</td>\n",
              "    </tr>\n",
              "    <tr>\n",
              "      <th>Trousers</th>\n",
              "      <td>481</td>\n",
              "      <td>49295</td>\n",
              "    </tr>\n",
              "    <tr>\n",
              "      <th rowspan=\"3\" valign=\"top\">Male</th>\n",
              "      <th>Jacket</th>\n",
              "      <td>480</td>\n",
              "      <td>50978</td>\n",
              "    </tr>\n",
              "    <tr>\n",
              "      <th>Shirt</th>\n",
              "      <td>410</td>\n",
              "      <td>41939</td>\n",
              "    </tr>\n",
              "    <tr>\n",
              "      <th>Trousers</th>\n",
              "      <td>453</td>\n",
              "      <td>46071</td>\n",
              "    </tr>\n",
              "    <tr>\n",
              "      <th rowspan=\"3\" valign=\"top\">Prefer not to say</th>\n",
              "      <th>Jacket</th>\n",
              "      <td>2382</td>\n",
              "      <td>255085</td>\n",
              "    </tr>\n",
              "    <tr>\n",
              "      <th>Shirt</th>\n",
              "      <td>2404</td>\n",
              "      <td>246515</td>\n",
              "    </tr>\n",
              "    <tr>\n",
              "      <th>Trousers</th>\n",
              "      <td>2426</td>\n",
              "      <td>245808</td>\n",
              "    </tr>\n",
              "  </tbody>\n",
              "</table>\n",
              "</div>"
            ],
            "text/plain": [
              "                                quantity_x  total_price\n",
              "gender            product_type                         \n",
              "Female            Jacket               481        50963\n",
              "                  Shirt                445        45146\n",
              "                  Trousers             481        49295\n",
              "Male              Jacket               480        50978\n",
              "                  Shirt                410        41939\n",
              "                  Trousers             453        46071\n",
              "Prefer not to say Jacket              2382       255085\n",
              "                  Shirt               2404       246515\n",
              "                  Trousers            2426       245808"
            ]
          },
          "execution_count": 84,
          "metadata": {},
          "output_type": "execute_result"
        }
      ],
      "source": [
        "all_df.groupby(by=[\"gender\", \"product_type\"]).agg({\n",
        "    \"quantity_x\": \"sum\",\n",
        "    \"total_price\": \"sum\"\n",
        "})"
      ]
    },
    {
      "cell_type": "code",
      "execution_count": 85,
      "metadata": {
        "colab": {
          "base_uri": "https://localhost:8080/",
          "height": 363
        },
        "id": "MWAkT0bvtcVi",
        "outputId": "7e127b6c-bf09-4e28-eefc-2bb79f13beb9"
      },
      "outputs": [
        {
          "data": {
            "text/html": [
              "<div>\n",
              "<style scoped>\n",
              "    .dataframe tbody tr th:only-of-type {\n",
              "        vertical-align: middle;\n",
              "    }\n",
              "\n",
              "    .dataframe tbody tr th {\n",
              "        vertical-align: top;\n",
              "    }\n",
              "\n",
              "    .dataframe thead th {\n",
              "        text-align: right;\n",
              "    }\n",
              "</style>\n",
              "<table border=\"1\" class=\"dataframe\">\n",
              "  <thead>\n",
              "    <tr style=\"text-align: right;\">\n",
              "      <th></th>\n",
              "      <th></th>\n",
              "      <th>quantity_x</th>\n",
              "      <th>total_price</th>\n",
              "    </tr>\n",
              "    <tr>\n",
              "      <th>age_group</th>\n",
              "      <th>product_type</th>\n",
              "      <th></th>\n",
              "      <th></th>\n",
              "    </tr>\n",
              "  </thead>\n",
              "  <tbody>\n",
              "    <tr>\n",
              "      <th rowspan=\"3\" valign=\"top\">Adults</th>\n",
              "      <th>Jacket</th>\n",
              "      <td>2292</td>\n",
              "      <td>245055</td>\n",
              "    </tr>\n",
              "    <tr>\n",
              "      <th>Shirt</th>\n",
              "      <td>2225</td>\n",
              "      <td>227781</td>\n",
              "    </tr>\n",
              "    <tr>\n",
              "      <th>Trousers</th>\n",
              "      <td>2272</td>\n",
              "      <td>231271</td>\n",
              "    </tr>\n",
              "    <tr>\n",
              "      <th rowspan=\"3\" valign=\"top\">Seniors</th>\n",
              "      <th>Jacket</th>\n",
              "      <td>777</td>\n",
              "      <td>82959</td>\n",
              "    </tr>\n",
              "    <tr>\n",
              "      <th>Shirt</th>\n",
              "      <td>733</td>\n",
              "      <td>74977</td>\n",
              "    </tr>\n",
              "    <tr>\n",
              "      <th>Trousers</th>\n",
              "      <td>766</td>\n",
              "      <td>77471</td>\n",
              "    </tr>\n",
              "    <tr>\n",
              "      <th rowspan=\"3\" valign=\"top\">Youth</th>\n",
              "      <th>Jacket</th>\n",
              "      <td>274</td>\n",
              "      <td>29012</td>\n",
              "    </tr>\n",
              "    <tr>\n",
              "      <th>Shirt</th>\n",
              "      <td>301</td>\n",
              "      <td>30842</td>\n",
              "    </tr>\n",
              "    <tr>\n",
              "      <th>Trousers</th>\n",
              "      <td>322</td>\n",
              "      <td>32432</td>\n",
              "    </tr>\n",
              "  </tbody>\n",
              "</table>\n",
              "</div>"
            ],
            "text/plain": [
              "                        quantity_x  total_price\n",
              "age_group product_type                         \n",
              "Adults    Jacket              2292       245055\n",
              "          Shirt               2225       227781\n",
              "          Trousers            2272       231271\n",
              "Seniors   Jacket               777        82959\n",
              "          Shirt                733        74977\n",
              "          Trousers             766        77471\n",
              "Youth     Jacket               274        29012\n",
              "          Shirt                301        30842\n",
              "          Trousers             322        32432"
            ]
          },
          "execution_count": 85,
          "metadata": {},
          "output_type": "execute_result"
        }
      ],
      "source": [
        "all_df.groupby(by=[\"age_group\", \"product_type\"]).agg({\n",
        "    \"quantity_x\": \"sum\",\n",
        "    \"total_price\": \"sum\"\n",
        "})"
      ]
    },
    {
      "cell_type": "code",
      "execution_count": 86,
      "metadata": {
        "colab": {
          "base_uri": "https://localhost:8080/",
          "height": 331
        },
        "id": "qCEel_StNQ9g",
        "outputId": "ac7044e3-3e75-4031-e96b-e5501427de18"
      },
      "outputs": [
        {
          "data": {
            "text/html": [
              "<div>\n",
              "<style scoped>\n",
              "    .dataframe tbody tr th:only-of-type {\n",
              "        vertical-align: middle;\n",
              "    }\n",
              "\n",
              "    .dataframe tbody tr th {\n",
              "        vertical-align: top;\n",
              "    }\n",
              "\n",
              "    .dataframe thead th {\n",
              "        text-align: right;\n",
              "    }\n",
              "</style>\n",
              "<table border=\"1\" class=\"dataframe\">\n",
              "  <thead>\n",
              "    <tr style=\"text-align: right;\">\n",
              "      <th></th>\n",
              "      <th>order_id</th>\n",
              "      <th>total_price</th>\n",
              "    </tr>\n",
              "    <tr>\n",
              "      <th>state</th>\n",
              "      <th></th>\n",
              "      <th></th>\n",
              "    </tr>\n",
              "  </thead>\n",
              "  <tbody>\n",
              "    <tr>\n",
              "      <th>South Australia</th>\n",
              "      <td>144</td>\n",
              "      <td>147816</td>\n",
              "    </tr>\n",
              "    <tr>\n",
              "      <th>Queensland</th>\n",
              "      <td>139</td>\n",
              "      <td>142062</td>\n",
              "    </tr>\n",
              "    <tr>\n",
              "      <th>New South Wales</th>\n",
              "      <td>129</td>\n",
              "      <td>131744</td>\n",
              "    </tr>\n",
              "    <tr>\n",
              "      <th>Australian Capital Territory</th>\n",
              "      <td>118</td>\n",
              "      <td>130442</td>\n",
              "    </tr>\n",
              "    <tr>\n",
              "      <th>Western Australia</th>\n",
              "      <td>130</td>\n",
              "      <td>125430</td>\n",
              "    </tr>\n",
              "    <tr>\n",
              "      <th>Tasmania</th>\n",
              "      <td>112</td>\n",
              "      <td>122095</td>\n",
              "    </tr>\n",
              "    <tr>\n",
              "      <th>Victoria</th>\n",
              "      <td>115</td>\n",
              "      <td>120357</td>\n",
              "    </tr>\n",
              "    <tr>\n",
              "      <th>Northern Territory</th>\n",
              "      <td>106</td>\n",
              "      <td>111854</td>\n",
              "    </tr>\n",
              "  </tbody>\n",
              "</table>\n",
              "</div>"
            ],
            "text/plain": [
              "                              order_id  total_price\n",
              "state                                              \n",
              "South Australia                    144       147816\n",
              "Queensland                         139       142062\n",
              "New South Wales                    129       131744\n",
              "Australian Capital Territory       118       130442\n",
              "Western Australia                  130       125430\n",
              "Tasmania                           112       122095\n",
              "Victoria                           115       120357\n",
              "Northern Territory                 106       111854"
            ]
          },
          "execution_count": 86,
          "metadata": {},
          "output_type": "execute_result"
        }
      ],
      "source": [
        "all_df.groupby(by=\"state\").agg({\n",
        "    \"order_id\": \"nunique\",\n",
        "    \"total_price\": \"sum\"\n",
        "}).sort_values(by=\"total_price\", ascending=False)"
      ]
    },
    {
      "cell_type": "code",
      "execution_count": 87,
      "metadata": {
        "id": "CrdYB09friL5"
      },
      "outputs": [],
      "source": [
        "all_df.to_csv(\"all_data.csv\", index=False)"
      ]
    },
    {
      "cell_type": "markdown",
      "metadata": {
        "id": "7TUii8-mboHJ"
      },
      "source": [
        "# Data Visualization"
      ]
    },
    {
      "cell_type": "markdown",
      "metadata": {},
      "source": [
        "## Latihan Membuat Visualisasi Data"
      ]
    },
    {
      "cell_type": "markdown",
      "metadata": {},
      "source": [
        "1. Bagaimana performa penjualan dan revenue perusahaan dalam beberapa bulan terakhir?\n",
        "1. Produk apa yang paling banyak dan paling sedikit terjual?\n",
        "1. Bagaimana demografi pelanggan yang kita miliki?\n",
        "1. Kapan terakhir pelanggan melakukan transaksi?\n",
        "1. Seberapa sering seorang pelanggan melakukan pembelian dalam beberapa bulan terakhir?\n",
        "1. Berapa banyak uang yang dihabiskan pelanggan dalam beberapa bulan terakhir?"
      ]
    },
    {
      "cell_type": "markdown",
      "metadata": {},
      "source": [
        "### Membuat Visualisasi Data yang Menjawab Pertanyaan Bisnis"
      ]
    },
    {
      "cell_type": "markdown",
      "metadata": {
        "id": "3ggXSgAuZ_K8"
      },
      "source": [
        "#### Bagaimana performa penjualan dan revenue perusahaan dalam beberapa bulan terakhir?"
      ]
    },
    {
      "cell_type": "code",
      "execution_count": 88,
      "metadata": {
        "colab": {
          "base_uri": "https://localhost:8080/",
          "height": 455
        },
        "id": "479ZlSP5bjg4",
        "outputId": "0bc9e1bf-1dab-44ed-908b-3a4193b27e2b"
      },
      "outputs": [
        {
          "data": {
            "text/html": [
              "<div>\n",
              "<style scoped>\n",
              "    .dataframe tbody tr th:only-of-type {\n",
              "        vertical-align: middle;\n",
              "    }\n",
              "\n",
              "    .dataframe tbody tr th {\n",
              "        vertical-align: top;\n",
              "    }\n",
              "\n",
              "    .dataframe thead th {\n",
              "        text-align: right;\n",
              "    }\n",
              "</style>\n",
              "<table border=\"1\" class=\"dataframe\">\n",
              "  <thead>\n",
              "    <tr style=\"text-align: right;\">\n",
              "      <th></th>\n",
              "      <th>sales_id</th>\n",
              "      <th>order_id</th>\n",
              "      <th>product_id</th>\n",
              "      <th>price_per_unit</th>\n",
              "      <th>quantity_x</th>\n",
              "      <th>total_price</th>\n",
              "      <th>product_type</th>\n",
              "      <th>product_name</th>\n",
              "      <th>size</th>\n",
              "      <th>colour</th>\n",
              "      <th>...</th>\n",
              "      <th>customer_name</th>\n",
              "      <th>gender</th>\n",
              "      <th>age</th>\n",
              "      <th>home_address</th>\n",
              "      <th>zip_code</th>\n",
              "      <th>city</th>\n",
              "      <th>state</th>\n",
              "      <th>country</th>\n",
              "      <th>status</th>\n",
              "      <th>age_group</th>\n",
              "    </tr>\n",
              "  </thead>\n",
              "  <tbody>\n",
              "    <tr>\n",
              "      <th>1490</th>\n",
              "      <td>1490</td>\n",
              "      <td>304</td>\n",
              "      <td>104</td>\n",
              "      <td>118</td>\n",
              "      <td>3</td>\n",
              "      <td>354</td>\n",
              "      <td>Shirt</td>\n",
              "      <td>Flannel</td>\n",
              "      <td>XL</td>\n",
              "      <td>violet</td>\n",
              "      <td>...</td>\n",
              "      <td>fulan 537</td>\n",
              "      <td>Prefer not to say</td>\n",
              "      <td>45</td>\n",
              "      <td>155 Hayes AvenueApt. 699</td>\n",
              "      <td>7342</td>\n",
              "      <td>Krisland</td>\n",
              "      <td>Western Australia</td>\n",
              "      <td>Australia</td>\n",
              "      <td>Active</td>\n",
              "      <td>Adults</td>\n",
              "    </tr>\n",
              "    <tr>\n",
              "      <th>1757</th>\n",
              "      <td>1757</td>\n",
              "      <td>356</td>\n",
              "      <td>554</td>\n",
              "      <td>98</td>\n",
              "      <td>3</td>\n",
              "      <td>294</td>\n",
              "      <td>Jacket</td>\n",
              "      <td>Leather</td>\n",
              "      <td>XL</td>\n",
              "      <td>indigo</td>\n",
              "      <td>...</td>\n",
              "      <td>fulan 236</td>\n",
              "      <td>Prefer not to say</td>\n",
              "      <td>80</td>\n",
              "      <td>64 Phillips RunApt. 722</td>\n",
              "      <td>2752</td>\n",
              "      <td>East Sienna</td>\n",
              "      <td>New South Wales</td>\n",
              "      <td>Australia</td>\n",
              "      <td>Active</td>\n",
              "      <td>Seniors</td>\n",
              "    </tr>\n",
              "    <tr>\n",
              "      <th>1848</th>\n",
              "      <td>1848</td>\n",
              "      <td>373</td>\n",
              "      <td>86</td>\n",
              "      <td>118</td>\n",
              "      <td>1</td>\n",
              "      <td>118</td>\n",
              "      <td>Shirt</td>\n",
              "      <td>Flannel</td>\n",
              "      <td>S</td>\n",
              "      <td>green</td>\n",
              "      <td>...</td>\n",
              "      <td>fulan 581</td>\n",
              "      <td>Prefer not to say</td>\n",
              "      <td>40</td>\n",
              "      <td>11 Nader ParadeApt. 016</td>\n",
              "      <td>9022</td>\n",
              "      <td>Hackettland</td>\n",
              "      <td>South Australia</td>\n",
              "      <td>Australia</td>\n",
              "      <td>Active</td>\n",
              "      <td>Adults</td>\n",
              "    </tr>\n",
              "    <tr>\n",
              "      <th>1032</th>\n",
              "      <td>1032</td>\n",
              "      <td>212</td>\n",
              "      <td>517</td>\n",
              "      <td>102</td>\n",
              "      <td>2</td>\n",
              "      <td>204</td>\n",
              "      <td>Jacket</td>\n",
              "      <td>Windbreaker</td>\n",
              "      <td>M</td>\n",
              "      <td>indigo</td>\n",
              "      <td>...</td>\n",
              "      <td>fulan 62</td>\n",
              "      <td>Prefer not to say</td>\n",
              "      <td>32</td>\n",
              "      <td>049 Imogen StreetSuite 299</td>\n",
              "      <td>2404</td>\n",
              "      <td>New Beaumouth</td>\n",
              "      <td>Australian Capital Territory</td>\n",
              "      <td>Australia</td>\n",
              "      <td>Active</td>\n",
              "      <td>Adults</td>\n",
              "    </tr>\n",
              "    <tr>\n",
              "      <th>1517</th>\n",
              "      <td>1517</td>\n",
              "      <td>312</td>\n",
              "      <td>31</td>\n",
              "      <td>96</td>\n",
              "      <td>2</td>\n",
              "      <td>192</td>\n",
              "      <td>Shirt</td>\n",
              "      <td>Oxford Cloth</td>\n",
              "      <td>S</td>\n",
              "      <td>violet</td>\n",
              "      <td>...</td>\n",
              "      <td>fulan 683</td>\n",
              "      <td>Prefer not to say</td>\n",
              "      <td>45</td>\n",
              "      <td>098 Clarke ParkwayApt. 312</td>\n",
              "      <td>3661</td>\n",
              "      <td>West Finnberg</td>\n",
              "      <td>Australian Capital Territory</td>\n",
              "      <td>Australia</td>\n",
              "      <td>Active</td>\n",
              "      <td>Adults</td>\n",
              "    </tr>\n",
              "  </tbody>\n",
              "</table>\n",
              "<p>5 rows × 28 columns</p>\n",
              "</div>"
            ],
            "text/plain": [
              "      sales_id  order_id  product_id  price_per_unit  quantity_x  total_price  \\\n",
              "1490      1490       304         104             118           3          354   \n",
              "1757      1757       356         554              98           3          294   \n",
              "1848      1848       373          86             118           1          118   \n",
              "1032      1032       212         517             102           2          204   \n",
              "1517      1517       312          31              96           2          192   \n",
              "\n",
              "     product_type  product_name size  colour  ...  customer_name  \\\n",
              "1490        Shirt       Flannel   XL  violet  ...      fulan 537   \n",
              "1757       Jacket       Leather   XL  indigo  ...      fulan 236   \n",
              "1848        Shirt       Flannel    S   green  ...      fulan 581   \n",
              "1032       Jacket   Windbreaker    M  indigo  ...       fulan 62   \n",
              "1517        Shirt  Oxford Cloth    S  violet  ...      fulan 683   \n",
              "\n",
              "                 gender age                home_address  zip_code  \\\n",
              "1490  Prefer not to say  45    155 Hayes AvenueApt. 699      7342   \n",
              "1757  Prefer not to say  80     64 Phillips RunApt. 722      2752   \n",
              "1848  Prefer not to say  40     11 Nader ParadeApt. 016      9022   \n",
              "1032  Prefer not to say  32  049 Imogen StreetSuite 299      2404   \n",
              "1517  Prefer not to say  45  098 Clarke ParkwayApt. 312      3661   \n",
              "\n",
              "               city                         state    country  status age_group  \n",
              "1490       Krisland             Western Australia  Australia  Active    Adults  \n",
              "1757    East Sienna               New South Wales  Australia  Active   Seniors  \n",
              "1848    Hackettland               South Australia  Australia  Active    Adults  \n",
              "1032  New Beaumouth  Australian Capital Territory  Australia  Active    Adults  \n",
              "1517  West Finnberg  Australian Capital Territory  Australia  Active    Adults  \n",
              "\n",
              "[5 rows x 28 columns]"
            ]
          },
          "execution_count": 88,
          "metadata": {},
          "output_type": "execute_result"
        }
      ],
      "source": [
        "all_df.sample(5)"
      ]
    },
    {
      "cell_type": "code",
      "execution_count": 89,
      "metadata": {
        "colab": {
          "base_uri": "https://localhost:8080/",
          "height": 206
        },
        "id": "OS7luvbreWwF",
        "outputId": "aec93839-415e-4223-f699-d9ad32717db7"
      },
      "outputs": [
        {
          "data": {
            "text/html": [
              "<div>\n",
              "<style scoped>\n",
              "    .dataframe tbody tr th:only-of-type {\n",
              "        vertical-align: middle;\n",
              "    }\n",
              "\n",
              "    .dataframe tbody tr th {\n",
              "        vertical-align: top;\n",
              "    }\n",
              "\n",
              "    .dataframe thead th {\n",
              "        text-align: right;\n",
              "    }\n",
              "</style>\n",
              "<table border=\"1\" class=\"dataframe\">\n",
              "  <thead>\n",
              "    <tr style=\"text-align: right;\">\n",
              "      <th></th>\n",
              "      <th>order_id</th>\n",
              "      <th>customer_id</th>\n",
              "      <th>payment</th>\n",
              "      <th>order_date</th>\n",
              "      <th>delivery_date</th>\n",
              "      <th>delivery_time</th>\n",
              "    </tr>\n",
              "  </thead>\n",
              "  <tbody>\n",
              "    <tr>\n",
              "      <th>0</th>\n",
              "      <td>1</td>\n",
              "      <td>64</td>\n",
              "      <td>30811</td>\n",
              "      <td>2021-08-30</td>\n",
              "      <td>2021-09-24</td>\n",
              "      <td>25.0</td>\n",
              "    </tr>\n",
              "    <tr>\n",
              "      <th>1</th>\n",
              "      <td>2</td>\n",
              "      <td>473</td>\n",
              "      <td>50490</td>\n",
              "      <td>2021-02-03</td>\n",
              "      <td>2021-02-13</td>\n",
              "      <td>10.0</td>\n",
              "    </tr>\n",
              "    <tr>\n",
              "      <th>2</th>\n",
              "      <td>3</td>\n",
              "      <td>774</td>\n",
              "      <td>46763</td>\n",
              "      <td>2021-10-08</td>\n",
              "      <td>2021-11-03</td>\n",
              "      <td>26.0</td>\n",
              "    </tr>\n",
              "    <tr>\n",
              "      <th>3</th>\n",
              "      <td>4</td>\n",
              "      <td>433</td>\n",
              "      <td>39782</td>\n",
              "      <td>2021-05-06</td>\n",
              "      <td>2021-05-19</td>\n",
              "      <td>13.0</td>\n",
              "    </tr>\n",
              "    <tr>\n",
              "      <th>4</th>\n",
              "      <td>5</td>\n",
              "      <td>441</td>\n",
              "      <td>14719</td>\n",
              "      <td>2021-03-23</td>\n",
              "      <td>2021-03-24</td>\n",
              "      <td>1.0</td>\n",
              "    </tr>\n",
              "  </tbody>\n",
              "</table>\n",
              "</div>"
            ],
            "text/plain": [
              "   order_id  customer_id  payment order_date delivery_date  delivery_time\n",
              "0         1           64    30811 2021-08-30    2021-09-24           25.0\n",
              "1         2          473    50490 2021-02-03    2021-02-13           10.0\n",
              "2         3          774    46763 2021-10-08    2021-11-03           26.0\n",
              "3         4          433    39782 2021-05-06    2021-05-19           13.0\n",
              "4         5          441    14719 2021-03-23    2021-03-24            1.0"
            ]
          },
          "execution_count": 89,
          "metadata": {},
          "output_type": "execute_result"
        }
      ],
      "source": [
        "orders_df.head()"
      ]
    },
    {
      "cell_type": "code",
      "execution_count": 90,
      "metadata": {
        "colab": {
          "base_uri": "https://localhost:8080/",
          "height": 206
        },
        "id": "XZYOkldceRSr",
        "outputId": "949ba77a-bcea-4512-cfd4-f71a3df6c141"
      },
      "outputs": [
        {
          "data": {
            "text/html": [
              "<div>\n",
              "<style scoped>\n",
              "    .dataframe tbody tr th:only-of-type {\n",
              "        vertical-align: middle;\n",
              "    }\n",
              "\n",
              "    .dataframe tbody tr th {\n",
              "        vertical-align: top;\n",
              "    }\n",
              "\n",
              "    .dataframe thead th {\n",
              "        text-align: right;\n",
              "    }\n",
              "</style>\n",
              "<table border=\"1\" class=\"dataframe\">\n",
              "  <thead>\n",
              "    <tr style=\"text-align: right;\">\n",
              "      <th></th>\n",
              "      <th>order_date</th>\n",
              "      <th>order_count</th>\n",
              "      <th>revenue</th>\n",
              "    </tr>\n",
              "  </thead>\n",
              "  <tbody>\n",
              "    <tr>\n",
              "      <th>0</th>\n",
              "      <td>January</td>\n",
              "      <td>109</td>\n",
              "      <td>119333</td>\n",
              "    </tr>\n",
              "    <tr>\n",
              "      <th>1</th>\n",
              "      <td>February</td>\n",
              "      <td>93</td>\n",
              "      <td>95080</td>\n",
              "    </tr>\n",
              "    <tr>\n",
              "      <th>2</th>\n",
              "      <td>March</td>\n",
              "      <td>117</td>\n",
              "      <td>131364</td>\n",
              "    </tr>\n",
              "    <tr>\n",
              "      <th>3</th>\n",
              "      <td>April</td>\n",
              "      <td>99</td>\n",
              "      <td>97530</td>\n",
              "    </tr>\n",
              "    <tr>\n",
              "      <th>4</th>\n",
              "      <td>May</td>\n",
              "      <td>84</td>\n",
              "      <td>85597</td>\n",
              "    </tr>\n",
              "  </tbody>\n",
              "</table>\n",
              "</div>"
            ],
            "text/plain": [
              "  order_date  order_count  revenue\n",
              "0    January          109   119333\n",
              "1   February           93    95080\n",
              "2      March          117   131364\n",
              "3      April           99    97530\n",
              "4        May           84    85597"
            ]
          },
          "execution_count": 90,
          "metadata": {},
          "output_type": "execute_result"
        }
      ],
      "source": [
        "monthly_orders_df = all_df.resample(rule='M', on='order_date').agg({\n",
        "    \"order_id\": \"nunique\",\n",
        "    \"total_price\": \"sum\"\n",
        "})\n",
        "monthly_orders_df.index = monthly_orders_df.index.strftime('%B') #mengubah format order date menjadi Tahun-Bulan\n",
        "monthly_orders_df = monthly_orders_df.reset_index()\n",
        "monthly_orders_df.rename(columns={\n",
        "    \"order_id\": \"order_count\",\n",
        "    \"total_price\": \"revenue\"\n",
        "}, inplace=True)\n",
        "monthly_orders_df.head()"
      ]
    },
    {
      "cell_type": "code",
      "execution_count": 91,
      "metadata": {
        "colab": {
          "base_uri": "https://localhost:8080/",
          "height": 341
        },
        "id": "pJ-3lq8Lfsrk",
        "outputId": "5d99822b-ac12-4e50-d45a-4b1cb5bd19e6"
      },
      "outputs": [
        {
          "data": {
            "image/png": "[encoded data removed]",
            "text/plain": [
              "<Figure size 1000x500 with 1 Axes>"
            ]
          },
          "metadata": {},
          "output_type": "display_data"
        }
      ],
      "source": [
        "plt.figure(figsize=(10, 5))\n",
        "plt.plot(\n",
        "    monthly_orders_df[\"order_date\"],\n",
        "    monthly_orders_df[\"order_count\"],\n",
        "    marker='o', \n",
        "    linewidth=2,\n",
        "    color=\"#72BCD4\"\n",
        ")\n",
        "plt.title(\"Number of Orders per Month (2021)\", loc=\"center\", fontsize=20)\n",
        "plt.xticks(fontsize=10)\n",
        "plt.yticks(fontsize=10)\n",
        "plt.show()"
      ]
    },
    {
      "cell_type": "code",
      "execution_count": 92,
      "metadata": {
        "colab": {
          "base_uri": "https://localhost:8080/",
          "height": 341
        },
        "id": "j-Se1Y7ff4pS",
        "outputId": "d17aea3e-b7ca-439c-8243-f485c80c5657"
      },
      "outputs": [
        {
          "data": {
            "image/png": "[encoded data removed]",
            "text/plain": [
              "<Figure size 1000x500 with 1 Axes>"
            ]
          },
          "metadata": {},
          "output_type": "display_data"
        }
      ],
      "source": [
        "plt.figure(figsize=(10, 5))\n",
        "plt.plot(\n",
        "    monthly_orders_df[\"order_date\"],\n",
        "    monthly_orders_df[\"revenue\"],\n",
        "    marker='o', \n",
        "    linewidth=2,\n",
        "    color=\"#72BCD4\"\n",
        ")\n",
        "plt.title(\"Total Revenue per Month in 2021 (AUD)\", loc=\"center\", fontsize=20)\n",
        "plt.xticks(fontsize=10)\n",
        "plt.yticks(fontsize=10)\n",
        "plt.show()"
      ]
    },
    {
      "cell_type": "markdown",
      "metadata": {
        "id": "Z14rP9iebMB4"
      },
      "source": [
        "#### Produk apa yang paling banyak dan paling sedikit terjual?"
      ]
    },
    {
      "cell_type": "code",
      "execution_count": 93,
      "metadata": {
        "colab": {
          "base_uri": "https://localhost:8080/",
          "height": 363
        },
        "id": "WkXJlY5_bRSJ",
        "outputId": "d3285297-4067-4100-e24b-9ec71797b669"
      },
      "outputs": [
        {
          "data": {
            "text/html": [
              "<div>\n",
              "<style scoped>\n",
              "    .dataframe tbody tr th:only-of-type {\n",
              "        vertical-align: middle;\n",
              "    }\n",
              "\n",
              "    .dataframe tbody tr th {\n",
              "        vertical-align: top;\n",
              "    }\n",
              "\n",
              "    .dataframe thead th {\n",
              "        text-align: right;\n",
              "    }\n",
              "</style>\n",
              "<table border=\"1\" class=\"dataframe\">\n",
              "  <thead>\n",
              "    <tr style=\"text-align: right;\">\n",
              "      <th></th>\n",
              "      <th>product_name</th>\n",
              "      <th>quantity_x</th>\n",
              "    </tr>\n",
              "  </thead>\n",
              "  <tbody>\n",
              "    <tr>\n",
              "      <th>0</th>\n",
              "      <td>Denim</td>\n",
              "      <td>527</td>\n",
              "    </tr>\n",
              "    <tr>\n",
              "      <th>1</th>\n",
              "      <td>Joggers</td>\n",
              "      <td>334</td>\n",
              "    </tr>\n",
              "    <tr>\n",
              "      <th>2</th>\n",
              "      <td>Pleated</td>\n",
              "      <td>308</td>\n",
              "    </tr>\n",
              "    <tr>\n",
              "      <th>3</th>\n",
              "      <td>Casual Slim Fit</td>\n",
              "      <td>306</td>\n",
              "    </tr>\n",
              "    <tr>\n",
              "      <th>4</th>\n",
              "      <td>Shearling</td>\n",
              "      <td>302</td>\n",
              "    </tr>\n",
              "    <tr>\n",
              "      <th>5</th>\n",
              "      <td>Relaxed Leg</td>\n",
              "      <td>301</td>\n",
              "    </tr>\n",
              "    <tr>\n",
              "      <th>6</th>\n",
              "      <td>Trench Coat</td>\n",
              "      <td>299</td>\n",
              "    </tr>\n",
              "    <tr>\n",
              "      <th>7</th>\n",
              "      <td>Puffer</td>\n",
              "      <td>298</td>\n",
              "    </tr>\n",
              "    <tr>\n",
              "      <th>8</th>\n",
              "      <td>Bomber</td>\n",
              "      <td>297</td>\n",
              "    </tr>\n",
              "    <tr>\n",
              "      <th>9</th>\n",
              "      <td>Chambray</td>\n",
              "      <td>290</td>\n",
              "    </tr>\n",
              "  </tbody>\n",
              "</table>\n",
              "</div>"
            ],
            "text/plain": [
              "      product_name  quantity_x\n",
              "0            Denim         527\n",
              "1          Joggers         334\n",
              "2          Pleated         308\n",
              "3  Casual Slim Fit         306\n",
              "4        Shearling         302\n",
              "5      Relaxed Leg         301\n",
              "6      Trench Coat         299\n",
              "7           Puffer         298\n",
              "8           Bomber         297\n",
              "9         Chambray         290"
            ]
          },
          "execution_count": 93,
          "metadata": {},
          "output_type": "execute_result"
        }
      ],
      "source": [
        "sum_order_items_df = all_df.groupby(\"product_name\").quantity_x.sum().sort_values(ascending=False).reset_index()\n",
        "sum_order_items_df.head(10)"
      ]
    },
    {
      "cell_type": "code",
      "execution_count": 94,
      "metadata": {
        "colab": {
          "base_uri": "https://localhost:8080/",
          "height": 227
        },
        "id": "GYO0lhXFIEeG",
        "outputId": "40f6d91c-2c98-4829-8daf-8d47b6fbe361"
      },
      "outputs": [
        {
          "data": {
            "image/png": "[encoded data removed]",
            "text/plain": [
              "<Figure size 2400x600 with 2 Axes>"
            ]
          },
          "metadata": {},
          "output_type": "display_data"
        }
      ],
      "source": [
        "fig, ax = plt.subplots(nrows=1, ncols=2, figsize=(24, 6))\n"
      ]
    },
    {
      "cell_type": "code",
      "execution_count": 95,
      "metadata": {
        "colab": {
          "base_uri": "https://localhost:8080/",
          "height": 219
        },
        "id": "OokV-GvSibnC",
        "outputId": "ea79c28d-2a47-4a1d-f3c8-f2385602c02e"
      },
      "outputs": [
        {
          "data": {
            "image/png": "[encoded data removed]",
            "text/plain": [
              "<Figure size 2400x600 with 2 Axes>"
            ]
          },
          "metadata": {},
          "output_type": "display_data"
        }
      ],
      "source": [
        "fig, ax = plt.subplots(nrows=1, ncols=2, figsize=(24, 6))\n",
        "\n",
        "colors = [\"#72BCD4\", \"#D3D3D3\", \"#D3D3D3\", \"#D3D3D3\", \"#D3D3D3\"]\n",
        "\n",
        "sns.barplot(x=\"quantity_x\", y=\"product_name\", data=sum_order_items_df.head(5), palette=colors, ax=ax[0])\n",
        "ax[0].set_ylabel(None)\n",
        "ax[0].set_xlabel(None)\n",
        "ax[0].set_title(\"Best Performing Product\", loc=\"center\", fontsize=18)\n",
        "ax[0].tick_params(axis ='y', labelsize=15)\n",
        "\n",
        "sns.barplot(x=\"quantity_x\", y=\"product_name\", data=sum_order_items_df.sort_values(by=\"quantity_x\", ascending=True).head(5), palette=colors, ax=ax[1])\n",
        "ax[1].set_ylabel(None)\n",
        "ax[1].set_xlabel(None)\n",
        "ax[1].invert_xaxis()\n",
        "ax[1].yaxis.set_label_position(\"right\")\n",
        "ax[1].yaxis.tick_right()\n",
        "ax[1].set_title(\"Worst Performing Product\", loc=\"center\", fontsize=18)\n",
        "ax[1].tick_params(axis='y', labelsize=15)\n",
        "\n",
        "plt.suptitle(\"Best and Worst Performing Product by Number of Sales\", fontsize=20)\n",
        "plt.show()"
      ]
    },
    {
      "cell_type": "markdown",
      "metadata": {
        "id": "D7_xuXu5bSJu"
      },
      "source": [
        "#### Bagaimana demografi pelanggan yang kita miliki?"
      ]
    },
    {
      "cell_type": "markdown",
      "metadata": {
        "id": "Hy5FymqomZiA"
      },
      "source": [
        "- Berdasarkan gender"
      ]
    },
    {
      "cell_type": "code",
      "execution_count": 96,
      "metadata": {
        "colab": {
          "base_uri": "https://localhost:8080/",
          "height": 143
        },
        "id": "lrM2BVyeia1m",
        "outputId": "d68e1db2-64be-4d62-d96d-7493c7a1d4cc"
      },
      "outputs": [
        {
          "data": {
            "text/html": [
              "<div>\n",
              "<style scoped>\n",
              "    .dataframe tbody tr th:only-of-type {\n",
              "        vertical-align: middle;\n",
              "    }\n",
              "\n",
              "    .dataframe tbody tr th {\n",
              "        vertical-align: top;\n",
              "    }\n",
              "\n",
              "    .dataframe thead th {\n",
              "        text-align: right;\n",
              "    }\n",
              "</style>\n",
              "<table border=\"1\" class=\"dataframe\">\n",
              "  <thead>\n",
              "    <tr style=\"text-align: right;\">\n",
              "      <th></th>\n",
              "      <th>gender</th>\n",
              "      <th>customer_count</th>\n",
              "    </tr>\n",
              "  </thead>\n",
              "  <tbody>\n",
              "    <tr>\n",
              "      <th>0</th>\n",
              "      <td>Female</td>\n",
              "      <td>73</td>\n",
              "    </tr>\n",
              "    <tr>\n",
              "      <th>1</th>\n",
              "      <td>Male</td>\n",
              "      <td>82</td>\n",
              "    </tr>\n",
              "    <tr>\n",
              "      <th>2</th>\n",
              "      <td>Prefer not to say</td>\n",
              "      <td>461</td>\n",
              "    </tr>\n",
              "  </tbody>\n",
              "</table>\n",
              "</div>"
            ],
            "text/plain": [
              "              gender  customer_count\n",
              "0             Female              73\n",
              "1               Male              82\n",
              "2  Prefer not to say             461"
            ]
          },
          "execution_count": 96,
          "metadata": {},
          "output_type": "execute_result"
        }
      ],
      "source": [
        "bygeder_df = all_df.groupby(by=\"gender\").customer_id.nunique().reset_index()\n",
        "bygeder_df.rename(columns={\n",
        "    \"customer_id\": \"customer_count\"\n",
        "}, inplace=True)\n",
        "bygeder_df"
      ]
    },
    {
      "cell_type": "code",
      "execution_count": 97,
      "metadata": {
        "colab": {
          "base_uri": "https://localhost:8080/",
          "height": 341
        },
        "id": "snFcPJPcbWR0",
        "outputId": "617fe893-bbeb-46cf-fde4-cf6768e5c13a"
      },
      "outputs": [
        {
          "data": {
            "image/png": "[encoded data removed]",
            "text/plain": [
              "<Figure size 1000x500 with 1 Axes>"
            ]
          },
          "metadata": {},
          "output_type": "display_data"
        }
      ],
      "source": [
        "plt.figure(figsize=(10, 5))\n",
        "\n",
        "sns.barplot(\n",
        "    y=\"customer_count\", \n",
        "    x=\"gender\",\n",
        "    data=bygeder_df.sort_values(by=\"customer_count\", ascending=False),\n",
        "    palette=colors\n",
        ")\n",
        "plt.title(\"Number of Customer by Gender\", loc=\"center\", fontsize=15)\n",
        "plt.ylabel(None)\n",
        "plt.xlabel(None)\n",
        "plt.tick_params(axis='x', labelsize=12)\n",
        "plt.show()"
      ]
    },
    {
      "cell_type": "markdown",
      "metadata": {
        "id": "nl1FwuTiuZot"
      },
      "source": [
        "- Berdasarkan age\n"
      ]
    },
    {
      "cell_type": "code",
      "execution_count": 98,
      "metadata": {
        "colab": {
          "base_uri": "https://localhost:8080/",
          "height": 143
        },
        "id": "btUz-b0TusvX",
        "outputId": "08b1eb06-9d77-40bf-85ed-fe9091ea1dd8"
      },
      "outputs": [
        {
          "data": {
            "text/html": [
              "<div>\n",
              "<style scoped>\n",
              "    .dataframe tbody tr th:only-of-type {\n",
              "        vertical-align: middle;\n",
              "    }\n",
              "\n",
              "    .dataframe tbody tr th {\n",
              "        vertical-align: top;\n",
              "    }\n",
              "\n",
              "    .dataframe thead th {\n",
              "        text-align: right;\n",
              "    }\n",
              "</style>\n",
              "<table border=\"1\" class=\"dataframe\">\n",
              "  <thead>\n",
              "    <tr style=\"text-align: right;\">\n",
              "      <th></th>\n",
              "      <th>age_group</th>\n",
              "      <th>customer_count</th>\n",
              "    </tr>\n",
              "  </thead>\n",
              "  <tbody>\n",
              "    <tr>\n",
              "      <th>0</th>\n",
              "      <td>Adults</td>\n",
              "      <td>416</td>\n",
              "    </tr>\n",
              "    <tr>\n",
              "      <th>1</th>\n",
              "      <td>Seniors</td>\n",
              "      <td>145</td>\n",
              "    </tr>\n",
              "    <tr>\n",
              "      <th>2</th>\n",
              "      <td>Youth</td>\n",
              "      <td>55</td>\n",
              "    </tr>\n",
              "  </tbody>\n",
              "</table>\n",
              "</div>"
            ],
            "text/plain": [
              "  age_group  customer_count\n",
              "0    Adults             416\n",
              "1   Seniors             145\n",
              "2     Youth              55"
            ]
          },
          "execution_count": 98,
          "metadata": {},
          "output_type": "execute_result"
        }
      ],
      "source": [
        "byage_df = all_df.groupby(by=\"age_group\").customer_id.nunique().reset_index()\n",
        "byage_df.rename(columns={\n",
        "    \"customer_id\": \"customer_count\"\n",
        "}, inplace=True)\n",
        "byage_df"
      ]
    },
    {
      "cell_type": "code",
      "execution_count": 99,
      "metadata": {
        "id": "CdaGviyCvpaX"
      },
      "outputs": [],
      "source": [
        "byage_df['age_group'] = pd.Categorical(byage_df['age_group'], [\"Youth\", \"Adults\", \"Seniors\"])"
      ]
    },
    {
      "cell_type": "code",
      "execution_count": 100,
      "metadata": {
        "colab": {
          "base_uri": "https://localhost:8080/",
          "height": 341
        },
        "id": "_kpxoNdju2Xw",
        "outputId": "770b4cc5-d871-4244-cf08-b5f1cb88109e"
      },
      "outputs": [
        {
          "data": {
            "image/png": "[encoded data removed]",
            "text/plain": [
              "<Figure size 1000x500 with 1 Axes>"
            ]
          },
          "metadata": {},
          "output_type": "display_data"
        }
      ],
      "source": [
        "plt.figure(figsize=(10, 5))\n",
        "colors_ = [\"#D3D3D3\", \"#72BCD4\", \"#D3D3D3\", \"#D3D3D3\", \"#D3D3D3\"]\n",
        "\n",
        "sns.barplot(\n",
        "    y=\"customer_count\", \n",
        "    x=\"age_group\",\n",
        "    data=byage_df.sort_values(by=\"age_group\", ascending=False),\n",
        "    palette=colors_\n",
        ")\n",
        "plt.title(\"Number of Customer by Age\", loc=\"center\", fontsize=15)\n",
        "plt.ylabel(None)\n",
        "plt.xlabel(None)\n",
        "plt.tick_params(axis='x', labelsize=12)\n",
        "plt.show()"
      ]
    },
    {
      "cell_type": "markdown",
      "metadata": {
        "id": "CgQyqBI7wPhQ"
      },
      "source": [
        "- Berdasarkan states\n"
      ]
    },
    {
      "cell_type": "code",
      "execution_count": 101,
      "metadata": {
        "colab": {
          "base_uri": "https://localhost:8080/",
          "height": 300
        },
        "id": "hQZNhzk0wOoh",
        "outputId": "1d4a0150-7b21-4da7-fc3b-11d45b636b58"
      },
      "outputs": [
        {
          "data": {
            "text/html": [
              "<div>\n",
              "<style scoped>\n",
              "    .dataframe tbody tr th:only-of-type {\n",
              "        vertical-align: middle;\n",
              "    }\n",
              "\n",
              "    .dataframe tbody tr th {\n",
              "        vertical-align: top;\n",
              "    }\n",
              "\n",
              "    .dataframe thead th {\n",
              "        text-align: right;\n",
              "    }\n",
              "</style>\n",
              "<table border=\"1\" class=\"dataframe\">\n",
              "  <thead>\n",
              "    <tr style=\"text-align: right;\">\n",
              "      <th></th>\n",
              "      <th>state</th>\n",
              "      <th>customer_count</th>\n",
              "    </tr>\n",
              "  </thead>\n",
              "  <tbody>\n",
              "    <tr>\n",
              "      <th>0</th>\n",
              "      <td>Australian Capital Territory</td>\n",
              "      <td>73</td>\n",
              "    </tr>\n",
              "    <tr>\n",
              "      <th>1</th>\n",
              "      <td>New South Wales</td>\n",
              "      <td>77</td>\n",
              "    </tr>\n",
              "    <tr>\n",
              "      <th>2</th>\n",
              "      <td>Northern Territory</td>\n",
              "      <td>75</td>\n",
              "    </tr>\n",
              "    <tr>\n",
              "      <th>3</th>\n",
              "      <td>Queensland</td>\n",
              "      <td>79</td>\n",
              "    </tr>\n",
              "    <tr>\n",
              "      <th>4</th>\n",
              "      <td>South Australia</td>\n",
              "      <td>90</td>\n",
              "    </tr>\n",
              "    <tr>\n",
              "      <th>5</th>\n",
              "      <td>Tasmania</td>\n",
              "      <td>67</td>\n",
              "    </tr>\n",
              "    <tr>\n",
              "      <th>6</th>\n",
              "      <td>Victoria</td>\n",
              "      <td>75</td>\n",
              "    </tr>\n",
              "    <tr>\n",
              "      <th>7</th>\n",
              "      <td>Western Australia</td>\n",
              "      <td>80</td>\n",
              "    </tr>\n",
              "  </tbody>\n",
              "</table>\n",
              "</div>"
            ],
            "text/plain": [
              "                          state  customer_count\n",
              "0  Australian Capital Territory              73\n",
              "1               New South Wales              77\n",
              "2            Northern Territory              75\n",
              "3                    Queensland              79\n",
              "4               South Australia              90\n",
              "5                      Tasmania              67\n",
              "6                      Victoria              75\n",
              "7             Western Australia              80"
            ]
          },
          "execution_count": 101,
          "metadata": {},
          "output_type": "execute_result"
        }
      ],
      "source": [
        "bystate_df = all_df.groupby(by=\"state\").customer_id.nunique().reset_index()\n",
        "bystate_df.rename(columns={\n",
        "    \"customer_id\": \"customer_count\"\n",
        "}, inplace=True)\n",
        "bystate_df"
      ]
    },
    {
      "cell_type": "code",
      "execution_count": 102,
      "metadata": {
        "colab": {
          "base_uri": "https://localhost:8080/",
          "height": 338
        },
        "id": "JAIyWlwJwh5H",
        "outputId": "ea33b648-1560-44e5-a2aa-3b9fdd21086f"
      },
      "outputs": [
        {
          "data": {
            "image/png": "[encoded data removed]",
            "text/plain": [
              "<Figure size 1000x500 with 1 Axes>"
            ]
          },
          "metadata": {},
          "output_type": "display_data"
        }
      ],
      "source": [
        "plt.figure(figsize=(10, 5))\n",
        "colors_ = [\"#72BCD4\", \"#D3D3D3\", \"#D3D3D3\", \"#D3D3D3\", \"#D3D3D3\", \"#D3D3D3\", \"#D3D3D3\", \"#D3D3D3\"]\n",
        "sns.barplot(\n",
        "    x=\"customer_count\", \n",
        "    y=\"state\",\n",
        "    data=bystate_df.sort_values(by=\"customer_count\", ascending=False),\n",
        "    palette=colors_\n",
        ")\n",
        "plt.title(\"Number of Customer by States\", loc=\"center\", fontsize=15)\n",
        "plt.ylabel(None)\n",
        "plt.xlabel(None)\n",
        "plt.tick_params(axis='y', labelsize=12)\n",
        "plt.show()"
      ]
    },
    {
      "cell_type": "markdown",
      "metadata": {
        "id": "jxfgV5QDnfQA"
      },
      "source": [
        "#### RFM Analysis"
      ]
    },
    {
      "cell_type": "markdown",
      "metadata": {},
      "source": [
        "- Recency: parameter yang digunakan untuk melihat kapan terakhir seorang pelanggan melakukan transaksi.\n",
        "- Frequency: parameter ini digunakan untuk mengidentifikasi seberapa sering seorang pelanggan melakukan transaksi.\n",
        "- Monetary: parameter terakhir ini digunakan untuk mengidentifikasi seberapa besar revenue yang berasal dari pelanggan tersebut."
      ]
    },
    {
      "cell_type": "code",
      "execution_count": 104,
      "metadata": {
        "colab": {
          "base_uri": "https://localhost:8080/",
          "height": 206
        },
        "id": "qxrg6SynzGxY",
        "outputId": "ac38e526-f8be-49c8-96a4-ddde68c81a02"
      },
      "outputs": [
        {
          "data": {
            "text/html": [
              "<div>\n",
              "<style scoped>\n",
              "    .dataframe tbody tr th:only-of-type {\n",
              "        vertical-align: middle;\n",
              "    }\n",
              "\n",
              "    .dataframe tbody tr th {\n",
              "        vertical-align: top;\n",
              "    }\n",
              "\n",
              "    .dataframe thead th {\n",
              "        text-align: right;\n",
              "    }\n",
              "</style>\n",
              "<table border=\"1\" class=\"dataframe\">\n",
              "  <thead>\n",
              "    <tr style=\"text-align: right;\">\n",
              "      <th></th>\n",
              "      <th>customer_id</th>\n",
              "      <th>max_order_timestamp</th>\n",
              "      <th>frequency</th>\n",
              "      <th>monetary</th>\n",
              "    </tr>\n",
              "  </thead>\n",
              "  <tbody>\n",
              "    <tr>\n",
              "      <th>0</th>\n",
              "      <td>1</td>\n",
              "      <td>2021-04-04</td>\n",
              "      <td>3</td>\n",
              "      <td>1641</td>\n",
              "    </tr>\n",
              "    <tr>\n",
              "      <th>1</th>\n",
              "      <td>7</td>\n",
              "      <td>2021-05-21</td>\n",
              "      <td>1</td>\n",
              "      <td>1017</td>\n",
              "    </tr>\n",
              "    <tr>\n",
              "      <th>2</th>\n",
              "      <td>10</td>\n",
              "      <td>2021-03-09</td>\n",
              "      <td>1</td>\n",
              "      <td>270</td>\n",
              "    </tr>\n",
              "    <tr>\n",
              "      <th>3</th>\n",
              "      <td>11</td>\n",
              "      <td>2021-05-28</td>\n",
              "      <td>1</td>\n",
              "      <td>382</td>\n",
              "    </tr>\n",
              "    <tr>\n",
              "      <th>4</th>\n",
              "      <td>12</td>\n",
              "      <td>2021-06-19</td>\n",
              "      <td>1</td>\n",
              "      <td>1551</td>\n",
              "    </tr>\n",
              "  </tbody>\n",
              "</table>\n",
              "</div>"
            ],
            "text/plain": [
              "   customer_id max_order_timestamp  frequency  monetary\n",
              "0            1          2021-04-04          3      1641\n",
              "1            7          2021-05-21          1      1017\n",
              "2           10          2021-03-09          1       270\n",
              "3           11          2021-05-28          1       382\n",
              "4           12          2021-06-19          1      1551"
            ]
          },
          "execution_count": 104,
          "metadata": {},
          "output_type": "execute_result"
        }
      ],
      "source": [
        "rfm_df = all_df.groupby(by=\"customer_id\", as_index=False).agg({\n",
        "    \"order_date\": \"max\", #mengambil tanggal order terakhir\n",
        "    \"order_id\": \"nunique\",\n",
        "    \"total_price\": \"sum\"\n",
        "})\n",
        "rfm_df.columns = [\"customer_id\", \"max_order_timestamp\", \"frequency\", \"monetary\"]\n",
        "rfm_df.head()"
      ]
    },
    {
      "cell_type": "code",
      "execution_count": 105,
      "metadata": {
        "colab": {
          "base_uri": "https://localhost:8080/",
          "height": 206
        },
        "id": "P6OAoMUrz0xk",
        "outputId": "33227b6a-ef11-4848-ae5d-66186c4ce144"
      },
      "outputs": [
        {
          "data": {
            "text/html": [
              "<div>\n",
              "<style scoped>\n",
              "    .dataframe tbody tr th:only-of-type {\n",
              "        vertical-align: middle;\n",
              "    }\n",
              "\n",
              "    .dataframe tbody tr th {\n",
              "        vertical-align: top;\n",
              "    }\n",
              "\n",
              "    .dataframe thead th {\n",
              "        text-align: right;\n",
              "    }\n",
              "</style>\n",
              "<table border=\"1\" class=\"dataframe\">\n",
              "  <thead>\n",
              "    <tr style=\"text-align: right;\">\n",
              "      <th></th>\n",
              "      <th>customer_id</th>\n",
              "      <th>max_order_timestamp</th>\n",
              "      <th>frequency</th>\n",
              "      <th>monetary</th>\n",
              "      <th>recency</th>\n",
              "    </tr>\n",
              "  </thead>\n",
              "  <tbody>\n",
              "    <tr>\n",
              "      <th>0</th>\n",
              "      <td>1</td>\n",
              "      <td>2021-04-04</td>\n",
              "      <td>3</td>\n",
              "      <td>1641</td>\n",
              "      <td>203</td>\n",
              "    </tr>\n",
              "    <tr>\n",
              "      <th>1</th>\n",
              "      <td>7</td>\n",
              "      <td>2021-05-21</td>\n",
              "      <td>1</td>\n",
              "      <td>1017</td>\n",
              "      <td>156</td>\n",
              "    </tr>\n",
              "    <tr>\n",
              "      <th>2</th>\n",
              "      <td>10</td>\n",
              "      <td>2021-03-09</td>\n",
              "      <td>1</td>\n",
              "      <td>270</td>\n",
              "      <td>229</td>\n",
              "    </tr>\n",
              "    <tr>\n",
              "      <th>3</th>\n",
              "      <td>11</td>\n",
              "      <td>2021-05-28</td>\n",
              "      <td>1</td>\n",
              "      <td>382</td>\n",
              "      <td>149</td>\n",
              "    </tr>\n",
              "    <tr>\n",
              "      <th>4</th>\n",
              "      <td>12</td>\n",
              "      <td>2021-06-19</td>\n",
              "      <td>1</td>\n",
              "      <td>1551</td>\n",
              "      <td>127</td>\n",
              "    </tr>\n",
              "  </tbody>\n",
              "</table>\n",
              "</div>"
            ],
            "text/plain": [
              "   customer_id max_order_timestamp  frequency  monetary  recency\n",
              "0            1          2021-04-04          3      1641      203\n",
              "1            7          2021-05-21          1      1017      156\n",
              "2           10          2021-03-09          1       270      229\n",
              "3           11          2021-05-28          1       382      149\n",
              "4           12          2021-06-19          1      1551      127"
            ]
          },
          "execution_count": 105,
          "metadata": {},
          "output_type": "execute_result"
        }
      ],
      "source": [
        "# menghitung kapan terakhir pelanggan melakukan transaksi (hari)\n",
        "rfm_df[\"max_order_timestamp\"] = rfm_df[\"max_order_timestamp\"].dt.date\n",
        "recent_date = orders_df[\"order_date\"].dt.date.max()\n",
        "rfm_df[\"recency\"] = rfm_df[\"max_order_timestamp\"].apply(lambda x: (recent_date - x).days)\n",
        "rfm_df.head()"
      ]
    },
    {
      "cell_type": "code",
      "execution_count": 106,
      "metadata": {
        "colab": {
          "base_uri": "https://localhost:8080/",
          "height": 206
        },
        "id": "bVSxxqpA0X_N",
        "outputId": "e3badda0-11fb-46bf-c9e7-840a2ef6e2b1"
      },
      "outputs": [
        {
          "data": {
            "text/html": [
              "<div>\n",
              "<style scoped>\n",
              "    .dataframe tbody tr th:only-of-type {\n",
              "        vertical-align: middle;\n",
              "    }\n",
              "\n",
              "    .dataframe tbody tr th {\n",
              "        vertical-align: top;\n",
              "    }\n",
              "\n",
              "    .dataframe thead th {\n",
              "        text-align: right;\n",
              "    }\n",
              "</style>\n",
              "<table border=\"1\" class=\"dataframe\">\n",
              "  <thead>\n",
              "    <tr style=\"text-align: right;\">\n",
              "      <th></th>\n",
              "      <th>customer_id</th>\n",
              "      <th>frequency</th>\n",
              "      <th>monetary</th>\n",
              "      <th>recency</th>\n",
              "    </tr>\n",
              "  </thead>\n",
              "  <tbody>\n",
              "    <tr>\n",
              "      <th>0</th>\n",
              "      <td>1</td>\n",
              "      <td>3</td>\n",
              "      <td>1641</td>\n",
              "      <td>203</td>\n",
              "    </tr>\n",
              "    <tr>\n",
              "      <th>1</th>\n",
              "      <td>7</td>\n",
              "      <td>1</td>\n",
              "      <td>1017</td>\n",
              "      <td>156</td>\n",
              "    </tr>\n",
              "    <tr>\n",
              "      <th>2</th>\n",
              "      <td>10</td>\n",
              "      <td>1</td>\n",
              "      <td>270</td>\n",
              "      <td>229</td>\n",
              "    </tr>\n",
              "    <tr>\n",
              "      <th>3</th>\n",
              "      <td>11</td>\n",
              "      <td>1</td>\n",
              "      <td>382</td>\n",
              "      <td>149</td>\n",
              "    </tr>\n",
              "    <tr>\n",
              "      <th>4</th>\n",
              "      <td>12</td>\n",
              "      <td>1</td>\n",
              "      <td>1551</td>\n",
              "      <td>127</td>\n",
              "    </tr>\n",
              "  </tbody>\n",
              "</table>\n",
              "</div>"
            ],
            "text/plain": [
              "   customer_id  frequency  monetary  recency\n",
              "0            1          3      1641      203\n",
              "1            7          1      1017      156\n",
              "2           10          1       270      229\n",
              "3           11          1       382      149\n",
              "4           12          1      1551      127"
            ]
          },
          "execution_count": 106,
          "metadata": {},
          "output_type": "execute_result"
        }
      ],
      "source": [
        "rfm_df.drop(\"max_order_timestamp\", axis=1, inplace=True)\n",
        "rfm_df.head()"
      ]
    },
    {
      "cell_type": "code",
      "execution_count": 107,
      "metadata": {
        "colab": {
          "base_uri": "https://localhost:8080/",
          "height": 300
        },
        "id": "d0g3uGcL0vUy",
        "outputId": "85dec3a7-bef6-4c4c-a4d8-3542f0a1f195"
      },
      "outputs": [
        {
          "data": {
            "text/html": [
              "<div>\n",
              "<style scoped>\n",
              "    .dataframe tbody tr th:only-of-type {\n",
              "        vertical-align: middle;\n",
              "    }\n",
              "\n",
              "    .dataframe tbody tr th {\n",
              "        vertical-align: top;\n",
              "    }\n",
              "\n",
              "    .dataframe thead th {\n",
              "        text-align: right;\n",
              "    }\n",
              "</style>\n",
              "<table border=\"1\" class=\"dataframe\">\n",
              "  <thead>\n",
              "    <tr style=\"text-align: right;\">\n",
              "      <th></th>\n",
              "      <th>customer_id</th>\n",
              "      <th>frequency</th>\n",
              "      <th>monetary</th>\n",
              "      <th>recency</th>\n",
              "    </tr>\n",
              "  </thead>\n",
              "  <tbody>\n",
              "    <tr>\n",
              "      <th>count</th>\n",
              "      <td>616.00000</td>\n",
              "      <td>616.000000</td>\n",
              "      <td>616.000000</td>\n",
              "      <td>616.000000</td>\n",
              "    </tr>\n",
              "    <tr>\n",
              "      <th>mean</th>\n",
              "      <td>501.75974</td>\n",
              "      <td>1.612013</td>\n",
              "      <td>1675.000000</td>\n",
              "      <td>122.469156</td>\n",
              "    </tr>\n",
              "    <tr>\n",
              "      <th>std</th>\n",
              "      <td>286.16075</td>\n",
              "      <td>0.853754</td>\n",
              "      <td>1069.724092</td>\n",
              "      <td>84.326017</td>\n",
              "    </tr>\n",
              "    <tr>\n",
              "      <th>min</th>\n",
              "      <td>1.00000</td>\n",
              "      <td>1.000000</td>\n",
              "      <td>100.000000</td>\n",
              "      <td>0.000000</td>\n",
              "    </tr>\n",
              "    <tr>\n",
              "      <th>25%</th>\n",
              "      <td>259.50000</td>\n",
              "      <td>1.000000</td>\n",
              "      <td>878.250000</td>\n",
              "      <td>50.750000</td>\n",
              "    </tr>\n",
              "    <tr>\n",
              "      <th>50%</th>\n",
              "      <td>496.50000</td>\n",
              "      <td>1.000000</td>\n",
              "      <td>1439.000000</td>\n",
              "      <td>110.500000</td>\n",
              "    </tr>\n",
              "    <tr>\n",
              "      <th>75%</th>\n",
              "      <td>751.00000</td>\n",
              "      <td>2.000000</td>\n",
              "      <td>2165.000000</td>\n",
              "      <td>191.000000</td>\n",
              "    </tr>\n",
              "    <tr>\n",
              "      <th>max</th>\n",
              "      <td>1000.00000</td>\n",
              "      <td>6.000000</td>\n",
              "      <td>7632.000000</td>\n",
              "      <td>296.000000</td>\n",
              "    </tr>\n",
              "  </tbody>\n",
              "</table>\n",
              "</div>"
            ],
            "text/plain": [
              "       customer_id   frequency     monetary     recency\n",
              "count    616.00000  616.000000   616.000000  616.000000\n",
              "mean     501.75974    1.612013  1675.000000  122.469156\n",
              "std      286.16075    0.853754  1069.724092   84.326017\n",
              "min        1.00000    1.000000   100.000000    0.000000\n",
              "25%      259.50000    1.000000   878.250000   50.750000\n",
              "50%      496.50000    1.000000  1439.000000  110.500000\n",
              "75%      751.00000    2.000000  2165.000000  191.000000\n",
              "max     1000.00000    6.000000  7632.000000  296.000000"
            ]
          },
          "execution_count": 107,
          "metadata": {},
          "output_type": "execute_result"
        }
      ],
      "source": [
        "rfm_df.describe()"
      ]
    },
    {
      "cell_type": "code",
      "execution_count": 108,
      "metadata": {
        "colab": {
          "base_uri": "https://localhost:8080/",
          "height": 206
        },
        "id": "B1vhz-_7p3aj",
        "outputId": "1f2cee80-4c4b-4e3b-ac61-e490c28fa70c"
      },
      "outputs": [
        {
          "data": {
            "text/html": [
              "<div>\n",
              "<style scoped>\n",
              "    .dataframe tbody tr th:only-of-type {\n",
              "        vertical-align: middle;\n",
              "    }\n",
              "\n",
              "    .dataframe tbody tr th {\n",
              "        vertical-align: top;\n",
              "    }\n",
              "\n",
              "    .dataframe thead th {\n",
              "        text-align: right;\n",
              "    }\n",
              "</style>\n",
              "<table border=\"1\" class=\"dataframe\">\n",
              "  <thead>\n",
              "    <tr style=\"text-align: right;\">\n",
              "      <th></th>\n",
              "      <th>customer_id</th>\n",
              "      <th>frequency</th>\n",
              "      <th>monetary</th>\n",
              "      <th>recency</th>\n",
              "    </tr>\n",
              "  </thead>\n",
              "  <tbody>\n",
              "    <tr>\n",
              "      <th>241</th>\n",
              "      <td>401</td>\n",
              "      <td>4</td>\n",
              "      <td>3093</td>\n",
              "      <td>0</td>\n",
              "    </tr>\n",
              "    <tr>\n",
              "      <th>426</th>\n",
              "      <td>690</td>\n",
              "      <td>3</td>\n",
              "      <td>3693</td>\n",
              "      <td>0</td>\n",
              "    </tr>\n",
              "    <tr>\n",
              "      <th>425</th>\n",
              "      <td>687</td>\n",
              "      <td>1</td>\n",
              "      <td>1122</td>\n",
              "      <td>0</td>\n",
              "    </tr>\n",
              "    <tr>\n",
              "      <th>250</th>\n",
              "      <td>415</td>\n",
              "      <td>2</td>\n",
              "      <td>2269</td>\n",
              "      <td>1</td>\n",
              "    </tr>\n",
              "    <tr>\n",
              "      <th>98</th>\n",
              "      <td>163</td>\n",
              "      <td>3</td>\n",
              "      <td>3494</td>\n",
              "      <td>1</td>\n",
              "    </tr>\n",
              "  </tbody>\n",
              "</table>\n",
              "</div>"
            ],
            "text/plain": [
              "     customer_id  frequency  monetary  recency\n",
              "241          401          4      3093        0\n",
              "426          690          3      3693        0\n",
              "425          687          1      1122        0\n",
              "250          415          2      2269        1\n",
              "98           163          3      3494        1"
            ]
          },
          "execution_count": 108,
          "metadata": {},
          "output_type": "execute_result"
        }
      ],
      "source": [
        "rfm_df.sort_values(by=\"recency\", ascending=True).head(5)"
      ]
    },
    {
      "cell_type": "code",
      "execution_count": 109,
      "metadata": {
        "colab": {
          "base_uri": "https://localhost:8080/",
          "height": 206
        },
        "id": "mv5P73ySp8un",
        "outputId": "fbe4f778-574a-46f1-a84e-5a71c6274ccc"
      },
      "outputs": [
        {
          "data": {
            "text/html": [
              "<div>\n",
              "<style scoped>\n",
              "    .dataframe tbody tr th:only-of-type {\n",
              "        vertical-align: middle;\n",
              "    }\n",
              "\n",
              "    .dataframe tbody tr th {\n",
              "        vertical-align: top;\n",
              "    }\n",
              "\n",
              "    .dataframe thead th {\n",
              "        text-align: right;\n",
              "    }\n",
              "</style>\n",
              "<table border=\"1\" class=\"dataframe\">\n",
              "  <thead>\n",
              "    <tr style=\"text-align: right;\">\n",
              "      <th></th>\n",
              "      <th>customer_id</th>\n",
              "      <th>frequency</th>\n",
              "      <th>monetary</th>\n",
              "      <th>recency</th>\n",
              "    </tr>\n",
              "  </thead>\n",
              "  <tbody>\n",
              "    <tr>\n",
              "      <th>350</th>\n",
              "      <td>571</td>\n",
              "      <td>6</td>\n",
              "      <td>6640</td>\n",
              "      <td>66</td>\n",
              "    </tr>\n",
              "    <tr>\n",
              "      <th>166</th>\n",
              "      <td>282</td>\n",
              "      <td>5</td>\n",
              "      <td>7632</td>\n",
              "      <td>63</td>\n",
              "    </tr>\n",
              "    <tr>\n",
              "      <th>346</th>\n",
              "      <td>566</td>\n",
              "      <td>5</td>\n",
              "      <td>5435</td>\n",
              "      <td>5</td>\n",
              "    </tr>\n",
              "    <tr>\n",
              "      <th>409</th>\n",
              "      <td>664</td>\n",
              "      <td>5</td>\n",
              "      <td>6341</td>\n",
              "      <td>20</td>\n",
              "    </tr>\n",
              "    <tr>\n",
              "      <th>212</th>\n",
              "      <td>348</td>\n",
              "      <td>5</td>\n",
              "      <td>5119</td>\n",
              "      <td>24</td>\n",
              "    </tr>\n",
              "  </tbody>\n",
              "</table>\n",
              "</div>"
            ],
            "text/plain": [
              "     customer_id  frequency  monetary  recency\n",
              "350          571          6      6640       66\n",
              "166          282          5      7632       63\n",
              "346          566          5      5435        5\n",
              "409          664          5      6341       20\n",
              "212          348          5      5119       24"
            ]
          },
          "execution_count": 109,
          "metadata": {},
          "output_type": "execute_result"
        }
      ],
      "source": [
        "rfm_df.sort_values(by=\"frequency\", ascending=False).head(5)"
      ]
    },
    {
      "cell_type": "code",
      "execution_count": 110,
      "metadata": {
        "colab": {
          "base_uri": "https://localhost:8080/",
          "height": 208
        },
        "id": "xCX2wAfGmJSS",
        "outputId": "ec82926c-62fb-430b-86a9-f1a115cdb1db"
      },
      "outputs": [
        {
          "data": {
            "image/png": "[encoded data removed]",
            "text/plain": [
              "<Figure size 3000x600 with 3 Axes>"
            ]
          },
          "metadata": {},
          "output_type": "display_data"
        }
      ],
      "source": [
        "fig, ax = plt.subplots(nrows=1, ncols=3, figsize=(30, 6))\n",
        "\n",
        "colors = [\"#72BCD4\", \"#72BCD4\", \"#72BCD4\", \"#72BCD4\", \"#72BCD4\"]\n",
        "\n",
        "sns.barplot(y=\"recency\", x=\"customer_id\", data=rfm_df.sort_values(by=\"recency\", ascending=True).head(5), palette=colors, ax=ax[0])\n",
        "ax[0].set_ylabel(None)\n",
        "ax[0].set_xlabel(None)\n",
        "ax[0].set_title(\"By Recency (days)\", loc=\"center\", fontsize=18)\n",
        "ax[0].tick_params(axis ='x', labelsize=15)\n",
        "\n",
        "sns.barplot(y=\"frequency\", x=\"customer_id\", data=rfm_df.sort_values(by=\"frequency\", ascending=False).head(5), palette=colors, ax=ax[1])\n",
        "ax[1].set_ylabel(None)\n",
        "ax[1].set_xlabel(None)\n",
        "ax[1].set_title(\"By Frequency\", loc=\"center\", fontsize=18)\n",
        "ax[1].tick_params(axis='x', labelsize=15)\n",
        "\n",
        "sns.barplot(y=\"monetary\", x=\"customer_id\", data=rfm_df.sort_values(by=\"monetary\", ascending=False).head(5), palette=colors, ax=ax[2])\n",
        "ax[2].set_ylabel(None)\n",
        "ax[2].set_xlabel(None)\n",
        "ax[2].set_title(\"By Monetary\", loc=\"center\", fontsize=18)\n",
        "ax[2].tick_params(axis='x', labelsize=15)\n",
        "\n",
        "plt.suptitle(\"Best Customer Based on RFM Parameters (customer_id)\", fontsize=20)\n",
        "plt.show()"
      ]
    },
    {
      "cell_type": "markdown",
      "metadata": {
        "id": "FsDPP_5xbYfI"
      },
      "source": [
        "#### Mengurutkan customer berdasarkan recency, frequency, & monetary score"
      ]
    },
    {
      "cell_type": "code",
      "execution_count": 111,
      "metadata": {
        "colab": {
          "base_uri": "https://localhost:8080/",
          "height": 206
        },
        "id": "RONdk9PgbcRt",
        "outputId": "4418e10c-a189-409a-e93d-641912a7d60c"
      },
      "outputs": [
        {
          "data": {
            "text/html": [
              "<div>\n",
              "<style scoped>\n",
              "    .dataframe tbody tr th:only-of-type {\n",
              "        vertical-align: middle;\n",
              "    }\n",
              "\n",
              "    .dataframe tbody tr th {\n",
              "        vertical-align: top;\n",
              "    }\n",
              "\n",
              "    .dataframe thead th {\n",
              "        text-align: right;\n",
              "    }\n",
              "</style>\n",
              "<table border=\"1\" class=\"dataframe\">\n",
              "  <thead>\n",
              "    <tr style=\"text-align: right;\">\n",
              "      <th></th>\n",
              "      <th>customer_id</th>\n",
              "      <th>frequency</th>\n",
              "      <th>monetary</th>\n",
              "      <th>recency</th>\n",
              "      <th>r_rank</th>\n",
              "      <th>f_rank</th>\n",
              "      <th>m_rank</th>\n",
              "    </tr>\n",
              "  </thead>\n",
              "  <tbody>\n",
              "    <tr>\n",
              "      <th>0</th>\n",
              "      <td>1</td>\n",
              "      <td>3</td>\n",
              "      <td>1641</td>\n",
              "      <td>203</td>\n",
              "      <td>133.0</td>\n",
              "      <td>560.0</td>\n",
              "      <td>351.0</td>\n",
              "    </tr>\n",
              "    <tr>\n",
              "      <th>1</th>\n",
              "      <td>7</td>\n",
              "      <td>1</td>\n",
              "      <td>1017</td>\n",
              "      <td>156</td>\n",
              "      <td>215.5</td>\n",
              "      <td>179.5</td>\n",
              "      <td>195.5</td>\n",
              "    </tr>\n",
              "    <tr>\n",
              "      <th>2</th>\n",
              "      <td>10</td>\n",
              "      <td>1</td>\n",
              "      <td>270</td>\n",
              "      <td>229</td>\n",
              "      <td>83.0</td>\n",
              "      <td>179.5</td>\n",
              "      <td>11.0</td>\n",
              "    </tr>\n",
              "    <tr>\n",
              "      <th>3</th>\n",
              "      <td>11</td>\n",
              "      <td>1</td>\n",
              "      <td>382</td>\n",
              "      <td>149</td>\n",
              "      <td>233.0</td>\n",
              "      <td>179.5</td>\n",
              "      <td>21.0</td>\n",
              "    </tr>\n",
              "    <tr>\n",
              "      <th>4</th>\n",
              "      <td>12</td>\n",
              "      <td>1</td>\n",
              "      <td>1551</td>\n",
              "      <td>127</td>\n",
              "      <td>267.5</td>\n",
              "      <td>179.5</td>\n",
              "      <td>330.0</td>\n",
              "    </tr>\n",
              "  </tbody>\n",
              "</table>\n",
              "</div>"
            ],
            "text/plain": [
              "   customer_id  frequency  monetary  recency  r_rank  f_rank  m_rank\n",
              "0            1          3      1641      203   133.0   560.0   351.0\n",
              "1            7          1      1017      156   215.5   179.5   195.5\n",
              "2           10          1       270      229    83.0   179.5    11.0\n",
              "3           11          1       382      149   233.0   179.5    21.0\n",
              "4           12          1      1551      127   267.5   179.5   330.0"
            ]
          },
          "execution_count": 111,
          "metadata": {},
          "output_type": "execute_result"
        }
      ],
      "source": [
        "rfm_df['r_rank'] = rfm_df['recency'].rank(ascending=False)\n",
        "rfm_df['f_rank'] = rfm_df['frequency'].rank(ascending=True)\n",
        "rfm_df['m_rank'] = rfm_df['monetary'].rank(ascending=True)\n",
        "\n",
        "rfm_df.head()"
      ]
    },
    {
      "cell_type": "code",
      "execution_count": 112,
      "metadata": {
        "colab": {
          "base_uri": "https://localhost:8080/",
          "height": 206
        },
        "id": "LUYojZrV7Hdl",
        "outputId": "9eab3459-8c76-4e15-a4a5-7caedea8e23d"
      },
      "outputs": [
        {
          "data": {
            "text/html": [
              "<div>\n",
              "<style scoped>\n",
              "    .dataframe tbody tr th:only-of-type {\n",
              "        vertical-align: middle;\n",
              "    }\n",
              "\n",
              "    .dataframe tbody tr th {\n",
              "        vertical-align: top;\n",
              "    }\n",
              "\n",
              "    .dataframe thead th {\n",
              "        text-align: right;\n",
              "    }\n",
              "</style>\n",
              "<table border=\"1\" class=\"dataframe\">\n",
              "  <thead>\n",
              "    <tr style=\"text-align: right;\">\n",
              "      <th></th>\n",
              "      <th>customer_id</th>\n",
              "      <th>frequency</th>\n",
              "      <th>monetary</th>\n",
              "      <th>recency</th>\n",
              "      <th>r_rank_norm</th>\n",
              "      <th>f_rank_norm</th>\n",
              "      <th>m_rank_norm</th>\n",
              "    </tr>\n",
              "  </thead>\n",
              "  <tbody>\n",
              "    <tr>\n",
              "      <th>0</th>\n",
              "      <td>1</td>\n",
              "      <td>3</td>\n",
              "      <td>1641</td>\n",
              "      <td>203</td>\n",
              "      <td>21.626016</td>\n",
              "      <td>90.909091</td>\n",
              "      <td>56.980519</td>\n",
              "    </tr>\n",
              "    <tr>\n",
              "      <th>1</th>\n",
              "      <td>7</td>\n",
              "      <td>1</td>\n",
              "      <td>1017</td>\n",
              "      <td>156</td>\n",
              "      <td>35.040650</td>\n",
              "      <td>29.139610</td>\n",
              "      <td>31.737013</td>\n",
              "    </tr>\n",
              "    <tr>\n",
              "      <th>2</th>\n",
              "      <td>10</td>\n",
              "      <td>1</td>\n",
              "      <td>270</td>\n",
              "      <td>229</td>\n",
              "      <td>13.495935</td>\n",
              "      <td>29.139610</td>\n",
              "      <td>1.785714</td>\n",
              "    </tr>\n",
              "    <tr>\n",
              "      <th>3</th>\n",
              "      <td>11</td>\n",
              "      <td>1</td>\n",
              "      <td>382</td>\n",
              "      <td>149</td>\n",
              "      <td>37.886179</td>\n",
              "      <td>29.139610</td>\n",
              "      <td>3.409091</td>\n",
              "    </tr>\n",
              "    <tr>\n",
              "      <th>4</th>\n",
              "      <td>12</td>\n",
              "      <td>1</td>\n",
              "      <td>1551</td>\n",
              "      <td>127</td>\n",
              "      <td>43.495935</td>\n",
              "      <td>29.139610</td>\n",
              "      <td>53.571429</td>\n",
              "    </tr>\n",
              "  </tbody>\n",
              "</table>\n",
              "</div>"
            ],
            "text/plain": [
              "   customer_id  frequency  monetary  recency  r_rank_norm  f_rank_norm  \\\n",
              "0            1          3      1641      203    21.626016    90.909091   \n",
              "1            7          1      1017      156    35.040650    29.139610   \n",
              "2           10          1       270      229    13.495935    29.139610   \n",
              "3           11          1       382      149    37.886179    29.139610   \n",
              "4           12          1      1551      127    43.495935    29.139610   \n",
              "\n",
              "   m_rank_norm  \n",
              "0    56.980519  \n",
              "1    31.737013  \n",
              "2     1.785714  \n",
              "3     3.409091  \n",
              "4    53.571429  "
            ]
          },
          "execution_count": 112,
          "metadata": {},
          "output_type": "execute_result"
        }
      ],
      "source": [
        "# normalizing the rank of the customers\n",
        "rfm_df['r_rank_norm'] = (rfm_df['r_rank']/rfm_df['r_rank'].max())*100\n",
        "rfm_df['f_rank_norm'] = (rfm_df['f_rank']/rfm_df['f_rank'].max())*100\n",
        "rfm_df['m_rank_norm'] = (rfm_df['m_rank']/rfm_df['m_rank'].max())*100\n",
        " \n",
        "rfm_df.drop(columns=['r_rank', 'f_rank', 'm_rank'], inplace=True)\n",
        " \n",
        "rfm_df.head()"
      ]
    },
    {
      "cell_type": "code",
      "execution_count": 113,
      "metadata": {
        "colab": {
          "base_uri": "https://localhost:8080/",
          "height": 269
        },
        "id": "wBT-2w9E8BOz",
        "outputId": "1f0ef6d0-9221-47c8-a1b3-65baddb2e852"
      },
      "outputs": [
        {
          "data": {
            "text/html": [
              "<div>\n",
              "<style scoped>\n",
              "    .dataframe tbody tr th:only-of-type {\n",
              "        vertical-align: middle;\n",
              "    }\n",
              "\n",
              "    .dataframe tbody tr th {\n",
              "        vertical-align: top;\n",
              "    }\n",
              "\n",
              "    .dataframe thead th {\n",
              "        text-align: right;\n",
              "    }\n",
              "</style>\n",
              "<table border=\"1\" class=\"dataframe\">\n",
              "  <thead>\n",
              "    <tr style=\"text-align: right;\">\n",
              "      <th></th>\n",
              "      <th>customer_id</th>\n",
              "      <th>RFM_score</th>\n",
              "    </tr>\n",
              "  </thead>\n",
              "  <tbody>\n",
              "    <tr>\n",
              "      <th>0</th>\n",
              "      <td>1</td>\n",
              "      <td>3.06</td>\n",
              "    </tr>\n",
              "    <tr>\n",
              "      <th>1</th>\n",
              "      <td>7</td>\n",
              "      <td>1.58</td>\n",
              "    </tr>\n",
              "    <tr>\n",
              "      <th>2</th>\n",
              "      <td>10</td>\n",
              "      <td>0.56</td>\n",
              "    </tr>\n",
              "    <tr>\n",
              "      <th>3</th>\n",
              "      <td>11</td>\n",
              "      <td>0.79</td>\n",
              "    </tr>\n",
              "    <tr>\n",
              "      <th>4</th>\n",
              "      <td>12</td>\n",
              "      <td>2.26</td>\n",
              "    </tr>\n",
              "    <tr>\n",
              "      <th>5</th>\n",
              "      <td>13</td>\n",
              "      <td>1.14</td>\n",
              "    </tr>\n",
              "    <tr>\n",
              "      <th>6</th>\n",
              "      <td>15</td>\n",
              "      <td>3.84</td>\n",
              "    </tr>\n",
              "  </tbody>\n",
              "</table>\n",
              "</div>"
            ],
            "text/plain": [
              "   customer_id  RFM_score\n",
              "0            1       3.06\n",
              "1            7       1.58\n",
              "2           10       0.56\n",
              "3           11       0.79\n",
              "4           12       2.26\n",
              "5           13       1.14\n",
              "6           15       3.84"
            ]
          },
          "execution_count": 113,
          "metadata": {},
          "output_type": "execute_result"
        }
      ],
      "source": [
        "rfm_df['RFM_score'] = 0.15*rfm_df['r_rank_norm']+0.28 * \\\n",
        "    rfm_df['f_rank_norm']+0.57*rfm_df['m_rank_norm']\n",
        "rfm_df['RFM_score'] *= 0.05\n",
        "rfm_df = rfm_df.round(2)\n",
        "rfm_df[['customer_id', 'RFM_score']].head(7)"
      ]
    },
    {
      "cell_type": "markdown",
      "metadata": {
        "id": "CyCR2Plq80dh"
      },
      "source": [
        "#### Segmentasi customer berdasarkan RFM_score"
      ]
    },
    {
      "cell_type": "code",
      "execution_count": 114,
      "metadata": {
        "colab": {
          "base_uri": "https://localhost:8080/",
          "height": 676
        },
        "id": "1-3i2KGV9EV6",
        "outputId": "9ffae5a8-e2ae-434f-e533-818af2589121"
      },
      "outputs": [
        {
          "data": {
            "text/html": [
              "<div>\n",
              "<style scoped>\n",
              "    .dataframe tbody tr th:only-of-type {\n",
              "        vertical-align: middle;\n",
              "    }\n",
              "\n",
              "    .dataframe tbody tr th {\n",
              "        vertical-align: top;\n",
              "    }\n",
              "\n",
              "    .dataframe thead th {\n",
              "        text-align: right;\n",
              "    }\n",
              "</style>\n",
              "<table border=\"1\" class=\"dataframe\">\n",
              "  <thead>\n",
              "    <tr style=\"text-align: right;\">\n",
              "      <th></th>\n",
              "      <th>customer_id</th>\n",
              "      <th>RFM_score</th>\n",
              "      <th>customer_segment</th>\n",
              "    </tr>\n",
              "  </thead>\n",
              "  <tbody>\n",
              "    <tr>\n",
              "      <th>0</th>\n",
              "      <td>1</td>\n",
              "      <td>3.06</td>\n",
              "      <td>Medium value customer</td>\n",
              "    </tr>\n",
              "    <tr>\n",
              "      <th>1</th>\n",
              "      <td>7</td>\n",
              "      <td>1.58</td>\n",
              "      <td>lost customers</td>\n",
              "    </tr>\n",
              "    <tr>\n",
              "      <th>2</th>\n",
              "      <td>10</td>\n",
              "      <td>0.56</td>\n",
              "      <td>lost customers</td>\n",
              "    </tr>\n",
              "    <tr>\n",
              "      <th>3</th>\n",
              "      <td>11</td>\n",
              "      <td>0.79</td>\n",
              "      <td>lost customers</td>\n",
              "    </tr>\n",
              "    <tr>\n",
              "      <th>4</th>\n",
              "      <td>12</td>\n",
              "      <td>2.26</td>\n",
              "      <td>Low value customers</td>\n",
              "    </tr>\n",
              "    <tr>\n",
              "      <th>5</th>\n",
              "      <td>13</td>\n",
              "      <td>1.14</td>\n",
              "      <td>lost customers</td>\n",
              "    </tr>\n",
              "    <tr>\n",
              "      <th>6</th>\n",
              "      <td>15</td>\n",
              "      <td>3.84</td>\n",
              "      <td>Medium value customer</td>\n",
              "    </tr>\n",
              "    <tr>\n",
              "      <th>7</th>\n",
              "      <td>16</td>\n",
              "      <td>2.33</td>\n",
              "      <td>Low value customers</td>\n",
              "    </tr>\n",
              "    <tr>\n",
              "      <th>8</th>\n",
              "      <td>18</td>\n",
              "      <td>3.30</td>\n",
              "      <td>Medium value customer</td>\n",
              "    </tr>\n",
              "    <tr>\n",
              "      <th>9</th>\n",
              "      <td>19</td>\n",
              "      <td>1.68</td>\n",
              "      <td>Low value customers</td>\n",
              "    </tr>\n",
              "    <tr>\n",
              "      <th>10</th>\n",
              "      <td>20</td>\n",
              "      <td>3.24</td>\n",
              "      <td>Medium value customer</td>\n",
              "    </tr>\n",
              "    <tr>\n",
              "      <th>11</th>\n",
              "      <td>21</td>\n",
              "      <td>3.88</td>\n",
              "      <td>Medium value customer</td>\n",
              "    </tr>\n",
              "    <tr>\n",
              "      <th>12</th>\n",
              "      <td>22</td>\n",
              "      <td>2.86</td>\n",
              "      <td>Low value customers</td>\n",
              "    </tr>\n",
              "    <tr>\n",
              "      <th>13</th>\n",
              "      <td>23</td>\n",
              "      <td>1.91</td>\n",
              "      <td>Low value customers</td>\n",
              "    </tr>\n",
              "    <tr>\n",
              "      <th>14</th>\n",
              "      <td>25</td>\n",
              "      <td>1.80</td>\n",
              "      <td>Low value customers</td>\n",
              "    </tr>\n",
              "    <tr>\n",
              "      <th>15</th>\n",
              "      <td>26</td>\n",
              "      <td>2.18</td>\n",
              "      <td>Low value customers</td>\n",
              "    </tr>\n",
              "    <tr>\n",
              "      <th>16</th>\n",
              "      <td>27</td>\n",
              "      <td>1.89</td>\n",
              "      <td>Low value customers</td>\n",
              "    </tr>\n",
              "    <tr>\n",
              "      <th>17</th>\n",
              "      <td>28</td>\n",
              "      <td>4.17</td>\n",
              "      <td>High value customer</td>\n",
              "    </tr>\n",
              "    <tr>\n",
              "      <th>18</th>\n",
              "      <td>34</td>\n",
              "      <td>1.69</td>\n",
              "      <td>Low value customers</td>\n",
              "    </tr>\n",
              "    <tr>\n",
              "      <th>19</th>\n",
              "      <td>35</td>\n",
              "      <td>3.26</td>\n",
              "      <td>Medium value customer</td>\n",
              "    </tr>\n",
              "  </tbody>\n",
              "</table>\n",
              "</div>"
            ],
            "text/plain": [
              "    customer_id  RFM_score       customer_segment\n",
              "0             1       3.06  Medium value customer\n",
              "1             7       1.58         lost customers\n",
              "2            10       0.56         lost customers\n",
              "3            11       0.79         lost customers\n",
              "4            12       2.26    Low value customers\n",
              "5            13       1.14         lost customers\n",
              "6            15       3.84  Medium value customer\n",
              "7            16       2.33    Low value customers\n",
              "8            18       3.30  Medium value customer\n",
              "9            19       1.68    Low value customers\n",
              "10           20       3.24  Medium value customer\n",
              "11           21       3.88  Medium value customer\n",
              "12           22       2.86    Low value customers\n",
              "13           23       1.91    Low value customers\n",
              "14           25       1.80    Low value customers\n",
              "15           26       2.18    Low value customers\n",
              "16           27       1.89    Low value customers\n",
              "17           28       4.17    High value customer\n",
              "18           34       1.69    Low value customers\n",
              "19           35       3.26  Medium value customer"
            ]
          },
          "execution_count": 114,
          "metadata": {},
          "output_type": "execute_result"
        }
      ],
      "source": [
        "rfm_df[\"customer_segment\"] = np.where(\n",
        "    rfm_df['RFM_score'] > 4.5, \"Top customers\", (np.where(\n",
        "        rfm_df['RFM_score'] > 4, \"High value customer\",(np.where(\n",
        "            rfm_df['RFM_score'] > 3, \"Medium value customer\", np.where(\n",
        "                rfm_df['RFM_score'] > 1.6, 'Low value customers', 'lost customers'))))))\n",
        "\n",
        "rfm_df[['customer_id', 'RFM_score', 'customer_segment']].head(20)"
      ]
    },
    {
      "cell_type": "code",
      "execution_count": 115,
      "metadata": {
        "colab": {
          "base_uri": "https://localhost:8080/",
          "height": 206
        },
        "id": "xfBZC6Iu_1sM",
        "outputId": "aea595d4-023a-4656-f70d-3a2cc7903c24"
      },
      "outputs": [
        {
          "data": {
            "text/html": [
              "<div>\n",
              "<style scoped>\n",
              "    .dataframe tbody tr th:only-of-type {\n",
              "        vertical-align: middle;\n",
              "    }\n",
              "\n",
              "    .dataframe tbody tr th {\n",
              "        vertical-align: top;\n",
              "    }\n",
              "\n",
              "    .dataframe thead th {\n",
              "        text-align: right;\n",
              "    }\n",
              "</style>\n",
              "<table border=\"1\" class=\"dataframe\">\n",
              "  <thead>\n",
              "    <tr style=\"text-align: right;\">\n",
              "      <th></th>\n",
              "      <th>customer_segment</th>\n",
              "      <th>customer_id</th>\n",
              "    </tr>\n",
              "  </thead>\n",
              "  <tbody>\n",
              "    <tr>\n",
              "      <th>0</th>\n",
              "      <td>High value customer</td>\n",
              "      <td>50</td>\n",
              "    </tr>\n",
              "    <tr>\n",
              "      <th>1</th>\n",
              "      <td>Low value customers</td>\n",
              "      <td>204</td>\n",
              "    </tr>\n",
              "    <tr>\n",
              "      <th>2</th>\n",
              "      <td>Medium value customer</td>\n",
              "      <td>137</td>\n",
              "    </tr>\n",
              "    <tr>\n",
              "      <th>3</th>\n",
              "      <td>Top customers</td>\n",
              "      <td>35</td>\n",
              "    </tr>\n",
              "    <tr>\n",
              "      <th>4</th>\n",
              "      <td>lost customers</td>\n",
              "      <td>190</td>\n",
              "    </tr>\n",
              "  </tbody>\n",
              "</table>\n",
              "</div>"
            ],
            "text/plain": [
              "        customer_segment  customer_id\n",
              "0    High value customer           50\n",
              "1    Low value customers          204\n",
              "2  Medium value customer          137\n",
              "3          Top customers           35\n",
              "4         lost customers          190"
            ]
          },
          "execution_count": 115,
          "metadata": {},
          "output_type": "execute_result"
        }
      ],
      "source": [
        "customer_segment_df = rfm_df.groupby(by=\"customer_segment\", as_index=False).customer_id.nunique()\n",
        "customer_segment_df"
      ]
    },
    {
      "cell_type": "code",
      "execution_count": 116,
      "metadata": {
        "id": "2yNIrEbBBB_L"
      },
      "outputs": [],
      "source": [
        "customer_segment_df['customer_segment'] = pd.Categorical(customer_segment_df['customer_segment'], [\n",
        "    \"lost customers\", \"Low value customers\", \"Medium value customer\",\n",
        "    \"High value customer\", \"Top customers\"\n",
        "])"
      ]
    },
    {
      "cell_type": "code",
      "execution_count": 117,
      "metadata": {
        "colab": {
          "base_uri": "https://localhost:8080/",
          "height": 338
        },
        "id": "IOh9P2StAVfM",
        "outputId": "8b9c9a3c-d61f-4f81-e384-a02516f11b39"
      },
      "outputs": [
        {
          "data": {
            "image/png": "[encoded data removed]",
            "text/plain": [
              "<Figure size 1000x500 with 1 Axes>"
            ]
          },
          "metadata": {},
          "output_type": "display_data"
        }
      ],
      "source": [
        "plt.figure(figsize=(10, 5))\n",
        "colors_ = [\"#72BCD4\", \"#72BCD4\", \"#D3D3D3\", \"#D3D3D3\", \"#D3D3D3\"]\n",
        "\n",
        "sns.barplot(\n",
        "    x=\"customer_id\", \n",
        "    y=\"customer_segment\",\n",
        "    data=customer_segment_df.sort_values(by=\"customer_segment\", ascending=False),\n",
        "    palette=colors_\n",
        ")\n",
        "plt.title(\"Number of Customer for Each Segment\", loc=\"center\", fontsize=15)\n",
        "plt.ylabel(None)\n",
        "plt.xlabel(None)\n",
        "plt.tick_params(axis='y', labelsize=12)\n",
        "plt.show()"
      ]
    },
    {
      "cell_type": "code",
      "execution_count": null,
      "metadata": {
        "id": "prDoPqnbaIkR"
      },
      "outputs": [],
      "source": []
    }
  ],
  "metadata": {
    "colab": {
      "authorship_tag": "ABX9TyP8wVyd7NyDuWTt/h4ecsvg",
      "include_colab_link": true,
      "provenance": []
    },
    "kernelspec": {
      "display_name": "base",
      "language": "python",
      "name": "python3"
    },
    "language_info": {
      "codemirror_mode": {
        "name": "ipython",
        "version": 3
      },
      "file_extension": ".py",
      "mimetype": "text/x-python",
      "name": "python",
      "nbconvert_exporter": "python",
      "pygments_lexer": "ipython3",
      "version": "3.12.9"
    }
  },
  "nbformat": 4,
  "nbformat_minor": 0
}
